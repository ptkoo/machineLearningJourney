{
  "nbformat": 4,
  "nbformat_minor": 0,
  "metadata": {
    "colab": {
      "provenance": [],
      "include_colab_link": true
    },
    "kernelspec": {
      "name": "python3",
      "display_name": "Python 3"
    },
    "language_info": {
      "name": "python"
    }
  },
  "cells": [
    {
      "cell_type": "markdown",
      "metadata": {
        "id": "view-in-github",
        "colab_type": "text"
      },
      "source": [
        "<a href=\"https://colab.research.google.com/github/ptkoo/machineLearningJourney/blob/main/KNN_65011416_(_Paing_Thet_Ko_)_(1).ipynb\" target=\"_parent\"><img src=\"https://colab.research.google.com/assets/colab-badge.svg\" alt=\"Open In Colab\"/></a>"
      ]
    },
    {
      "cell_type": "code",
      "execution_count": 100,
      "metadata": {
        "id": "1rXGDKzSf_CN"
      },
      "outputs": [],
      "source": [
        "import numpy as np\n",
        "import pandas as pd\n",
        "import matplotlib.pyplot as plt\n",
        "import random\n",
        "import math"
      ]
    },
    {
      "cell_type": "code",
      "source": [
        "np.random.seed(42)\n",
        "\n",
        "num_samples = 40\n",
        "\n",
        "# Class 0 data\n",
        "x_1 = np.random.multivariate_normal([2, 2], [[1, .75],[.75, 1]], num_samples)\n",
        "y_1 = np.zeros(num_samples)\n",
        "\n",
        "# Class 1 data\n",
        "x_2 = np.random.multivariate_normal([-1, -1], [[1, .75],[.75, 1]], num_samples)\n",
        "y_2 = np.ones(num_samples)\n",
        "\n",
        "# Class 2 data\n",
        "x_3 = np.random.multivariate_normal([3, -2], [[1, 0],[-.5, 1]], num_samples)\n",
        "y_3 = np.ones(num_samples)+1\n",
        "\n",
        "# Combining the data\n",
        "X = np.vstack((x_1, x_2, x_3))\n",
        "y = np.hstack((y_1, y_2, y_3))\n",
        "print(y)"
      ],
      "metadata": {
        "colab": {
          "base_uri": "https://localhost:8080/"
        },
        "id": "hGRXAbFPXViy",
        "outputId": "a1930bab-b7b0-45ff-82fe-0d24b8842b2a"
      },
      "execution_count": 101,
      "outputs": [
        {
          "output_type": "stream",
          "name": "stdout",
          "text": [
            "[0. 0. 0. 0. 0. 0. 0. 0. 0. 0. 0. 0. 0. 0. 0. 0. 0. 0. 0. 0. 0. 0. 0. 0.\n",
            " 0. 0. 0. 0. 0. 0. 0. 0. 0. 0. 0. 0. 0. 0. 0. 0. 1. 1. 1. 1. 1. 1. 1. 1.\n",
            " 1. 1. 1. 1. 1. 1. 1. 1. 1. 1. 1. 1. 1. 1. 1. 1. 1. 1. 1. 1. 1. 1. 1. 1.\n",
            " 1. 1. 1. 1. 1. 1. 1. 1. 2. 2. 2. 2. 2. 2. 2. 2. 2. 2. 2. 2. 2. 2. 2. 2.\n",
            " 2. 2. 2. 2. 2. 2. 2. 2. 2. 2. 2. 2. 2. 2. 2. 2. 2. 2. 2. 2. 2. 2. 2. 2.]\n"
          ]
        },
        {
          "output_type": "stream",
          "name": "stderr",
          "text": [
            "<ipython-input-101-dc66c610216e>:14: RuntimeWarning: covariance is not symmetric positive-semidefinite.\n",
            "  x_3 = np.random.multivariate_normal([3, -2], [[1, 0],[-.5, 1]], num_samples)\n"
          ]
        }
      ]
    },
    {
      "cell_type": "code",
      "source": [
        "plt.figure(figsize=(5,3))\n",
        "plt.scatter(x_1[:,0], x_1[:,1], color='red', label='Class 0')\n",
        "plt.scatter(x_2[:,0], x_2[:,1], color='blue', label='Class 1')\n",
        "plt.scatter(x_3[:,0], x_3[:,1], color='green', label='Class 2')\n",
        "\n",
        "plt.xlabel('Feature 1')\n",
        "plt.ylabel('Feature 2')\n",
        "plt.title('Plot of data set to see the two classes.')\n",
        "plt.legend()\n",
        "plt.show()"
      ],
      "metadata": {
        "colab": {
          "base_uri": "https://localhost:8080/",
          "height": 333
        },
        "id": "BolkfDjIcmn_",
        "outputId": "acc9e5a8-a980-4e68-fb74-277fa20a3358"
      },
      "execution_count": 102,
      "outputs": [
        {
          "output_type": "display_data",
          "data": {
            "text/plain": [
              "<Figure size 500x300 with 1 Axes>"
            ],
            "image/png": "[encoded data removed]"
          },
          "metadata": {}
        }
      ]
    },
    {
      "cell_type": "code",
      "source": [
        "y_reshaped = y.reshape(-1, 1)  #changing row to column matrix\n",
        "\n",
        "# Concatenate X and y column-wise\n",
        "concatenated = np.concatenate((X, y_reshaped), axis=1) #make new matrix containing both x and y. Axis 1 means hstack\n",
        "print(concatenated)"
      ],
      "metadata": {
        "id": "G3z0gBeteWdy",
        "colab": {
          "base_uri": "https://localhost:8080/"
        },
        "outputId": "4b2af670-a6b7-4001-befb-e16ae22d9438"
      },
      "execution_count": 103,
      "outputs": [
        {
          "output_type": "stream",
          "name": "stdout",
          "text": [
            "[[ 1.58425027  1.48648264  0.        ]\n",
            " [ 0.85567048  1.93261522  0.        ]\n",
            " [ 2.30181034  2.13625051  0.        ]\n",
            " [ 0.25145253  0.79411083  0.        ]\n",
            " [ 2.24732913  2.63097702  0.        ]\n",
            " [ 2.59814789  2.26882722  0.        ]\n",
            " [ 2.45011174  1.0972183   0.        ]\n",
            " [ 3.81231155  3.41471422  0.        ]\n",
            " [ 2.83631355  3.05851997  0.        ]\n",
            " [ 3.34870351  2.35005399  0.        ]\n",
            " [ 0.70883509  0.54918714  0.        ]\n",
            " [ 2.4405577   1.4331086   0.        ]\n",
            " [ 2.47000635  2.54844047  0.        ]\n",
            " [ 2.9438266   3.20948521  0.        ]\n",
            " [ 2.66497536  2.45871673  0.        ]\n",
            " [ 1.90796577  3.21772423  0.        ]\n",
            " [ 2.38658278  1.63866821  0.        ]\n",
            " [ 1.6622131   0.79894628  0.        ]\n",
            " [ 2.49747401  1.11177798  0.        ]\n",
            " [ 3.17280333  3.31200524  0.        ]\n",
            " [ 1.24863993  1.3698156   0.        ]\n",
            " [ 2.2146353   2.00172283  0.        ]\n",
            " [ 3.63753404  3.12852732  0.        ]\n",
            " [ 2.05713897  2.80463726  0.        ]\n",
            " [ 2.30190335  1.0552457   0.        ]\n",
            " [ 1.83299435  1.56070006  0.        ]\n",
            " [ 2.41694232  2.84946278  0.        ]\n",
            " [ 0.70633101  1.3648455   0.        ]\n",
            " [ 2.8943392   2.67569303  0.        ]\n",
            " [ 1.34522415  2.03503872  0.        ]\n",
            " [ 2.51386682  2.3825861   0.        ]\n",
            " [ 3.45780451  2.6119587   0.        ]\n",
            " [ 0.76044843  1.71945495  0.        ]\n",
            " [ 1.71255684  2.42216176  0.        ]\n",
            " [ 1.88980475  1.4336362   0.        ]\n",
            " [ 1.11816732  2.20572341  0.        ]\n",
            " [ 1.48032712  2.58669726  0.        ]\n",
            " [ 4.15996074  4.74113357  0.        ]\n",
            " [ 2.02428999  1.81285986  0.        ]\n",
            " [ 2.61687738  1.21145392  0.        ]\n",
            " [-0.92077413 -0.6682574   1.        ]\n",
            " [-2.1992071  -2.56567949  1.        ]\n",
            " [-0.06632558 -0.42112139  1.        ]\n",
            " [-1.97251134 -1.7400492   1.        ]\n",
            " [-0.68592215 -0.32298726  1.        ]\n",
            " [-1.43327545 -0.74834001  1.        ]\n",
            " [-0.2274434  -0.45913553  1.        ]\n",
            " [-0.11578574 -1.15064708  1.        ]\n",
            " [-1.36929213 -1.18469818  1.        ]\n",
            " [-0.92184412 -1.08772228  1.        ]\n",
            " [ 0.47267868  0.17523752  1.        ]\n",
            " [-0.39577208 -0.96306777  1.        ]\n",
            " [-0.99198458 -0.70627748  1.        ]\n",
            " [-2.82608793 -2.70264277  1.        ]\n",
            " [-1.21459572 -1.26723694  1.        ]\n",
            " [ 0.80422019  0.78547205  1.        ]\n",
            " [-1.9272278  -0.1854526   1.        ]\n",
            " [-0.92667588 -0.71344971  1.        ]\n",
            " [-0.55434003 -1.3807202   1.        ]\n",
            " [-2.33486133 -1.80316438  1.        ]\n",
            " [-1.41842561 -2.06145965  1.        ]\n",
            " [-1.81656473 -2.80782312  1.        ]\n",
            " [-2.32339756 -0.77451153  1.        ]\n",
            " [ 0.12677837 -0.27365459  1.        ]\n",
            " [-0.91520979 -1.27122084  1.        ]\n",
            " [ 0.42627215  0.47475349  1.        ]\n",
            " [-0.17374608  0.16113434  1.        ]\n",
            " [-0.68794194  0.40802718  1.        ]\n",
            " [-0.15346769 -0.38119957  1.        ]\n",
            " [-1.32579942 -2.19615193  1.        ]\n",
            " [-1.67491404 -0.75062453  1.        ]\n",
            " [ 0.43838495  0.56894081  1.        ]\n",
            " [-1.51951422 -0.96668197  1.        ]\n",
            " [ 0.62391335 -0.30979047  1.        ]\n",
            " [-1.59323157 -1.38323169  1.        ]\n",
            " [-1.35680255 -1.11182667  1.        ]\n",
            " [-0.4460092  -0.28178104  1.        ]\n",
            " [-1.02158283 -1.52670556  1.        ]\n",
            " [-2.91279748 -2.57774701  1.        ]\n",
            " [-0.11776437  0.34648914  1.        ]\n",
            " [ 4.29744553 -2.13065584  2.        ]\n",
            " [ 1.52022899 -1.76465336  2.        ]\n",
            " [ 2.36511149 -1.04154712  2.        ]\n",
            " [ 3.29815623 -0.10639881  2.        ]\n",
            " [ 2.80901934 -2.69586065  2.        ]\n",
            " [ 3.34983972 -3.18770847  2.        ]\n",
            " [ 3.25429078 -1.81609676  2.        ]\n",
            " [ 3.20299757 -1.23118422  2.        ]\n",
            " [ 3.77881609 -0.97860086  2.        ]\n",
            " [ 4.71527477 -0.28980793  2.        ]\n",
            " [ 1.97577848 -2.16122612  2.        ]\n",
            " [ 4.21762342 -2.40981727  2.        ]\n",
            " [ 3.58759871 -1.65835492  2.        ]\n",
            " [ 2.53825765 -1.72112712  2.        ]\n",
            " [ 2.93160411 -3.64481341  2.        ]\n",
            " [ 3.86400084 -1.71452797  2.        ]\n",
            " [ 2.13160591 -2.7185104   2.        ]\n",
            " [ 3.0550495  -1.61102237  2.        ]\n",
            " [ 3.87201506 -2.50851568  2.        ]\n",
            " [ 2.32654319 -2.75550451  2.        ]\n",
            " [ 2.9857932  -1.36024172  2.        ]\n",
            " [ 2.60693799 -0.51174457  2.        ]\n",
            " [ 3.71893506 -3.6126737   2.        ]\n",
            " [ 2.81996718 -1.2834563   2.        ]\n",
            " [ 4.63563391  1.04202964  2.        ]\n",
            " [ 3.10825922 -0.81150352  2.        ]\n",
            " [ 2.50322703 -0.88189102  2.        ]\n",
            " [ 3.69394563 -1.69097603  2.        ]\n",
            " [ 3.56059885 -2.7031872   2.        ]\n",
            " [ 3.47747764 -2.2810185   2.        ]\n",
            " [-0.08012484 -1.68840368  2.        ]\n",
            " [ 1.51086489 -2.64524911  2.        ]\n",
            " [ 4.01313215 -1.57026461  2.        ]\n",
            " [ 2.35659629 -2.70584837  2.        ]\n",
            " [ 4.00762437 -2.02486815  2.        ]\n",
            " [ 3.76921142 -2.35792183  2.        ]\n",
            " [ 2.60501656 -2.42208102  2.        ]\n",
            " [ 1.43226983 -0.0653001   2.        ]\n",
            " [ 4.90786549 -3.28059226  2.        ]\n",
            " [ 4.05387163 -1.86722007  2.        ]]\n"
          ]
        }
      ]
    },
    {
      "cell_type": "markdown",
      "source": [],
      "metadata": {
        "id": "RR0f7Z8FjSl_"
      }
    },
    {
      "cell_type": "code",
      "source": [
        "df = pd.DataFrame(concatenated, columns=['Feature1', 'Feature2', 'Target'])\n",
        "df"
      ],
      "metadata": {
        "id": "VBiwGGw9d0EF",
        "colab": {
          "base_uri": "https://localhost:8080/",
          "height": 423
        },
        "outputId": "e6c3f4b8-0bed-41c3-b099-860588d35181"
      },
      "execution_count": 104,
      "outputs": [
        {
          "output_type": "execute_result",
          "data": {
            "text/plain": [
              "     Feature1  Feature2  Target\n",
              "0    1.584250  1.486483     0.0\n",
              "1    0.855670  1.932615     0.0\n",
              "2    2.301810  2.136251     0.0\n",
              "3    0.251453  0.794111     0.0\n",
              "4    2.247329  2.630977     0.0\n",
              "..        ...       ...     ...\n",
              "115  3.769211 -2.357922     2.0\n",
              "116  2.605017 -2.422081     2.0\n",
              "117  1.432270 -0.065300     2.0\n",
              "118  4.907865 -3.280592     2.0\n",
              "119  4.053872 -1.867220     2.0\n",
              "\n",
              "[120 rows x 3 columns]"
            ],
            "text/html": [
              "\n",
              "  <div id=\"df-fc5aee82-0b38-4889-aac0-abdca453b0e0\" class=\"colab-df-container\">\n",
              "    <div>\n",
              "<style scoped>\n",
              "    .dataframe tbody tr th:only-of-type {\n",
              "        vertical-align: middle;\n",
              "    }\n",
              "\n",
              "    .dataframe tbody tr th {\n",
              "        vertical-align: top;\n",
              "    }\n",
              "\n",
              "    .dataframe thead th {\n",
              "        text-align: right;\n",
              "    }\n",
              "</style>\n",
              "<table border=\"1\" class=\"dataframe\">\n",
              "  <thead>\n",
              "    <tr style=\"text-align: right;\">\n",
              "      <th></th>\n",
              "      <th>Feature1</th>\n",
              "      <th>Feature2</th>\n",
              "      <th>Target</th>\n",
              "    </tr>\n",
              "  </thead>\n",
              "  <tbody>\n",
              "    <tr>\n",
              "      <th>0</th>\n",
              "      <td>1.584250</td>\n",
              "      <td>1.486483</td>\n",
              "      <td>0.0</td>\n",
              "    </tr>\n",
              "    <tr>\n",
              "      <th>1</th>\n",
              "      <td>0.855670</td>\n",
              "      <td>1.932615</td>\n",
              "      <td>0.0</td>\n",
              "    </tr>\n",
              "    <tr>\n",
              "      <th>2</th>\n",
              "      <td>2.301810</td>\n",
              "      <td>2.136251</td>\n",
              "      <td>0.0</td>\n",
              "    </tr>\n",
              "    <tr>\n",
              "      <th>3</th>\n",
              "      <td>0.251453</td>\n",
              "      <td>0.794111</td>\n",
              "      <td>0.0</td>\n",
              "    </tr>\n",
              "    <tr>\n",
              "      <th>4</th>\n",
              "      <td>2.247329</td>\n",
              "      <td>2.630977</td>\n",
              "      <td>0.0</td>\n",
              "    </tr>\n",
              "    <tr>\n",
              "      <th>...</th>\n",
              "      <td>...</td>\n",
              "      <td>...</td>\n",
              "      <td>...</td>\n",
              "    </tr>\n",
              "    <tr>\n",
              "      <th>115</th>\n",
              "      <td>3.769211</td>\n",
              "      <td>-2.357922</td>\n",
              "      <td>2.0</td>\n",
              "    </tr>\n",
              "    <tr>\n",
              "      <th>116</th>\n",
              "      <td>2.605017</td>\n",
              "      <td>-2.422081</td>\n",
              "      <td>2.0</td>\n",
              "    </tr>\n",
              "    <tr>\n",
              "      <th>117</th>\n",
              "      <td>1.432270</td>\n",
              "      <td>-0.065300</td>\n",
              "      <td>2.0</td>\n",
              "    </tr>\n",
              "    <tr>\n",
              "      <th>118</th>\n",
              "      <td>4.907865</td>\n",
              "      <td>-3.280592</td>\n",
              "      <td>2.0</td>\n",
              "    </tr>\n",
              "    <tr>\n",
              "      <th>119</th>\n",
              "      <td>4.053872</td>\n",
              "      <td>-1.867220</td>\n",
              "      <td>2.0</td>\n",
              "    </tr>\n",
              "  </tbody>\n",
              "</table>\n",
              "<p>120 rows × 3 columns</p>\n",
              "</div>\n",
              "    <div class=\"colab-df-buttons\">\n",
              "\n",
              "  <div class=\"colab-df-container\">\n",
              "    <button class=\"colab-df-convert\" onclick=\"convertToInteractive('df-fc5aee82-0b38-4889-aac0-abdca453b0e0')\"\n",
              "            title=\"Convert this dataframe to an interactive table.\"\n",
              "            style=\"display:none;\">\n",
              "\n",
              "  <svg xmlns=\"http://www.w3.org/2000/svg\" height=\"24px\" viewBox=\"0 -960 960 960\">\n",
              "    <path d=\"M120-120v-720h720v720H120Zm60-500h600v-160H180v160Zm220 220h160v-160H400v160Zm0 220h160v-160H400v160ZM180-400h160v-160H180v160Zm440 0h160v-160H620v160ZM180-180h160v-160H180v160Zm440 0h160v-160H620v160Z\"/>\n",
              "  </svg>\n",
              "    </button>\n",
              "\n",
              "  <style>\n",
              "    .colab-df-container {\n",
              "      display:flex;\n",
              "      gap: 12px;\n",
              "    }\n",
              "\n",
              "    .colab-df-convert {\n",
              "      background-color: #E8F0FE;\n",
              "      border: none;\n",
              "      border-radius: 50%;\n",
              "      cursor: pointer;\n",
              "      display: none;\n",
              "      fill: #1967D2;\n",
              "      height: 32px;\n",
              "      padding: 0 0 0 0;\n",
              "      width: 32px;\n",
              "    }\n",
              "\n",
              "    .colab-df-convert:hover {\n",
              "      background-color: #E2EBFA;\n",
              "      box-shadow: 0px 1px 2px rgba(60, 64, 67, 0.3), 0px 1px 3px 1px rgba(60, 64, 67, 0.15);\n",
              "      fill: #174EA6;\n",
              "    }\n",
              "\n",
              "    .colab-df-buttons div {\n",
              "      margin-bottom: 4px;\n",
              "    }\n",
              "\n",
              "    [theme=dark] .colab-df-convert {\n",
              "      background-color: #3B4455;\n",
              "      fill: #D2E3FC;\n",
              "    }\n",
              "\n",
              "    [theme=dark] .colab-df-convert:hover {\n",
              "      background-color: #434B5C;\n",
              "      box-shadow: 0px 1px 3px 1px rgba(0, 0, 0, 0.15);\n",
              "      filter: drop-shadow(0px 1px 2px rgba(0, 0, 0, 0.3));\n",
              "      fill: #FFFFFF;\n",
              "    }\n",
              "  </style>\n",
              "\n",
              "    <script>\n",
              "      const buttonEl =\n",
              "        document.querySelector('#df-fc5aee82-0b38-4889-aac0-abdca453b0e0 button.colab-df-convert');\n",
              "      buttonEl.style.display =\n",
              "        google.colab.kernel.accessAllowed ? 'block' : 'none';\n",
              "\n",
              "      async function convertToInteractive(key) {\n",
              "        const element = document.querySelector('#df-fc5aee82-0b38-4889-aac0-abdca453b0e0');\n",
              "        const dataTable =\n",
              "          await google.colab.kernel.invokeFunction('convertToInteractive',\n",
              "                                                    [key], {});\n",
              "        if (!dataTable) return;\n",
              "\n",
              "        const docLinkHtml = 'Like what you see? Visit the ' +\n",
              "          '<a target=\"_blank\" href=https://colab.research.google.com/notebooks/data_table.ipynb>data table notebook</a>'\n",
              "          + ' to learn more about interactive tables.';\n",
              "        element.innerHTML = '';\n",
              "        dataTable['output_type'] = 'display_data';\n",
              "        await google.colab.output.renderOutput(dataTable, element);\n",
              "        const docLink = document.createElement('div');\n",
              "        docLink.innerHTML = docLinkHtml;\n",
              "        element.appendChild(docLink);\n",
              "      }\n",
              "    </script>\n",
              "  </div>\n",
              "\n",
              "\n",
              "<div id=\"df-93e044df-6ac0-4270-aea1-9ffc2d9a93f5\">\n",
              "  <button class=\"colab-df-quickchart\" onclick=\"quickchart('df-93e044df-6ac0-4270-aea1-9ffc2d9a93f5')\"\n",
              "            title=\"Suggest charts\"\n",
              "            style=\"display:none;\">\n",
              "\n",
              "<svg xmlns=\"http://www.w3.org/2000/svg\" height=\"24px\"viewBox=\"0 0 24 24\"\n",
              "     width=\"24px\">\n",
              "    <g>\n",
              "        <path d=\"M19 3H5c-1.1 0-2 .9-2 2v14c0 1.1.9 2 2 2h14c1.1 0 2-.9 2-2V5c0-1.1-.9-2-2-2zM9 17H7v-7h2v7zm4 0h-2V7h2v10zm4 0h-2v-4h2v4z\"/>\n",
              "    </g>\n",
              "</svg>\n",
              "  </button>\n",
              "\n",
              "<style>\n",
              "  .colab-df-quickchart {\n",
              "      --bg-color: #E8F0FE;\n",
              "      --fill-color: #1967D2;\n",
              "      --hover-bg-color: #E2EBFA;\n",
              "      --hover-fill-color: #174EA6;\n",
              "      --disabled-fill-color: #AAA;\n",
              "      --disabled-bg-color: #DDD;\n",
              "  }\n",
              "\n",
              "  [theme=dark] .colab-df-quickchart {\n",
              "      --bg-color: #3B4455;\n",
              "      --fill-color: #D2E3FC;\n",
              "      --hover-bg-color: #434B5C;\n",
              "      --hover-fill-color: #FFFFFF;\n",
              "      --disabled-bg-color: #3B4455;\n",
              "      --disabled-fill-color: #666;\n",
              "  }\n",
              "\n",
              "  .colab-df-quickchart {\n",
              "    background-color: var(--bg-color);\n",
              "    border: none;\n",
              "    border-radius: 50%;\n",
              "    cursor: pointer;\n",
              "    display: none;\n",
              "    fill: var(--fill-color);\n",
              "    height: 32px;\n",
              "    padding: 0;\n",
              "    width: 32px;\n",
              "  }\n",
              "\n",
              "  .colab-df-quickchart:hover {\n",
              "    background-color: var(--hover-bg-color);\n",
              "    box-shadow: 0 1px 2px rgba(60, 64, 67, 0.3), 0 1px 3px 1px rgba(60, 64, 67, 0.15);\n",
              "    fill: var(--button-hover-fill-color);\n",
              "  }\n",
              "\n",
              "  .colab-df-quickchart-complete:disabled,\n",
              "  .colab-df-quickchart-complete:disabled:hover {\n",
              "    background-color: var(--disabled-bg-color);\n",
              "    fill: var(--disabled-fill-color);\n",
              "    box-shadow: none;\n",
              "  }\n",
              "\n",
              "  .colab-df-spinner {\n",
              "    border: 2px solid var(--fill-color);\n",
              "    border-color: transparent;\n",
              "    border-bottom-color: var(--fill-color);\n",
              "    animation:\n",
              "      spin 1s steps(1) infinite;\n",
              "  }\n",
              "\n",
              "  @keyframes spin {\n",
              "    0% {\n",
              "      border-color: transparent;\n",
              "      border-bottom-color: var(--fill-color);\n",
              "      border-left-color: var(--fill-color);\n",
              "    }\n",
              "    20% {\n",
              "      border-color: transparent;\n",
              "      border-left-color: var(--fill-color);\n",
              "      border-top-color: var(--fill-color);\n",
              "    }\n",
              "    30% {\n",
              "      border-color: transparent;\n",
              "      border-left-color: var(--fill-color);\n",
              "      border-top-color: var(--fill-color);\n",
              "      border-right-color: var(--fill-color);\n",
              "    }\n",
              "    40% {\n",
              "      border-color: transparent;\n",
              "      border-right-color: var(--fill-color);\n",
              "      border-top-color: var(--fill-color);\n",
              "    }\n",
              "    60% {\n",
              "      border-color: transparent;\n",
              "      border-right-color: var(--fill-color);\n",
              "    }\n",
              "    80% {\n",
              "      border-color: transparent;\n",
              "      border-right-color: var(--fill-color);\n",
              "      border-bottom-color: var(--fill-color);\n",
              "    }\n",
              "    90% {\n",
              "      border-color: transparent;\n",
              "      border-bottom-color: var(--fill-color);\n",
              "    }\n",
              "  }\n",
              "</style>\n",
              "\n",
              "  <script>\n",
              "    async function quickchart(key) {\n",
              "      const quickchartButtonEl =\n",
              "        document.querySelector('#' + key + ' button');\n",
              "      quickchartButtonEl.disabled = true;  // To prevent multiple clicks.\n",
              "      quickchartButtonEl.classList.add('colab-df-spinner');\n",
              "      try {\n",
              "        const charts = await google.colab.kernel.invokeFunction(\n",
              "            'suggestCharts', [key], {});\n",
              "      } catch (error) {\n",
              "        console.error('Error during call to suggestCharts:', error);\n",
              "      }\n",
              "      quickchartButtonEl.classList.remove('colab-df-spinner');\n",
              "      quickchartButtonEl.classList.add('colab-df-quickchart-complete');\n",
              "    }\n",
              "    (() => {\n",
              "      let quickchartButtonEl =\n",
              "        document.querySelector('#df-93e044df-6ac0-4270-aea1-9ffc2d9a93f5 button');\n",
              "      quickchartButtonEl.style.display =\n",
              "        google.colab.kernel.accessAllowed ? 'block' : 'none';\n",
              "    })();\n",
              "  </script>\n",
              "</div>\n",
              "    </div>\n",
              "  </div>\n"
            ],
            "application/vnd.google.colaboratory.intrinsic+json": {
              "type": "dataframe",
              "variable_name": "df",
              "summary": "{\n  \"name\": \"df\",\n  \"rows\": 120,\n  \"fields\": [\n    {\n      \"column\": \"Feature1\",\n      \"properties\": {\n        \"dtype\": \"number\",\n        \"std\": 1.9849423978036393,\n        \"min\": -2.9127974811829067,\n        \"max\": 4.907865485152293,\n        \"num_unique_values\": 120,\n        \"samples\": [\n          -0.685922146347381,\n          -0.11578573600864395,\n          2.2473291329984164\n        ],\n        \"semantic_type\": \"\",\n        \"description\": \"\"\n      }\n    },\n    {\n      \"column\": \"Feature2\",\n      \"properties\": {\n        \"dtype\": \"number\",\n        \"std\": 1.9364855250352022,\n        \"min\": -3.644813405391452,\n        \"max\": 4.741133572204529,\n        \"num_unique_values\": 120,\n        \"samples\": [\n          -0.3229872638307143,\n          -1.1506470802007434,\n          2.630977019018921\n        ],\n        \"semantic_type\": \"\",\n        \"description\": \"\"\n      }\n    },\n    {\n      \"column\": \"Target\",\n      \"properties\": {\n        \"dtype\": \"number\",\n        \"std\": 0.8199200616907878,\n        \"min\": 0.0,\n        \"max\": 2.0,\n        \"num_unique_values\": 3,\n        \"samples\": [\n          0.0,\n          1.0,\n          2.0\n        ],\n        \"semantic_type\": \"\",\n        \"description\": \"\"\n      }\n    }\n  ]\n}"
            }
          },
          "metadata": {},
          "execution_count": 104
        }
      ]
    },
    {
      "cell_type": "code",
      "source": [
        "from sklearn.model_selection import train_test_split\n",
        "\n",
        "# Features and target\n",
        "y = df['Target']  # Series with the target variable\n",
        "X = df[['Feature1', 'Feature2' ]]\n",
        "\n",
        "# Split the data into training and testing sets\n",
        "df_X_train, df_X_test, df_y_train, df_y_test = train_test_split(X, y, test_size=0.2, random_state=42)"
      ],
      "metadata": {
        "id": "YHQajbXien1B"
      },
      "execution_count": 105,
      "outputs": []
    },
    {
      "cell_type": "code",
      "source": [
        "X_test = df_X_test.to_numpy()\n",
        "y_test = df_y_test.to_numpy()\n",
        "X_train = df_X_train.to_numpy()\n",
        "y_train = df_y_train.to_numpy()"
      ],
      "metadata": {
        "id": "gqOS39yBqrBn"
      },
      "execution_count": 106,
      "outputs": []
    },
    {
      "cell_type": "code",
      "source": [
        "unique_classes = set(y.to_numpy())\n",
        "unique_classes"
      ],
      "metadata": {
        "colab": {
          "base_uri": "https://localhost:8080/"
        },
        "id": "jYwBmi8s29rL",
        "outputId": "eb1c28ff-6d97-4cad-ee2e-afd97a2f2903"
      },
      "execution_count": 107,
      "outputs": [
        {
          "output_type": "execute_result",
          "data": {
            "text/plain": [
              "{0.0, 1.0, 2.0}"
            ]
          },
          "metadata": {},
          "execution_count": 107
        }
      ]
    },
    {
      "cell_type": "code",
      "source": [
        "y_train_reshaped = y_train.reshape(-1, 1)\n",
        "\n",
        "# Concatenate X and y column-wise\n",
        "concatenated_train = np.concatenate((X_train, y_train_reshaped), axis=1)\n",
        "# print(concatenated_train)"
      ],
      "metadata": {
        "id": "D2bg-Znp1pJp"
      },
      "execution_count": 108,
      "outputs": []
    },
    {
      "cell_type": "markdown",
      "source": [
        "## Section 1: KNN with Euclidean Distance"
      ],
      "metadata": {
        "id": "ot7oPQRQJ5vX"
      }
    },
    {
      "cell_type": "code",
      "source": [
        "i = 0\n",
        "feature1 = X_test[i][0]\n",
        "feature2 = X_test[i][1]\n",
        "feature1"
      ],
      "metadata": {
        "id": "6UlCkOv5rxSS",
        "colab": {
          "base_uri": "https://localhost:8080/"
        },
        "outputId": "4b035c3a-633f-487b-c453-aaec07e3a9ea"
      },
      "execution_count": 109,
      "outputs": [
        {
          "output_type": "execute_result",
          "data": {
            "text/plain": [
              "-0.685922146347381"
            ]
          },
          "metadata": {},
          "execution_count": 109
        }
      ]
    },
    {
      "cell_type": "code",
      "source": [
        "#concatenated_train\n"
      ],
      "metadata": {
        "id": "h2SqQUPtR74Y"
      },
      "execution_count": 110,
      "outputs": []
    },
    {
      "cell_type": "code",
      "source": [
        "def calculateDistanceEuclidean(concatenated_train, feature1, feature2):\n",
        "  # write this function and return distance list\n",
        "  dist_value = []\n",
        "  dist_class = []\n",
        "  for i in range (concatenated_train.shape[0]): # Iterate through each row\n",
        "    dist_value.append(np.sqrt(np.square(concatenated_train[i][0]-feature1) + np.square(concatenated_train[i][1]-feature2)))\n",
        "    dist_class.append(concatenated_train[i][2])\n",
        "\n",
        "  dist = np.vstack((dist_value,dist_class))\n",
        "  distance = np.transpose(dist)\n",
        "\n",
        "  return distance"
      ],
      "metadata": {
        "id": "wDzpEWyS1YgP"
      },
      "execution_count": 111,
      "outputs": []
    },
    {
      "cell_type": "code",
      "source": [
        "distance_list = calculateDistanceEuclidean(concatenated_train, feature1, feature2)\n",
        "print(distance_list)"
      ],
      "metadata": {
        "id": "AVSrWdE2soxQ",
        "colab": {
          "base_uri": "https://localhost:8080/"
        },
        "outputId": "ba670ea8-68cf-4488-e0f5-07cd151bda82"
      },
      "execution_count": 112,
      "outputs": [
        {
          "output_type": "stream",
          "name": "stdout",
          "text": [
            "[[0.62731986 1.        ]\n",
            " [4.26672965 0.        ]\n",
            " [4.38917901 0.        ]\n",
            " [4.99257222 2.        ]\n",
            " [0.24342591 1.        ]\n",
            " [3.9565014  2.        ]\n",
            " [3.29038406 0.        ]\n",
            " [3.1690559  1.        ]\n",
            " [5.53219905 0.        ]\n",
            " [3.69824221 2.        ]\n",
            " [1.24890172 1.        ]\n",
            " [1.49377119 2.        ]\n",
            " [4.19031939 0.        ]\n",
            " [3.20047964 1.        ]\n",
            " [6.32754987 2.        ]\n",
            " [4.83976794 0.        ]\n",
            " [3.64534561 0.        ]\n",
            " [3.14534867 0.        ]\n",
            " [1.97944154 1.        ]\n",
            " [4.67015575 0.        ]\n",
            " [5.05483195 2.        ]\n",
            " [4.94914149 2.        ]\n",
            " [4.18361307 0.        ]\n",
            " [3.23477547 2.        ]\n",
            " [0.53562713 1.        ]\n",
            " [3.64183944 0.        ]\n",
            " [0.80029921 1.        ]\n",
            " [3.1063027  0.        ]\n",
            " [3.64532286 0.        ]\n",
            " [0.70476809 1.        ]\n",
            " [3.11770669 0.        ]\n",
            " [3.86457572 2.        ]\n",
            " [5.84846294 0.        ]\n",
            " [1.91399486 1.        ]\n",
            " [1.05319448 1.        ]\n",
            " [0.73101724 1.        ]\n",
            " [3.98996129 2.        ]\n",
            " [2.18795528 0.        ]\n",
            " [5.30121994 0.        ]\n",
            " [4.75796014 2.        ]\n",
            " [3.81541483 2.        ]\n",
            " [4.88269756 0.        ]\n",
            " [5.06492228 0.        ]\n",
            " [4.22435133 2.        ]\n",
            " [1.45827961 0.        ]\n",
            " [2.60239774 0.        ]\n",
            " [3.45066555 0.        ]\n",
            " [2.13380879 2.        ]\n",
            " [3.4426287  0.        ]\n",
            " [1.24964228 1.        ]\n",
            " [3.19668162 2.        ]\n",
            " [4.91131603 2.        ]\n",
            " [1.08217522 1.        ]\n",
            " [1.26118349 1.        ]\n",
            " [5.30109602 2.        ]\n",
            " [0.47826678 1.        ]\n",
            " [2.63543241 2.        ]\n",
            " [2.7299747  1.        ]\n",
            " [3.90339239 2.        ]\n",
            " [0.87806714 1.        ]\n",
            " [3.51427523 2.        ]\n",
            " [2.70549436 1.        ]\n",
            " [1.06588593 1.        ]\n",
            " [1.099791   1.        ]\n",
            " [3.29826579 2.        ]\n",
            " [0.45871917 1.        ]\n",
            " [1.03554242 1.        ]\n",
            " [2.50271014 0.        ]\n",
            " [4.86177046 2.        ]\n",
            " [2.215835   1.        ]\n",
            " [0.81419644 1.        ]\n",
            " [3.82550132 2.        ]\n",
            " [7.00912982 0.        ]\n",
            " [3.11220851 0.        ]\n",
            " [4.89787441 2.        ]\n",
            " [2.73207803 0.        ]\n",
            " [0.49049526 1.        ]\n",
            " [3.71719121 0.        ]\n",
            " [3.86967645 0.        ]\n",
            " [4.16009849 0.        ]\n",
            " [3.6350737  2.        ]\n",
            " [3.87196172 2.        ]\n",
            " [3.9935596  2.        ]\n",
            " [4.86808919 2.        ]\n",
            " [1.39546717 1.        ]\n",
            " [4.21362716 2.        ]\n",
            " [3.13450706 2.        ]\n",
            " [4.98500752 2.        ]\n",
            " [2.57062482 0.        ]\n",
            " [1.88649081 1.        ]\n",
            " [1.4351314  1.        ]\n",
            " [3.23775321 2.        ]\n",
            " [4.35504205 0.        ]\n",
            " [4.47729687 2.        ]\n",
            " [0.70277317 1.        ]\n",
            " [5.49770896 2.        ]]\n"
          ]
        }
      ]
    },
    {
      "cell_type": "code",
      "source": [
        "def sortDistanceList(distance_list):\n",
        "  # write this function and return sorted distance list\n",
        "  distance_sorted = distance_list[distance_list[:,0].argsort()]  #sort list according to the claculated distance\n",
        "  return distance_sorted"
      ],
      "metadata": {
        "id": "jo5IKzxO3qiG"
      },
      "execution_count": 113,
      "outputs": []
    },
    {
      "cell_type": "code",
      "source": [
        "distance_sorted = sortDistanceList(distance_list) # Ascending order\n",
        "print(distance_sorted)"
      ],
      "metadata": {
        "id": "KsGuERxRtIN8",
        "colab": {
          "base_uri": "https://localhost:8080/"
        },
        "outputId": "6524effa-d2f6-4afb-c111-e20178571826"
      },
      "execution_count": 114,
      "outputs": [
        {
          "output_type": "stream",
          "name": "stdout",
          "text": [
            "[[0.24342591 1.        ]\n",
            " [0.45871917 1.        ]\n",
            " [0.47826678 1.        ]\n",
            " [0.49049526 1.        ]\n",
            " [0.53562713 1.        ]\n",
            " [0.62731986 1.        ]\n",
            " [0.70277317 1.        ]\n",
            " [0.70476809 1.        ]\n",
            " [0.73101724 1.        ]\n",
            " [0.80029921 1.        ]\n",
            " [0.81419644 1.        ]\n",
            " [0.87806714 1.        ]\n",
            " [1.03554242 1.        ]\n",
            " [1.05319448 1.        ]\n",
            " [1.06588593 1.        ]\n",
            " [1.08217522 1.        ]\n",
            " [1.099791   1.        ]\n",
            " [1.24890172 1.        ]\n",
            " [1.24964228 1.        ]\n",
            " [1.26118349 1.        ]\n",
            " [1.39546717 1.        ]\n",
            " [1.4351314  1.        ]\n",
            " [1.45827961 0.        ]\n",
            " [1.49377119 2.        ]\n",
            " [1.88649081 1.        ]\n",
            " [1.91399486 1.        ]\n",
            " [1.97944154 1.        ]\n",
            " [2.13380879 2.        ]\n",
            " [2.18795528 0.        ]\n",
            " [2.215835   1.        ]\n",
            " [2.50271014 0.        ]\n",
            " [2.57062482 0.        ]\n",
            " [2.60239774 0.        ]\n",
            " [2.63543241 2.        ]\n",
            " [2.70549436 1.        ]\n",
            " [2.7299747  1.        ]\n",
            " [2.73207803 0.        ]\n",
            " [3.1063027  0.        ]\n",
            " [3.11220851 0.        ]\n",
            " [3.11770669 0.        ]\n",
            " [3.13450706 2.        ]\n",
            " [3.14534867 0.        ]\n",
            " [3.1690559  1.        ]\n",
            " [3.19668162 2.        ]\n",
            " [3.20047964 1.        ]\n",
            " [3.23477547 2.        ]\n",
            " [3.23775321 2.        ]\n",
            " [3.29038406 0.        ]\n",
            " [3.29826579 2.        ]\n",
            " [3.4426287  0.        ]\n",
            " [3.45066555 0.        ]\n",
            " [3.51427523 2.        ]\n",
            " [3.6350737  2.        ]\n",
            " [3.64183944 0.        ]\n",
            " [3.64532286 0.        ]\n",
            " [3.64534561 0.        ]\n",
            " [3.69824221 2.        ]\n",
            " [3.71719121 0.        ]\n",
            " [3.81541483 2.        ]\n",
            " [3.82550132 2.        ]\n",
            " [3.86457572 2.        ]\n",
            " [3.86967645 0.        ]\n",
            " [3.87196172 2.        ]\n",
            " [3.90339239 2.        ]\n",
            " [3.9565014  2.        ]\n",
            " [3.98996129 2.        ]\n",
            " [3.9935596  2.        ]\n",
            " [4.16009849 0.        ]\n",
            " [4.18361307 0.        ]\n",
            " [4.19031939 0.        ]\n",
            " [4.21362716 2.        ]\n",
            " [4.22435133 2.        ]\n",
            " [4.26672965 0.        ]\n",
            " [4.35504205 0.        ]\n",
            " [4.38917901 0.        ]\n",
            " [4.47729687 2.        ]\n",
            " [4.67015575 0.        ]\n",
            " [4.75796014 2.        ]\n",
            " [4.83976794 0.        ]\n",
            " [4.86177046 2.        ]\n",
            " [4.86808919 2.        ]\n",
            " [4.88269756 0.        ]\n",
            " [4.89787441 2.        ]\n",
            " [4.91131603 2.        ]\n",
            " [4.94914149 2.        ]\n",
            " [4.98500752 2.        ]\n",
            " [4.99257222 2.        ]\n",
            " [5.05483195 2.        ]\n",
            " [5.06492228 0.        ]\n",
            " [5.30109602 2.        ]\n",
            " [5.30121994 0.        ]\n",
            " [5.49770896 2.        ]\n",
            " [5.53219905 0.        ]\n",
            " [5.84846294 0.        ]\n",
            " [6.32754987 2.        ]\n",
            " [7.00912982 0.        ]]\n"
          ]
        }
      ]
    },
    {
      "cell_type": "code",
      "source": [
        "k=5\n",
        "distance_sorted_k = distance_sorted[:k]\n",
        "expected_array = [[0.24342591120588192, 1.0], [0.45871917392826284, 1.0], [0.47826677647289073, 1.0], [0.4904952649726137, 1.0], [0.5356271266554974, 1.0]]\n",
        "assert np.allclose(distance_sorted_k, expected_array)"
      ],
      "metadata": {
        "id": "jiV50LHN4hum"
      },
      "execution_count": 115,
      "outputs": []
    },
    {
      "cell_type": "code",
      "source": [
        "def findKNearestNeighbours( distance_sorted, k ):\n",
        "  # write this function and return nearest_neighbour_group\n",
        "  KNN_list = distance_sorted[:k]  #Get Nearest list of K elements\n",
        "  Target = KNN_list[:,1]      #Target column\n",
        "  classes, count = np.unique(Target, return_counts = True) #count unique classes in Target\n",
        "  print(Target)\n",
        "  print(classes)\n",
        "  print(count)\n",
        "  sorted_classes = classes[np.argsort(count)]    #sort classes according to count ( ascending order)\n",
        "  nearest_neighbour_group = sorted_classes[-1] # The class with the highest count is the nearest neighbour group\n",
        "\n",
        "  return nearest_neighbour_group"
      ],
      "metadata": {
        "id": "ivImX3Yl487q"
      },
      "execution_count": 116,
      "outputs": []
    },
    {
      "cell_type": "code",
      "source": [
        "nearest_neighbour_class = findKNearestNeighbours(distance_sorted, 5)\n",
        "assert nearest_neighbour_class == 1\n",
        "#nearest_neighbour_class"
      ],
      "metadata": {
        "id": "7zR3dSdS8O67",
        "colab": {
          "base_uri": "https://localhost:8080/"
        },
        "outputId": "0baa10c2-972a-4ea1-a24b-7ae8b5cd50aa"
      },
      "execution_count": 117,
      "outputs": [
        {
          "output_type": "stream",
          "name": "stdout",
          "text": [
            "[1. 1. 1. 1. 1.]\n",
            "[1.]\n",
            "[5]\n"
          ]
        }
      ]
    },
    {
      "cell_type": "code",
      "source": [
        "def runPredictionEuclidean(dataset, concatenated_train):\n",
        "  # write this function and return a numpy array of predictions\n",
        "  prediction = []\n",
        "  for i in range(dataset.shape[0]):\n",
        "    distance = calculateDistanceEuclidean(concatenated_train,dataset[i][0],dataset[i][1])  #calculate distence to each data in dataset ( Feature 1, feature 2)\n",
        "    distance_sorted = sortDistanceList(distance)  #sort the distances\n",
        "    nearest_neighbour_class = findKNearestNeighbours(distance_sorted, 5) #find KNN\n",
        "    prediction.append(nearest_neighbour_class)\n",
        "\n",
        "  return np.array(prediction)"
      ],
      "metadata": {
        "id": "lDXlrLf6puNq"
      },
      "execution_count": 118,
      "outputs": []
    },
    {
      "cell_type": "code",
      "source": [
        "# make prediction on the test dataset.\n",
        "predictions = runPredictionEuclidean(X_test, concatenated_train)\n",
        "expected_array = np.array([1, 1, 0, 0, 0, 1, 1, 1, 1, 2, 0, 1, 0, 0, 2, 2, 2, 0, 2, 0, 1, 1, 0, 1])\n",
        "assert np.allclose(predictions, expected_array)"
      ],
      "metadata": {
        "id": "g1W060bhvH8m",
        "colab": {
          "base_uri": "https://localhost:8080/"
        },
        "outputId": "310edcc7-ce1c-432c-d5ec-e99091eae153"
      },
      "execution_count": 119,
      "outputs": [
        {
          "output_type": "stream",
          "name": "stdout",
          "text": [
            "[1. 1. 1. 1. 1.]\n",
            "[1.]\n",
            "[5]\n",
            "[1. 1. 2. 1. 1.]\n",
            "[1. 2.]\n",
            "[4 1]\n",
            "[0. 0. 0. 0. 0.]\n",
            "[0.]\n",
            "[5]\n",
            "[1. 0. 0. 1. 0.]\n",
            "[0. 1.]\n",
            "[3 2]\n",
            "[0. 0. 0. 0. 0.]\n",
            "[0.]\n",
            "[5]\n",
            "[1. 1. 1. 1. 1.]\n",
            "[1.]\n",
            "[5]\n",
            "[1. 1. 1. 1. 2.]\n",
            "[1. 2.]\n",
            "[4 1]\n",
            "[1. 1. 0. 0. 1.]\n",
            "[0. 1.]\n",
            "[2 3]\n",
            "[1. 1. 1. 1. 1.]\n",
            "[1.]\n",
            "[5]\n",
            "[2. 2. 2. 2. 2.]\n",
            "[2.]\n",
            "[5]\n",
            "[0. 0. 0. 0. 0.]\n",
            "[0.]\n",
            "[5]\n",
            "[1. 1. 1. 1. 1.]\n",
            "[1.]\n",
            "[5]\n",
            "[0. 0. 0. 0. 0.]\n",
            "[0.]\n",
            "[5]\n",
            "[0. 0. 0. 0. 0.]\n",
            "[0.]\n",
            "[5]\n",
            "[2. 2. 2. 2. 2.]\n",
            "[2.]\n",
            "[5]\n",
            "[2. 2. 2. 2. 2.]\n",
            "[2.]\n",
            "[5]\n",
            "[2. 2. 2. 2. 2.]\n",
            "[2.]\n",
            "[5]\n",
            "[0. 0. 0. 0. 0.]\n",
            "[0.]\n",
            "[5]\n",
            "[2. 2. 2. 2. 2.]\n",
            "[2.]\n",
            "[5]\n",
            "[2. 0. 0. 0. 0.]\n",
            "[0. 2.]\n",
            "[4 1]\n",
            "[1. 1. 0. 1. 1.]\n",
            "[0. 1.]\n",
            "[1 4]\n",
            "[1. 1. 1. 1. 1.]\n",
            "[1.]\n",
            "[5]\n",
            "[0. 0. 0. 0. 0.]\n",
            "[0.]\n",
            "[5]\n",
            "[1. 1. 1. 1. 1.]\n",
            "[1.]\n",
            "[5]\n"
          ]
        }
      ]
    },
    {
      "cell_type": "code",
      "source": [
        "def accuracy(predictions, target):\n",
        "  # write this function and return the accuracy of the predictions\n",
        "  comparison = np.where(predictions == target, 1, 0)\n",
        "  acc = comparison.sum() / comparison.size\n",
        "\n",
        "  return acc"
      ],
      "metadata": {
        "id": "hysi_-iKv-WA"
      },
      "execution_count": 120,
      "outputs": []
    },
    {
      "cell_type": "code",
      "source": [
        "acc = accuracy(predictions, y_test)\n",
        "assert acc == 0.875"
      ],
      "metadata": {
        "id": "bIEfhjoS0v4o"
      },
      "execution_count": 121,
      "outputs": []
    },
    {
      "cell_type": "code",
      "source": [
        "X_test[0][0]"
      ],
      "metadata": {
        "colab": {
          "base_uri": "https://localhost:8080/"
        },
        "id": "9HkQGNmFuq0r",
        "outputId": "66bf30e4-0aca-4832-846b-2a9bbe23e8a2"
      },
      "execution_count": 122,
      "outputs": [
        {
          "output_type": "execute_result",
          "data": {
            "text/plain": [
              "-0.685922146347381"
            ]
          },
          "metadata": {},
          "execution_count": 122
        }
      ]
    },
    {
      "cell_type": "markdown",
      "source": [
        "## Section 2: KNN with Any Number of Features and Number of Categories"
      ],
      "metadata": {
        "id": "REg2ilcGLQuk"
      }
    },
    {
      "cell_type": "code",
      "source": [
        "def calculateDistanceEuclidean_nFeatures(concatenated_train, feature_array ):\n",
        "  # write this function and return sorted distance list for features with any dimensions\n",
        "  n = X_test.shape[1] # number of features\n",
        "  dist_value = []\n",
        "  dist_class = []\n",
        "\n",
        "  for i in range (concatenated_train.shape[0]):\n",
        "    square = 0\n",
        "    for j in range (n):\n",
        "      square += np.square(concatenated_train[i][j]-feature_array[j])\n",
        "\n",
        "    dist_value.append(np.sqrt(square))\n",
        "    dist_class.append(concatenated_train[i][n])   #Take last column of the X_test for class/target\n",
        "\n",
        "  dist = np.vstack((dist_value,dist_class))\n",
        "  distance = np.transpose(dist)\n",
        "\n",
        "  return distance"
      ],
      "metadata": {
        "id": "KgyUKF4CMGXX"
      },
      "execution_count": 123,
      "outputs": []
    },
    {
      "cell_type": "code",
      "source": [
        "distance_list = calculateDistanceEuclidean_nFeatures(concatenated_train, X_test[0] )"
      ],
      "metadata": {
        "id": "nv9ThniCQ8RA"
      },
      "execution_count": 124,
      "outputs": []
    },
    {
      "cell_type": "code",
      "source": [
        "distance_sorted = sortDistanceList(distance_list)"
      ],
      "metadata": {
        "id": "KTJQw7B3ULdy"
      },
      "execution_count": 125,
      "outputs": []
    },
    {
      "cell_type": "code",
      "source": [
        "k=5\n",
        "distance_sorted_k = distance_sorted[:k]\n",
        "expected_array = [[0.24342591120588192, 1.0], [0.45871917392826284, 1.0], [0.47826677647289073, 1.0], [0.4904952649726137, 1.0], [0.5356271266554974, 1.0]]\n",
        "assert np.allclose(distance_sorted_k, expected_array)"
      ],
      "metadata": {
        "id": "IsYqOm9dUNmD"
      },
      "execution_count": 126,
      "outputs": []
    },
    {
      "cell_type": "code",
      "source": [
        "unique_classes"
      ],
      "metadata": {
        "colab": {
          "base_uri": "https://localhost:8080/"
        },
        "id": "0K2Rlekr2TtG",
        "outputId": "7914fd00-5d1c-4c87-9ab4-0fc09ee30947"
      },
      "execution_count": 127,
      "outputs": [
        {
          "output_type": "execute_result",
          "data": {
            "text/plain": [
              "{0.0, 1.0, 2.0}"
            ]
          },
          "metadata": {},
          "execution_count": 127
        }
      ]
    },
    {
      "cell_type": "code",
      "source": [
        "def findKNearestNeighboursMultiClass( distance_sorted, k, unique_classes ):\n",
        "  # write this function and return the nearest neighbour group for features with any dimensions\n",
        "\n",
        "  KNN_list = distance_sorted[:k]  #Get Nearest list of K elements\n",
        "  Target = KNN_list[:,1]      #Target column\n",
        "  classes, count = np.unique(Target, return_counts = True) #count unique classes in Target\n",
        "\n",
        "  sorted_classes = classes[np.argsort(count)]    #sort classes according to count\n",
        "  nearest_neighbour_group = sorted_classes[-1] # the class label with the highest count(majority)\n",
        "\n",
        "  return nearest_neighbour_group"
      ],
      "metadata": {
        "id": "hDmBbUk2LWGR"
      },
      "execution_count": 128,
      "outputs": []
    },
    {
      "cell_type": "code",
      "source": [
        "nearest_neighbour_group = findKNearestNeighboursMultiClass( distance_sorted, k, unique_classes )\n",
        "assert nearest_neighbour_group == 1"
      ],
      "metadata": {
        "id": "S_PNiXtXP0yU"
      },
      "execution_count": 129,
      "outputs": []
    },
    {
      "cell_type": "code",
      "source": [
        "X_test.shape"
      ],
      "metadata": {
        "colab": {
          "base_uri": "https://localhost:8080/"
        },
        "id": "xo5bG-lk21mG",
        "outputId": "2a8518ee-9446-47a6-9b18-5737ac5e63da"
      },
      "execution_count": 130,
      "outputs": [
        {
          "output_type": "execute_result",
          "data": {
            "text/plain": [
              "(24, 2)"
            ]
          },
          "metadata": {},
          "execution_count": 130
        }
      ]
    },
    {
      "cell_type": "code",
      "source": [
        "def runPredictionEuclideanMultiClass(dataset, concatenated_train, unique_classes):\n",
        "  # write this function and return the predictions for features with any dimensions\n",
        "  prediction = []\n",
        "  for i in range(dataset.shape[0]):\n",
        "    distance = calculateDistanceEuclidean_nFeatures(concatenated_train,dataset[i])  #calculate distence to each data in dataset\n",
        "    distance_sorted = sortDistanceList(distance)  #sort the distances\n",
        "    nearest_neighbour_class = findKNearestNeighbours(distance_sorted, 5) #find KNN\n",
        "    prediction.append(nearest_neighbour_class)\n",
        "\n",
        "  return np.array(prediction)"
      ],
      "metadata": {
        "id": "LEH4tU_lMLBF"
      },
      "execution_count": 131,
      "outputs": []
    },
    {
      "cell_type": "code",
      "source": [
        "predictions = runPredictionEuclideanMultiClass(X_test, concatenated_train, unique_classes)\n",
        "expected_array = np.array([1, 1, 0, 0, 0, 1, 1, 1, 1, 2, 0, 1, 0, 0, 2, 2, 2, 0, 2, 0, 1, 1, 0, 1])\n",
        "assert np.allclose(predictions, expected_array)"
      ],
      "metadata": {
        "id": "TSAQcK8yOEYq",
        "colab": {
          "base_uri": "https://localhost:8080/"
        },
        "outputId": "ee8af116-a5ae-43f9-e706-870f10b42fbb"
      },
      "execution_count": 132,
      "outputs": [
        {
          "output_type": "stream",
          "name": "stdout",
          "text": [
            "[1. 1. 1. 1. 1.]\n",
            "[1.]\n",
            "[5]\n",
            "[1. 1. 2. 1. 1.]\n",
            "[1. 2.]\n",
            "[4 1]\n",
            "[0. 0. 0. 0. 0.]\n",
            "[0.]\n",
            "[5]\n",
            "[1. 0. 0. 1. 0.]\n",
            "[0. 1.]\n",
            "[3 2]\n",
            "[0. 0. 0. 0. 0.]\n",
            "[0.]\n",
            "[5]\n",
            "[1. 1. 1. 1. 1.]\n",
            "[1.]\n",
            "[5]\n",
            "[1. 1. 1. 1. 2.]\n",
            "[1. 2.]\n",
            "[4 1]\n",
            "[1. 1. 0. 0. 1.]\n",
            "[0. 1.]\n",
            "[2 3]\n",
            "[1. 1. 1. 1. 1.]\n",
            "[1.]\n",
            "[5]\n",
            "[2. 2. 2. 2. 2.]\n",
            "[2.]\n",
            "[5]\n",
            "[0. 0. 0. 0. 0.]\n",
            "[0.]\n",
            "[5]\n",
            "[1. 1. 1. 1. 1.]\n",
            "[1.]\n",
            "[5]\n",
            "[0. 0. 0. 0. 0.]\n",
            "[0.]\n",
            "[5]\n",
            "[0. 0. 0. 0. 0.]\n",
            "[0.]\n",
            "[5]\n",
            "[2. 2. 2. 2. 2.]\n",
            "[2.]\n",
            "[5]\n",
            "[2. 2. 2. 2. 2.]\n",
            "[2.]\n",
            "[5]\n",
            "[2. 2. 2. 2. 2.]\n",
            "[2.]\n",
            "[5]\n",
            "[0. 0. 0. 0. 0.]\n",
            "[0.]\n",
            "[5]\n",
            "[2. 2. 2. 2. 2.]\n",
            "[2.]\n",
            "[5]\n",
            "[2. 0. 0. 0. 0.]\n",
            "[0. 2.]\n",
            "[4 1]\n",
            "[1. 1. 0. 1. 1.]\n",
            "[0. 1.]\n",
            "[1 4]\n",
            "[1. 1. 1. 1. 1.]\n",
            "[1.]\n",
            "[5]\n",
            "[0. 0. 0. 0. 0.]\n",
            "[0.]\n",
            "[5]\n",
            "[1. 1. 1. 1. 1.]\n",
            "[1.]\n",
            "[5]\n"
          ]
        }
      ]
    },
    {
      "cell_type": "markdown",
      "source": [
        "## Section 3: KNN with Real Dataset (Iris)"
      ],
      "metadata": {
        "id": "RIAyfjjjQQsG"
      }
    },
    {
      "cell_type": "code",
      "source": [
        "# Download Iris Dataset from: https://www.kaggle.com/datasets/uciml/iris\n"
      ],
      "metadata": {
        "id": "8vY2yxzJnLqI"
      },
      "execution_count": 133,
      "outputs": []
    },
    {
      "cell_type": "code",
      "source": [
        "from google.colab import drive\n",
        "drive.mount('/content/drive')"
      ],
      "metadata": {
        "colab": {
          "base_uri": "https://localhost:8080/"
        },
        "id": "YnFut82o6Cit",
        "outputId": "7cea13d1-4bb5-421a-800d-85691d3411d5"
      },
      "execution_count": 134,
      "outputs": [
        {
          "output_type": "stream",
          "name": "stdout",
          "text": [
            "Drive already mounted at /content/drive; to attempt to forcibly remount, call drive.mount(\"/content/drive\", force_remount=True).\n"
          ]
        }
      ]
    },
    {
      "cell_type": "code",
      "source": [
        "df_iris = pd.read_csv('/content/drive/MyDrive/Iris.csv')"
      ],
      "metadata": {
        "id": "dxFwnqP9QTn4"
      },
      "execution_count": 135,
      "outputs": []
    },
    {
      "cell_type": "code",
      "source": [
        "df_iris"
      ],
      "metadata": {
        "colab": {
          "base_uri": "https://localhost:8080/",
          "height": 423
        },
        "id": "QGLV9UezUkjw",
        "outputId": "b18ffb6f-5977-4257-f251-2eb29b9bb7d0"
      },
      "execution_count": 136,
      "outputs": [
        {
          "output_type": "execute_result",
          "data": {
            "text/plain": [
              "      Id  SepalLengthCm  SepalWidthCm  PetalLengthCm  PetalWidthCm  \\\n",
              "0      1            5.1           3.5            1.4           0.2   \n",
              "1      2            4.9           3.0            1.4           0.2   \n",
              "2      3            4.7           3.2            1.3           0.2   \n",
              "3      4            4.6           3.1            1.5           0.2   \n",
              "4      5            5.0           3.6            1.4           0.2   \n",
              "..   ...            ...           ...            ...           ...   \n",
              "145  146            6.7           3.0            5.2           2.3   \n",
              "146  147            6.3           2.5            5.0           1.9   \n",
              "147  148            6.5           3.0            5.2           2.0   \n",
              "148  149            6.2           3.4            5.4           2.3   \n",
              "149  150            5.9           3.0            5.1           1.8   \n",
              "\n",
              "            Species  \n",
              "0       Iris-setosa  \n",
              "1       Iris-setosa  \n",
              "2       Iris-setosa  \n",
              "3       Iris-setosa  \n",
              "4       Iris-setosa  \n",
              "..              ...  \n",
              "145  Iris-virginica  \n",
              "146  Iris-virginica  \n",
              "147  Iris-virginica  \n",
              "148  Iris-virginica  \n",
              "149  Iris-virginica  \n",
              "\n",
              "[150 rows x 6 columns]"
            ],
            "text/html": [
              "\n",
              "  <div id=\"df-92ff8e9d-d9eb-4ddb-9138-8712cf707633\" class=\"colab-df-container\">\n",
              "    <div>\n",
              "<style scoped>\n",
              "    .dataframe tbody tr th:only-of-type {\n",
              "        vertical-align: middle;\n",
              "    }\n",
              "\n",
              "    .dataframe tbody tr th {\n",
              "        vertical-align: top;\n",
              "    }\n",
              "\n",
              "    .dataframe thead th {\n",
              "        text-align: right;\n",
              "    }\n",
              "</style>\n",
              "<table border=\"1\" class=\"dataframe\">\n",
              "  <thead>\n",
              "    <tr style=\"text-align: right;\">\n",
              "      <th></th>\n",
              "      <th>Id</th>\n",
              "      <th>SepalLengthCm</th>\n",
              "      <th>SepalWidthCm</th>\n",
              "      <th>PetalLengthCm</th>\n",
              "      <th>PetalWidthCm</th>\n",
              "      <th>Species</th>\n",
              "    </tr>\n",
              "  </thead>\n",
              "  <tbody>\n",
              "    <tr>\n",
              "      <th>0</th>\n",
              "      <td>1</td>\n",
              "      <td>5.1</td>\n",
              "      <td>3.5</td>\n",
              "      <td>1.4</td>\n",
              "      <td>0.2</td>\n",
              "      <td>Iris-setosa</td>\n",
              "    </tr>\n",
              "    <tr>\n",
              "      <th>1</th>\n",
              "      <td>2</td>\n",
              "      <td>4.9</td>\n",
              "      <td>3.0</td>\n",
              "      <td>1.4</td>\n",
              "      <td>0.2</td>\n",
              "      <td>Iris-setosa</td>\n",
              "    </tr>\n",
              "    <tr>\n",
              "      <th>2</th>\n",
              "      <td>3</td>\n",
              "      <td>4.7</td>\n",
              "      <td>3.2</td>\n",
              "      <td>1.3</td>\n",
              "      <td>0.2</td>\n",
              "      <td>Iris-setosa</td>\n",
              "    </tr>\n",
              "    <tr>\n",
              "      <th>3</th>\n",
              "      <td>4</td>\n",
              "      <td>4.6</td>\n",
              "      <td>3.1</td>\n",
              "      <td>1.5</td>\n",
              "      <td>0.2</td>\n",
              "      <td>Iris-setosa</td>\n",
              "    </tr>\n",
              "    <tr>\n",
              "      <th>4</th>\n",
              "      <td>5</td>\n",
              "      <td>5.0</td>\n",
              "      <td>3.6</td>\n",
              "      <td>1.4</td>\n",
              "      <td>0.2</td>\n",
              "      <td>Iris-setosa</td>\n",
              "    </tr>\n",
              "    <tr>\n",
              "      <th>...</th>\n",
              "      <td>...</td>\n",
              "      <td>...</td>\n",
              "      <td>...</td>\n",
              "      <td>...</td>\n",
              "      <td>...</td>\n",
              "      <td>...</td>\n",
              "    </tr>\n",
              "    <tr>\n",
              "      <th>145</th>\n",
              "      <td>146</td>\n",
              "      <td>6.7</td>\n",
              "      <td>3.0</td>\n",
              "      <td>5.2</td>\n",
              "      <td>2.3</td>\n",
              "      <td>Iris-virginica</td>\n",
              "    </tr>\n",
              "    <tr>\n",
              "      <th>146</th>\n",
              "      <td>147</td>\n",
              "      <td>6.3</td>\n",
              "      <td>2.5</td>\n",
              "      <td>5.0</td>\n",
              "      <td>1.9</td>\n",
              "      <td>Iris-virginica</td>\n",
              "    </tr>\n",
              "    <tr>\n",
              "      <th>147</th>\n",
              "      <td>148</td>\n",
              "      <td>6.5</td>\n",
              "      <td>3.0</td>\n",
              "      <td>5.2</td>\n",
              "      <td>2.0</td>\n",
              "      <td>Iris-virginica</td>\n",
              "    </tr>\n",
              "    <tr>\n",
              "      <th>148</th>\n",
              "      <td>149</td>\n",
              "      <td>6.2</td>\n",
              "      <td>3.4</td>\n",
              "      <td>5.4</td>\n",
              "      <td>2.3</td>\n",
              "      <td>Iris-virginica</td>\n",
              "    </tr>\n",
              "    <tr>\n",
              "      <th>149</th>\n",
              "      <td>150</td>\n",
              "      <td>5.9</td>\n",
              "      <td>3.0</td>\n",
              "      <td>5.1</td>\n",
              "      <td>1.8</td>\n",
              "      <td>Iris-virginica</td>\n",
              "    </tr>\n",
              "  </tbody>\n",
              "</table>\n",
              "<p>150 rows × 6 columns</p>\n",
              "</div>\n",
              "    <div class=\"colab-df-buttons\">\n",
              "\n",
              "  <div class=\"colab-df-container\">\n",
              "    <button class=\"colab-df-convert\" onclick=\"convertToInteractive('df-92ff8e9d-d9eb-4ddb-9138-8712cf707633')\"\n",
              "            title=\"Convert this dataframe to an interactive table.\"\n",
              "            style=\"display:none;\">\n",
              "\n",
              "  <svg xmlns=\"http://www.w3.org/2000/svg\" height=\"24px\" viewBox=\"0 -960 960 960\">\n",
              "    <path d=\"M120-120v-720h720v720H120Zm60-500h600v-160H180v160Zm220 220h160v-160H400v160Zm0 220h160v-160H400v160ZM180-400h160v-160H180v160Zm440 0h160v-160H620v160ZM180-180h160v-160H180v160Zm440 0h160v-160H620v160Z\"/>\n",
              "  </svg>\n",
              "    </button>\n",
              "\n",
              "  <style>\n",
              "    .colab-df-container {\n",
              "      display:flex;\n",
              "      gap: 12px;\n",
              "    }\n",
              "\n",
              "    .colab-df-convert {\n",
              "      background-color: #E8F0FE;\n",
              "      border: none;\n",
              "      border-radius: 50%;\n",
              "      cursor: pointer;\n",
              "      display: none;\n",
              "      fill: #1967D2;\n",
              "      height: 32px;\n",
              "      padding: 0 0 0 0;\n",
              "      width: 32px;\n",
              "    }\n",
              "\n",
              "    .colab-df-convert:hover {\n",
              "      background-color: #E2EBFA;\n",
              "      box-shadow: 0px 1px 2px rgba(60, 64, 67, 0.3), 0px 1px 3px 1px rgba(60, 64, 67, 0.15);\n",
              "      fill: #174EA6;\n",
              "    }\n",
              "\n",
              "    .colab-df-buttons div {\n",
              "      margin-bottom: 4px;\n",
              "    }\n",
              "\n",
              "    [theme=dark] .colab-df-convert {\n",
              "      background-color: #3B4455;\n",
              "      fill: #D2E3FC;\n",
              "    }\n",
              "\n",
              "    [theme=dark] .colab-df-convert:hover {\n",
              "      background-color: #434B5C;\n",
              "      box-shadow: 0px 1px 3px 1px rgba(0, 0, 0, 0.15);\n",
              "      filter: drop-shadow(0px 1px 2px rgba(0, 0, 0, 0.3));\n",
              "      fill: #FFFFFF;\n",
              "    }\n",
              "  </style>\n",
              "\n",
              "    <script>\n",
              "      const buttonEl =\n",
              "        document.querySelector('#df-92ff8e9d-d9eb-4ddb-9138-8712cf707633 button.colab-df-convert');\n",
              "      buttonEl.style.display =\n",
              "        google.colab.kernel.accessAllowed ? 'block' : 'none';\n",
              "\n",
              "      async function convertToInteractive(key) {\n",
              "        const element = document.querySelector('#df-92ff8e9d-d9eb-4ddb-9138-8712cf707633');\n",
              "        const dataTable =\n",
              "          await google.colab.kernel.invokeFunction('convertToInteractive',\n",
              "                                                    [key], {});\n",
              "        if (!dataTable) return;\n",
              "\n",
              "        const docLinkHtml = 'Like what you see? Visit the ' +\n",
              "          '<a target=\"_blank\" href=https://colab.research.google.com/notebooks/data_table.ipynb>data table notebook</a>'\n",
              "          + ' to learn more about interactive tables.';\n",
              "        element.innerHTML = '';\n",
              "        dataTable['output_type'] = 'display_data';\n",
              "        await google.colab.output.renderOutput(dataTable, element);\n",
              "        const docLink = document.createElement('div');\n",
              "        docLink.innerHTML = docLinkHtml;\n",
              "        element.appendChild(docLink);\n",
              "      }\n",
              "    </script>\n",
              "  </div>\n",
              "\n",
              "\n",
              "<div id=\"df-46042c64-56bd-4614-990c-e8df0be76ea4\">\n",
              "  <button class=\"colab-df-quickchart\" onclick=\"quickchart('df-46042c64-56bd-4614-990c-e8df0be76ea4')\"\n",
              "            title=\"Suggest charts\"\n",
              "            style=\"display:none;\">\n",
              "\n",
              "<svg xmlns=\"http://www.w3.org/2000/svg\" height=\"24px\"viewBox=\"0 0 24 24\"\n",
              "     width=\"24px\">\n",
              "    <g>\n",
              "        <path d=\"M19 3H5c-1.1 0-2 .9-2 2v14c0 1.1.9 2 2 2h14c1.1 0 2-.9 2-2V5c0-1.1-.9-2-2-2zM9 17H7v-7h2v7zm4 0h-2V7h2v10zm4 0h-2v-4h2v4z\"/>\n",
              "    </g>\n",
              "</svg>\n",
              "  </button>\n",
              "\n",
              "<style>\n",
              "  .colab-df-quickchart {\n",
              "      --bg-color: #E8F0FE;\n",
              "      --fill-color: #1967D2;\n",
              "      --hover-bg-color: #E2EBFA;\n",
              "      --hover-fill-color: #174EA6;\n",
              "      --disabled-fill-color: #AAA;\n",
              "      --disabled-bg-color: #DDD;\n",
              "  }\n",
              "\n",
              "  [theme=dark] .colab-df-quickchart {\n",
              "      --bg-color: #3B4455;\n",
              "      --fill-color: #D2E3FC;\n",
              "      --hover-bg-color: #434B5C;\n",
              "      --hover-fill-color: #FFFFFF;\n",
              "      --disabled-bg-color: #3B4455;\n",
              "      --disabled-fill-color: #666;\n",
              "  }\n",
              "\n",
              "  .colab-df-quickchart {\n",
              "    background-color: var(--bg-color);\n",
              "    border: none;\n",
              "    border-radius: 50%;\n",
              "    cursor: pointer;\n",
              "    display: none;\n",
              "    fill: var(--fill-color);\n",
              "    height: 32px;\n",
              "    padding: 0;\n",
              "    width: 32px;\n",
              "  }\n",
              "\n",
              "  .colab-df-quickchart:hover {\n",
              "    background-color: var(--hover-bg-color);\n",
              "    box-shadow: 0 1px 2px rgba(60, 64, 67, 0.3), 0 1px 3px 1px rgba(60, 64, 67, 0.15);\n",
              "    fill: var(--button-hover-fill-color);\n",
              "  }\n",
              "\n",
              "  .colab-df-quickchart-complete:disabled,\n",
              "  .colab-df-quickchart-complete:disabled:hover {\n",
              "    background-color: var(--disabled-bg-color);\n",
              "    fill: var(--disabled-fill-color);\n",
              "    box-shadow: none;\n",
              "  }\n",
              "\n",
              "  .colab-df-spinner {\n",
              "    border: 2px solid var(--fill-color);\n",
              "    border-color: transparent;\n",
              "    border-bottom-color: var(--fill-color);\n",
              "    animation:\n",
              "      spin 1s steps(1) infinite;\n",
              "  }\n",
              "\n",
              "  @keyframes spin {\n",
              "    0% {\n",
              "      border-color: transparent;\n",
              "      border-bottom-color: var(--fill-color);\n",
              "      border-left-color: var(--fill-color);\n",
              "    }\n",
              "    20% {\n",
              "      border-color: transparent;\n",
              "      border-left-color: var(--fill-color);\n",
              "      border-top-color: var(--fill-color);\n",
              "    }\n",
              "    30% {\n",
              "      border-color: transparent;\n",
              "      border-left-color: var(--fill-color);\n",
              "      border-top-color: var(--fill-color);\n",
              "      border-right-color: var(--fill-color);\n",
              "    }\n",
              "    40% {\n",
              "      border-color: transparent;\n",
              "      border-right-color: var(--fill-color);\n",
              "      border-top-color: var(--fill-color);\n",
              "    }\n",
              "    60% {\n",
              "      border-color: transparent;\n",
              "      border-right-color: var(--fill-color);\n",
              "    }\n",
              "    80% {\n",
              "      border-color: transparent;\n",
              "      border-right-color: var(--fill-color);\n",
              "      border-bottom-color: var(--fill-color);\n",
              "    }\n",
              "    90% {\n",
              "      border-color: transparent;\n",
              "      border-bottom-color: var(--fill-color);\n",
              "    }\n",
              "  }\n",
              "</style>\n",
              "\n",
              "  <script>\n",
              "    async function quickchart(key) {\n",
              "      const quickchartButtonEl =\n",
              "        document.querySelector('#' + key + ' button');\n",
              "      quickchartButtonEl.disabled = true;  // To prevent multiple clicks.\n",
              "      quickchartButtonEl.classList.add('colab-df-spinner');\n",
              "      try {\n",
              "        const charts = await google.colab.kernel.invokeFunction(\n",
              "            'suggestCharts', [key], {});\n",
              "      } catch (error) {\n",
              "        console.error('Error during call to suggestCharts:', error);\n",
              "      }\n",
              "      quickchartButtonEl.classList.remove('colab-df-spinner');\n",
              "      quickchartButtonEl.classList.add('colab-df-quickchart-complete');\n",
              "    }\n",
              "    (() => {\n",
              "      let quickchartButtonEl =\n",
              "        document.querySelector('#df-46042c64-56bd-4614-990c-e8df0be76ea4 button');\n",
              "      quickchartButtonEl.style.display =\n",
              "        google.colab.kernel.accessAllowed ? 'block' : 'none';\n",
              "    })();\n",
              "  </script>\n",
              "</div>\n",
              "    </div>\n",
              "  </div>\n"
            ],
            "application/vnd.google.colaboratory.intrinsic+json": {
              "type": "dataframe",
              "variable_name": "df_iris",
              "summary": "{\n  \"name\": \"df_iris\",\n  \"rows\": 150,\n  \"fields\": [\n    {\n      \"column\": \"Id\",\n      \"properties\": {\n        \"dtype\": \"number\",\n        \"std\": 43,\n        \"min\": 1,\n        \"max\": 150,\n        \"num_unique_values\": 150,\n        \"samples\": [\n          74,\n          19,\n          119\n        ],\n        \"semantic_type\": \"\",\n        \"description\": \"\"\n      }\n    },\n    {\n      \"column\": \"SepalLengthCm\",\n      \"properties\": {\n        \"dtype\": \"number\",\n        \"std\": 0.828066127977863,\n        \"min\": 4.3,\n        \"max\": 7.9,\n        \"num_unique_values\": 35,\n        \"samples\": [\n          6.2,\n          4.5,\n          5.6\n        ],\n        \"semantic_type\": \"\",\n        \"description\": \"\"\n      }\n    },\n    {\n      \"column\": \"SepalWidthCm\",\n      \"properties\": {\n        \"dtype\": \"number\",\n        \"std\": 0.4335943113621737,\n        \"min\": 2.0,\n        \"max\": 4.4,\n        \"num_unique_values\": 23,\n        \"samples\": [\n          2.3,\n          4.0,\n          3.5\n        ],\n        \"semantic_type\": \"\",\n        \"description\": \"\"\n      }\n    },\n    {\n      \"column\": \"PetalLengthCm\",\n      \"properties\": {\n        \"dtype\": \"number\",\n        \"std\": 1.7644204199522626,\n        \"min\": 1.0,\n        \"max\": 6.9,\n        \"num_unique_values\": 43,\n        \"samples\": [\n          6.7,\n          3.8,\n          3.7\n        ],\n        \"semantic_type\": \"\",\n        \"description\": \"\"\n      }\n    },\n    {\n      \"column\": \"PetalWidthCm\",\n      \"properties\": {\n        \"dtype\": \"number\",\n        \"std\": 0.7631607417008411,\n        \"min\": 0.1,\n        \"max\": 2.5,\n        \"num_unique_values\": 22,\n        \"samples\": [\n          0.2,\n          1.2,\n          1.3\n        ],\n        \"semantic_type\": \"\",\n        \"description\": \"\"\n      }\n    },\n    {\n      \"column\": \"Species\",\n      \"properties\": {\n        \"dtype\": \"category\",\n        \"num_unique_values\": 3,\n        \"samples\": [\n          \"Iris-setosa\",\n          \"Iris-versicolor\",\n          \"Iris-virginica\"\n        ],\n        \"semantic_type\": \"\",\n        \"description\": \"\"\n      }\n    }\n  ]\n}"
            }
          },
          "metadata": {},
          "execution_count": 136
        }
      ]
    },
    {
      "cell_type": "code",
      "source": [
        "# Features and target\n",
        "y = df_iris['Species']  # Series with the target variable\n",
        "X = df_iris[['SepalLengthCm', 'SepalWidthCm', 'PetalLengthCm', 'PetalWidthCm' ]]\n",
        "\n",
        "# Split the data into training and testing sets\n",
        "df_X_train, df_X_test, df_y_train, df_y_test = train_test_split(X, y, test_size=0.2, random_state=42)"
      ],
      "metadata": {
        "id": "YvWcgDI_gyu3"
      },
      "execution_count": 137,
      "outputs": []
    },
    {
      "cell_type": "code",
      "source": [
        "df_y_test.values"
      ],
      "metadata": {
        "colab": {
          "base_uri": "https://localhost:8080/"
        },
        "id": "P7LDcfWFqPOk",
        "outputId": "c166ddc6-9f75-4889-deca-adb45f6209f8"
      },
      "execution_count": 138,
      "outputs": [
        {
          "output_type": "execute_result",
          "data": {
            "text/plain": [
              "array(['Iris-versicolor', 'Iris-setosa', 'Iris-virginica',\n",
              "       'Iris-versicolor', 'Iris-versicolor', 'Iris-setosa',\n",
              "       'Iris-versicolor', 'Iris-virginica', 'Iris-versicolor',\n",
              "       'Iris-versicolor', 'Iris-virginica', 'Iris-setosa', 'Iris-setosa',\n",
              "       'Iris-setosa', 'Iris-setosa', 'Iris-versicolor', 'Iris-virginica',\n",
              "       'Iris-versicolor', 'Iris-versicolor', 'Iris-virginica',\n",
              "       'Iris-setosa', 'Iris-virginica', 'Iris-setosa', 'Iris-virginica',\n",
              "       'Iris-virginica', 'Iris-virginica', 'Iris-virginica',\n",
              "       'Iris-virginica', 'Iris-setosa', 'Iris-setosa'], dtype=object)"
            ]
          },
          "metadata": {},
          "execution_count": 138
        }
      ]
    },
    {
      "cell_type": "code",
      "source": [
        "def prepareInputData(df_X_train, df_X_test, df_y_train, df_y_test):\n",
        "  # prepare X_text as numpy array\n",
        "  # prepare concatenated_train as numpy array containing X_train and y_train\n",
        "  # return the unqiue classes\n",
        "  X_test = df_X_test.to_numpy()\n",
        "  y_test = df_y_test.to_numpy()\n",
        "  X_train = df_X_train.to_numpy()\n",
        "  y_train = df_y_train.to_numpy()\n",
        "\n",
        "  unique_classes = set(y.to_numpy())\n",
        "  unique_classes\n",
        "\n",
        "  y_train_reshaped = y_train.reshape(-1, 1)\n",
        "  concatenated_train = np.concatenate((X_train, y_train_reshaped), axis=1)\n",
        "\n",
        "  return X_test, concatenated_train, unique_classes"
      ],
      "metadata": {
        "id": "zr2kiJyXhCzW"
      },
      "execution_count": 139,
      "outputs": []
    },
    {
      "cell_type": "code",
      "source": [
        "X_test, concatenated_train, unique_classes = prepareInputData(df_X_train, df_X_test, df_y_train, df_y_test)\n"
      ],
      "metadata": {
        "id": "_LI1H_RxhO0U"
      },
      "execution_count": 140,
      "outputs": []
    },
    {
      "cell_type": "code",
      "source": [
        "unique_classes"
      ],
      "metadata": {
        "colab": {
          "base_uri": "https://localhost:8080/"
        },
        "id": "i9GLl7QNqf1E",
        "outputId": "860cfce7-2a0c-4aa9-ed83-0878f362d750"
      },
      "execution_count": 141,
      "outputs": [
        {
          "output_type": "execute_result",
          "data": {
            "text/plain": [
              "{'Iris-setosa', 'Iris-versicolor', 'Iris-virginica'}"
            ]
          },
          "metadata": {},
          "execution_count": 141
        }
      ]
    },
    {
      "cell_type": "code",
      "source": [
        "predictions = runPredictionEuclideanMultiClass(X_test,concatenated_train, unique_classes)\n",
        "assert predictions[0] == 'Iris-versicolor'\n",
        "assert predictions[1] == 'Iris-setosa'\n",
        "assert predictions[2] == 'Iris-virginica'"
      ],
      "metadata": {
        "id": "drhjSBphhfxj",
        "colab": {
          "base_uri": "https://localhost:8080/"
        },
        "outputId": "a8f5cb2e-4e16-4fd1-b4c6-3eefb00e7911"
      },
      "execution_count": 142,
      "outputs": [
        {
          "output_type": "stream",
          "name": "stdout",
          "text": [
            "['Iris-versicolor' 'Iris-versicolor' 'Iris-versicolor' 'Iris-versicolor'\n",
            " 'Iris-versicolor']\n",
            "['Iris-versicolor']\n",
            "[5]\n",
            "['Iris-setosa' 'Iris-setosa' 'Iris-setosa' 'Iris-setosa' 'Iris-setosa']\n",
            "['Iris-setosa']\n",
            "[5]\n",
            "['Iris-virginica' 'Iris-virginica' 'Iris-virginica' 'Iris-virginica'\n",
            " 'Iris-virginica']\n",
            "['Iris-virginica']\n",
            "[5]\n",
            "['Iris-versicolor' 'Iris-versicolor' 'Iris-versicolor' 'Iris-versicolor'\n",
            " 'Iris-versicolor']\n",
            "['Iris-versicolor']\n",
            "[5]\n",
            "['Iris-versicolor' 'Iris-versicolor' 'Iris-versicolor' 'Iris-versicolor'\n",
            " 'Iris-versicolor']\n",
            "['Iris-versicolor']\n",
            "[5]\n",
            "['Iris-setosa' 'Iris-setosa' 'Iris-setosa' 'Iris-setosa' 'Iris-setosa']\n",
            "['Iris-setosa']\n",
            "[5]\n",
            "['Iris-versicolor' 'Iris-versicolor' 'Iris-versicolor' 'Iris-versicolor'\n",
            " 'Iris-versicolor']\n",
            "['Iris-versicolor']\n",
            "[5]\n",
            "['Iris-virginica' 'Iris-virginica' 'Iris-virginica' 'Iris-virginica'\n",
            " 'Iris-virginica']\n",
            "['Iris-virginica']\n",
            "[5]\n",
            "['Iris-versicolor' 'Iris-versicolor' 'Iris-virginica' 'Iris-versicolor'\n",
            " 'Iris-virginica']\n",
            "['Iris-versicolor' 'Iris-virginica']\n",
            "[3 2]\n",
            "['Iris-versicolor' 'Iris-versicolor' 'Iris-versicolor' 'Iris-versicolor'\n",
            " 'Iris-versicolor']\n",
            "['Iris-versicolor']\n",
            "[5]\n",
            "['Iris-virginica' 'Iris-virginica' 'Iris-versicolor' 'Iris-virginica'\n",
            " 'Iris-virginica']\n",
            "['Iris-versicolor' 'Iris-virginica']\n",
            "[1 4]\n",
            "['Iris-setosa' 'Iris-setosa' 'Iris-setosa' 'Iris-setosa' 'Iris-setosa']\n",
            "['Iris-setosa']\n",
            "[5]\n",
            "['Iris-setosa' 'Iris-setosa' 'Iris-setosa' 'Iris-setosa' 'Iris-setosa']\n",
            "['Iris-setosa']\n",
            "[5]\n",
            "['Iris-setosa' 'Iris-setosa' 'Iris-setosa' 'Iris-setosa' 'Iris-setosa']\n",
            "['Iris-setosa']\n",
            "[5]\n",
            "['Iris-setosa' 'Iris-setosa' 'Iris-setosa' 'Iris-setosa' 'Iris-setosa']\n",
            "['Iris-setosa']\n",
            "[5]\n",
            "['Iris-versicolor' 'Iris-versicolor' 'Iris-versicolor' 'Iris-versicolor'\n",
            " 'Iris-versicolor']\n",
            "['Iris-versicolor']\n",
            "[5]\n",
            "['Iris-virginica' 'Iris-virginica' 'Iris-virginica' 'Iris-virginica'\n",
            " 'Iris-virginica']\n",
            "['Iris-virginica']\n",
            "[5]\n",
            "['Iris-versicolor' 'Iris-versicolor' 'Iris-versicolor' 'Iris-versicolor'\n",
            " 'Iris-versicolor']\n",
            "['Iris-versicolor']\n",
            "[5]\n",
            "['Iris-versicolor' 'Iris-versicolor' 'Iris-versicolor' 'Iris-versicolor'\n",
            " 'Iris-versicolor']\n",
            "['Iris-versicolor']\n",
            "[5]\n",
            "['Iris-virginica' 'Iris-virginica' 'Iris-virginica' 'Iris-virginica'\n",
            " 'Iris-virginica']\n",
            "['Iris-virginica']\n",
            "[5]\n",
            "['Iris-setosa' 'Iris-setosa' 'Iris-setosa' 'Iris-setosa' 'Iris-setosa']\n",
            "['Iris-setosa']\n",
            "[5]\n",
            "['Iris-virginica' 'Iris-virginica' 'Iris-virginica' 'Iris-versicolor'\n",
            " 'Iris-virginica']\n",
            "['Iris-versicolor' 'Iris-virginica']\n",
            "[1 4]\n",
            "['Iris-setosa' 'Iris-setosa' 'Iris-setosa' 'Iris-setosa' 'Iris-setosa']\n",
            "['Iris-setosa']\n",
            "[5]\n",
            "['Iris-virginica' 'Iris-virginica' 'Iris-virginica' 'Iris-virginica'\n",
            " 'Iris-virginica']\n",
            "['Iris-virginica']\n",
            "[5]\n",
            "['Iris-virginica' 'Iris-virginica' 'Iris-virginica' 'Iris-virginica'\n",
            " 'Iris-virginica']\n",
            "['Iris-virginica']\n",
            "[5]\n",
            "['Iris-virginica' 'Iris-virginica' 'Iris-virginica' 'Iris-virginica'\n",
            " 'Iris-virginica']\n",
            "['Iris-virginica']\n",
            "[5]\n",
            "['Iris-virginica' 'Iris-virginica' 'Iris-virginica' 'Iris-virginica'\n",
            " 'Iris-virginica']\n",
            "['Iris-virginica']\n",
            "[5]\n",
            "['Iris-virginica' 'Iris-virginica' 'Iris-virginica' 'Iris-virginica'\n",
            " 'Iris-virginica']\n",
            "['Iris-virginica']\n",
            "[5]\n",
            "['Iris-setosa' 'Iris-setosa' 'Iris-setosa' 'Iris-setosa' 'Iris-setosa']\n",
            "['Iris-setosa']\n",
            "[5]\n",
            "['Iris-setosa' 'Iris-setosa' 'Iris-setosa' 'Iris-setosa' 'Iris-setosa']\n",
            "['Iris-setosa']\n",
            "[5]\n"
          ]
        }
      ]
    },
    {
      "cell_type": "code",
      "source": [
        "acc = accuracy(predictions, df_y_test.values)\n",
        "assert acc == 1.0"
      ],
      "metadata": {
        "id": "aMUDHzeOhg7i"
      },
      "execution_count": 143,
      "outputs": []
    },
    {
      "cell_type": "code",
      "source": [
        "predictions"
      ],
      "metadata": {
        "colab": {
          "base_uri": "https://localhost:8080/"
        },
        "id": "AcoE7IHZrNn1",
        "outputId": "f7d0fc0c-0efd-44ce-d228-91cd1fbd0fcb"
      },
      "execution_count": 144,
      "outputs": [
        {
          "output_type": "execute_result",
          "data": {
            "text/plain": [
              "array(['Iris-versicolor', 'Iris-setosa', 'Iris-virginica',\n",
              "       'Iris-versicolor', 'Iris-versicolor', 'Iris-setosa',\n",
              "       'Iris-versicolor', 'Iris-virginica', 'Iris-versicolor',\n",
              "       'Iris-versicolor', 'Iris-virginica', 'Iris-setosa', 'Iris-setosa',\n",
              "       'Iris-setosa', 'Iris-setosa', 'Iris-versicolor', 'Iris-virginica',\n",
              "       'Iris-versicolor', 'Iris-versicolor', 'Iris-virginica',\n",
              "       'Iris-setosa', 'Iris-virginica', 'Iris-setosa', 'Iris-virginica',\n",
              "       'Iris-virginica', 'Iris-virginica', 'Iris-virginica',\n",
              "       'Iris-virginica', 'Iris-setosa', 'Iris-setosa'], dtype='<U15')"
            ]
          },
          "metadata": {},
          "execution_count": 144
        }
      ]
    },
    {
      "cell_type": "code",
      "source": [
        "df_y_test.values"
      ],
      "metadata": {
        "colab": {
          "base_uri": "https://localhost:8080/"
        },
        "id": "BNj4Hib2p1KC",
        "outputId": "3aad8a74-1347-402a-f2af-984d6fe333bf"
      },
      "execution_count": 145,
      "outputs": [
        {
          "output_type": "execute_result",
          "data": {
            "text/plain": [
              "array(['Iris-versicolor', 'Iris-setosa', 'Iris-virginica',\n",
              "       'Iris-versicolor', 'Iris-versicolor', 'Iris-setosa',\n",
              "       'Iris-versicolor', 'Iris-virginica', 'Iris-versicolor',\n",
              "       'Iris-versicolor', 'Iris-virginica', 'Iris-setosa', 'Iris-setosa',\n",
              "       'Iris-setosa', 'Iris-setosa', 'Iris-versicolor', 'Iris-virginica',\n",
              "       'Iris-versicolor', 'Iris-versicolor', 'Iris-virginica',\n",
              "       'Iris-setosa', 'Iris-virginica', 'Iris-setosa', 'Iris-virginica',\n",
              "       'Iris-virginica', 'Iris-virginica', 'Iris-virginica',\n",
              "       'Iris-virginica', 'Iris-setosa', 'Iris-setosa'], dtype=object)"
            ]
          },
          "metadata": {},
          "execution_count": 145
        }
      ]
    },
    {
      "cell_type": "markdown",
      "source": [],
      "metadata": {
        "id": "rkRtw5NtjVG1"
      }
    },
    {
      "cell_type": "code",
      "source": [],
      "metadata": {
        "id": "7KUib3JQka1z"
      },
      "execution_count": 145,
      "outputs": []
    }
  ]
}