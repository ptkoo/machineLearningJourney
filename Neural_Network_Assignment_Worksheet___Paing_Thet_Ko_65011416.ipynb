{
  "nbformat": 4,
  "nbformat_minor": 0,
  "metadata": {
    "colab": {
      "provenance": [],
      "collapsed_sections": [
        "TklZOMGORnYK",
        "8nMVWHbpY6qh",
        "nxirXYlYRcTS"
      ],
      "include_colab_link": true
    },
    "kernelspec": {
      "name": "python3",
      "display_name": "Python 3"
    },
    "language_info": {
      "name": "python"
    }
  },
  "cells": [
    {
      "cell_type": "markdown",
      "metadata": {
        "id": "view-in-github",
        "colab_type": "text"
      },
      "source": [
        "<a href=\"https://colab.research.google.com/github/ptkoo/machineLearningJourney/blob/main/Neural_Network_Assignment_Worksheet___Paing_Thet_Ko_65011416.ipynb\" target=\"_parent\"><img src=\"https://colab.research.google.com/assets/colab-badge.svg\" alt=\"Open In Colab\"/></a>"
      ]
    },
    {
      "cell_type": "code",
      "execution_count": null,
      "metadata": {
        "id": "gzWQWZkKlEoP"
      },
      "outputs": [],
      "source": [
        "# Simple neural network"
      ]
    },
    {
      "cell_type": "code",
      "source": [
        "import numpy as np"
      ],
      "metadata": {
        "id": "Bz-U1yAlo54Q"
      },
      "execution_count": null,
      "outputs": []
    },
    {
      "cell_type": "code",
      "source": [
        "class NeuronNetworkLayer:\n",
        "  # Initializer / Instance Attributes\n",
        "  def __init__(self, num_input, num_output,activation, initial_gain):\n",
        "      np.random.seed(42)\n",
        "      self.inputs = []\n",
        "      self.outputs = []\n",
        "      self.weights = np.random.rand(num_output, num_input)*initial_gain\n",
        "      self.bias = np.random.rand(num_output)* initial_gain\n",
        "      self.activation = activation\n",
        "\n",
        "\n",
        "  def sigmoid(self, x):\n",
        "    # caculate and return output\n",
        "    output = 1 / (1 + np.exp(-x))\n",
        "    return output\n",
        "\n",
        "  def relu(self, x):\n",
        "    # caculate and return output\n",
        "    output = np.maximum(0, x)\n",
        "    return output\n",
        "\n",
        "\n",
        "  def forward(self, input):\n",
        "    # calculate forward propagation of layer then store in and return self.outputs\n",
        "    self.inputs = input\n",
        "    weighted_sum = np.dot(self.weights, input) + self.bias\n",
        "    if self.activation == 'sigmoid':\n",
        "      self.outputs = self.sigmoid(weighted_sum)\n",
        "    elif self.activation == 'relu':\n",
        "      self.outputs = self.relu(weighted_sum)\n",
        "    return self.outputs\n",
        "\n",
        "\n",
        "  def backprop(self, incoming_gradients, learning_rate):\n",
        "    # Calculate gradient of Loss with respect to weights, biases and inputs.\n",
        "    # Use the gradients to update the weights and biases.\n",
        "    # Return the input_gradients for use in the next layer.\n",
        "    if self.activation == 'sigmoid':\n",
        "      derivative = self.outputs * (1 - self.outputs)\n",
        "    elif self.activation == 'relu':\n",
        "      derivative = np.where(self.outputs > 0, 1, 0)\n",
        "\n",
        "    # # the incoming gradients (which are the gradients of the loss with respect to the output of the layer)\n",
        "    incoming_gradients = np.array([incoming_gradients]) if isinstance(incoming_gradients, np.float64) else incoming_gradients\n",
        "\n",
        "    grad_weights = np.outer(incoming_gradients * derivative, self.inputs) # Chain Rule\n",
        "\n",
        "    grad_bias = incoming_gradients * derivative # Chain Rule\n",
        "\n",
        "    input_gradients = np.dot(incoming_gradients * derivative, self.weights) # Chain Rule\n",
        "\n",
        "    # Gradient Descent\n",
        "    self.weights -= learning_rate * grad_weights\n",
        "    self.bias -= learning_rate * grad_bias.squeeze() # Delete single dimension if (n,1) then (n,)\n",
        "\n",
        "    return input_gradients"
      ],
      "metadata": {
        "id": "adRlG2u9lIZs"
      },
      "execution_count": null,
      "outputs": []
    },
    {
      "cell_type": "code",
      "source": [
        "class NeuralNetwork:\n",
        "  def __init__(self):\n",
        "      self.layers = []\n",
        "      self.output = None\n",
        "\n",
        "  def add_layer(self, nn_layer):\n",
        "    # Add layer to neural network\n",
        "    self.layers.append(nn_layer)\n",
        "\n",
        "  def forward(self, input):\n",
        "    # Do forward propagation through entire neural network\n",
        "    # Calculate and return the final layer_output\n",
        "    if input.ndim == 1:  # Single sample\n",
        "      input = input.reshape(1, -1)  # Reshape to 2D array with one row\n",
        "    # input.reshape(1, -1): If the input is one-dimensional, this line reshapes it into a two-dimensional array with one row and as many columns as needed\n",
        "\n",
        "    layer_outputs = []\n",
        "    for sample in input:\n",
        "      layer_output = sample  # Initialize the layer output for the current sample\n",
        "      for layer in self.layers:\n",
        "          layer_output = layer.forward(layer_output)  # Forward pass through the layer\n",
        "      layer_outputs.append(layer_output)  # Append the output of the current sample\n",
        "\n",
        "    self.output = np.array(layer_outputs).squeeze()\n",
        "    return self.output\n",
        "\n",
        "  # Necessary for back propagation\n",
        "  def loss(self, output, target):\n",
        "    # Calculate and return MSE loss\n",
        "    #loss = np.mean(np.square(output - target))\n",
        "    output = np.asarray(output)\n",
        "    target = np.asarray(target)\n",
        "    # print(output.shape)\n",
        "    loss = np.mean(np.square(target - output))\n",
        "    return loss\n",
        "\n",
        "  def loss_derivative(self, output, target):\n",
        "    # Calculate and return derivative of MSE loss\n",
        "    dLoss = (output - target)\n",
        "    return dLoss\n",
        "\n",
        "  def backward(self, dLoss, learning_rate):\n",
        "    # Perform backpropagtion though entire neural network\n",
        "    # Return the input_gradients in the last layer\n",
        "    input_gradients = dLoss\n",
        "    for layer in reversed(self.layers):\n",
        "      input_gradients = layer.backprop(input_gradients, learning_rate)\n",
        "    return input_gradients\n",
        "\n",
        "  def train(self, iterations, train_x, train_y, learning_rate, print_every):\n",
        "    # Train the neural network\n",
        "    for i in range(iterations):\n",
        "      total_loss=0\n",
        "      for row_x, row_y in zip(train_x, train_y):\n",
        "        # print('row_x', row_x)\n",
        "        # print('row_y', row_y)\n",
        "        # loss = ?\n",
        "        # total_loss = total_loss + loss\n",
        "        # Forward pass\n",
        "        output = self.forward(row_x)\n",
        "        # Compute loss\n",
        "        # print(output)\n",
        "        # print(row_y)\n",
        "        loss = self.loss(output, row_y)\n",
        "        total_loss += loss\n",
        "        # Compute loss derivative\n",
        "        dLoss = self.loss_derivative(output, row_y)\n",
        "        # Backward pass\n",
        "        self.backward(dLoss, learning_rate)\n",
        "\n",
        "      if i%print_every==0:\n",
        "        print('total_loss', total_loss)\n",
        "\n",
        "    return total_loss\n"
      ],
      "metadata": {
        "id": "CFvwhu5jEybH"
      },
      "execution_count": null,
      "outputs": []
    },
    {
      "cell_type": "markdown",
      "source": [
        "## Section 1: Neural Network Algorithm Run Through"
      ],
      "metadata": {
        "id": "TklZOMGORnYK"
      }
    },
    {
      "cell_type": "code",
      "source": [
        "# You have one row of input with two columns. You can think of as column A and column B.\n",
        "# Here column A=1 and column B=0\n",
        "input = np.array([1,0])"
      ],
      "metadata": {
        "id": "vpzXpZdBRyQp"
      },
      "execution_count": null,
      "outputs": []
    },
    {
      "cell_type": "code",
      "source": [
        "layer1 = NeuronNetworkLayer(2,5, 'sigmoid', 0.01)"
      ],
      "metadata": {
        "id": "2x4-E5NWU8O8"
      },
      "execution_count": null,
      "outputs": []
    },
    {
      "cell_type": "code",
      "source": [
        "layer1_bias = layer1.bias\n",
        "layer1_bias"
      ],
      "metadata": {
        "colab": {
          "base_uri": "https://localhost:8080/"
        },
        "id": "1dpYSHgtSZot",
        "outputId": "cc6326ec-94ea-4d74-ca50-6e0cb9408ff3"
      },
      "execution_count": null,
      "outputs": [
        {
          "output_type": "execute_result",
          "data": {
            "text/plain": [
              "array([0.00020584, 0.0096991 , 0.00832443, 0.00212339, 0.00181825])"
            ]
          },
          "metadata": {},
          "execution_count": 481
        }
      ]
    },
    {
      "cell_type": "code",
      "source": [
        "assert np.allclose( layer1_bias, np.array([0.00020584, 0.0096991 , 0.00832443, 0.00212339, 0.00181825]) )"
      ],
      "metadata": {
        "id": "QsTohHvWVHhE"
      },
      "execution_count": null,
      "outputs": []
    },
    {
      "cell_type": "code",
      "source": [
        "layer1_weights = layer1.weights\n",
        "layer1_weights"
      ],
      "metadata": {
        "colab": {
          "base_uri": "https://localhost:8080/"
        },
        "id": "00mUTLjUSanT",
        "outputId": "450326a9-e94d-46a3-b0ef-f499f5ec7962"
      },
      "execution_count": null,
      "outputs": [
        {
          "output_type": "execute_result",
          "data": {
            "text/plain": [
              "array([[0.0037454 , 0.00950714],\n",
              "       [0.00731994, 0.00598658],\n",
              "       [0.00156019, 0.00155995],\n",
              "       [0.00058084, 0.00866176],\n",
              "       [0.00601115, 0.00708073]])"
            ]
          },
          "metadata": {},
          "execution_count": 483
        }
      ]
    },
    {
      "cell_type": "code",
      "source": [
        "assert np.allclose( layer1_weights, np.array([[0.0037454 , 0.00950714],[0.00731994, 0.00598658],[0.00156019, 0.00155995],[0.00058084, 0.00866176],[0.00601115, 0.00708073]]) )"
      ],
      "metadata": {
        "id": "onlwVzMiVNwp"
      },
      "execution_count": null,
      "outputs": []
    },
    {
      "cell_type": "code",
      "source": [
        "layer1_forward = layer1.forward(input)\n",
        "layer1_forward"
      ],
      "metadata": {
        "colab": {
          "base_uri": "https://localhost:8080/"
        },
        "id": "eirOBn0SSNkz",
        "outputId": "db41e1af-e792-4987-8035-1533c77565b5"
      },
      "execution_count": null,
      "outputs": [
        {
          "output_type": "execute_result",
          "data": {
            "text/plain": [
              "array([0.50098781, 0.50425466, 0.50247113, 0.50067606, 0.50195734])"
            ]
          },
          "metadata": {},
          "execution_count": 485
        }
      ]
    },
    {
      "cell_type": "code",
      "source": [
        "assert np.allclose( layer1_forward, np.array([0.50098781, 0.50425466, 0.50247113, 0.50067606, 0.50195734]) )"
      ],
      "metadata": {
        "id": "XN2iCPZjVclq"
      },
      "execution_count": null,
      "outputs": []
    },
    {
      "cell_type": "code",
      "source": [
        "# let's build a neural network with 3 layers"
      ],
      "metadata": {
        "id": "6NyUbH_rSNnp"
      },
      "execution_count": null,
      "outputs": []
    },
    {
      "cell_type": "code",
      "source": [
        "layer1 = NeuronNetworkLayer(2,5, 'relu', 0.01)\n",
        "layer2 = NeuronNetworkLayer(5,10, 'relu', 0.01)\n",
        "layer3 = NeuronNetworkLayer(10,1, 'relu', 0.01)"
      ],
      "metadata": {
        "id": "qzRAz0biUaJY"
      },
      "execution_count": null,
      "outputs": []
    },
    {
      "cell_type": "code",
      "source": [
        "output1 = layer1.forward(input)\n",
        "output2 = layer2.forward(output1)\n",
        "output3 = layer3.forward(output2)\n",
        "output3"
      ],
      "metadata": {
        "colab": {
          "base_uri": "https://localhost:8080/"
        },
        "id": "Ocl82z15UbP-",
        "outputId": "308cbffa-440c-4e0a-8854-7212f10f78d2"
      },
      "execution_count": null,
      "outputs": [
        {
          "output_type": "execute_result",
          "data": {
            "text/plain": [
              "array([0.00051439])"
            ]
          },
          "metadata": {},
          "execution_count": 489
        }
      ]
    },
    {
      "cell_type": "code",
      "source": [
        "assert np.allclose(output3 , np.array([0.00051439]))"
      ],
      "metadata": {
        "id": "yzxVRTePUbTu"
      },
      "execution_count": null,
      "outputs": []
    },
    {
      "cell_type": "code",
      "source": [
        "# Now let's find the error and error gradient\n",
        "\n",
        "def cal_derivative_and_loss(output3,target):\n",
        "  print(output3)\n",
        "  final_output = output3\n",
        "  loss = (target - final_output)**2\n",
        "  dLoss = final_output-target\n",
        "  return loss, dLoss"
      ],
      "metadata": {
        "id": "DGoExXKUVra0"
      },
      "execution_count": null,
      "outputs": []
    },
    {
      "cell_type": "code",
      "source": [
        "loss, dLoss = cal_derivative_and_loss(output3,1)"
      ],
      "metadata": {
        "id": "W-9nRRnmWVJO",
        "colab": {
          "base_uri": "https://localhost:8080/"
        },
        "outputId": "835a1268-45d1-4817-a787-7ef28b1d1786"
      },
      "execution_count": null,
      "outputs": [
        {
          "output_type": "stream",
          "name": "stdout",
          "text": [
            "[0.00051439]\n"
          ]
        }
      ]
    },
    {
      "cell_type": "code",
      "source": [
        "loss"
      ],
      "metadata": {
        "colab": {
          "base_uri": "https://localhost:8080/"
        },
        "id": "5_rcMa4dV41Y",
        "outputId": "d31fcacf-b302-493d-f3b3-57ed642a8b86"
      },
      "execution_count": null,
      "outputs": [
        {
          "output_type": "execute_result",
          "data": {
            "text/plain": [
              "array([0.99897149])"
            ]
          },
          "metadata": {},
          "execution_count": 493
        }
      ]
    },
    {
      "cell_type": "code",
      "source": [
        "dLoss"
      ],
      "metadata": {
        "colab": {
          "base_uri": "https://localhost:8080/"
        },
        "id": "a3ozLakiWeDj",
        "outputId": "a4ad88a4-b1ca-4aa7-8ddd-055ddc359342"
      },
      "execution_count": null,
      "outputs": [
        {
          "output_type": "execute_result",
          "data": {
            "text/plain": [
              "array([-0.99948561])"
            ]
          },
          "metadata": {},
          "execution_count": 494
        }
      ]
    },
    {
      "cell_type": "code",
      "source": [
        "assert np.allclose( loss, 0.9989714888495282)\n",
        "assert np.allclose( dLoss, -0.9994856121273223)"
      ],
      "metadata": {
        "id": "gcn1wIE0Wf2G"
      },
      "execution_count": null,
      "outputs": []
    },
    {
      "cell_type": "code",
      "source": [
        "# Now let's start backprop on the layers"
      ],
      "metadata": {
        "id": "fnIUk1C6WsqO"
      },
      "execution_count": null,
      "outputs": []
    },
    {
      "cell_type": "code",
      "source": [
        "input_gradients3 = layer3.backprop(dLoss, 0.1)\n",
        "input_gradients3"
      ],
      "metadata": {
        "colab": {
          "base_uri": "https://localhost:8080/"
        },
        "id": "7fh6P7g9Wpam",
        "outputId": "97c3dc31-4630-4283-ab83-acfb3377ac51"
      },
      "execution_count": null,
      "outputs": [
        {
          "output_type": "execute_result",
          "data": {
            "text/plain": [
              "array([-0.00374347, -0.00950225, -0.00731617, -0.00598351, -0.00155938,\n",
              "       -0.00155914, -0.00058054, -0.00865731, -0.00600806, -0.00707708])"
            ]
          },
          "metadata": {},
          "execution_count": 497
        }
      ]
    },
    {
      "cell_type": "code",
      "source": [
        "assert np.allclose( input_gradients3, np.array([-0.00374347, -0.00950225, -0.00731617, -0.00598351, -0.00155938,\n",
        "       -0.00155914, -0.00058054, -0.00865731, -0.00600806, -0.00707708]))"
      ],
      "metadata": {
        "id": "iYvNXQv5XaOu"
      },
      "execution_count": null,
      "outputs": []
    },
    {
      "cell_type": "code",
      "source": [
        "input_gradients2 = layer2.backprop(input_gradients3, 0.1)\n",
        "input_gradients2"
      ],
      "metadata": {
        "colab": {
          "base_uri": "https://localhost:8080/"
        },
        "id": "iNRQamfrXjqC",
        "outputId": "602abde3-0a00-44ed-8641-e9c0805d3716"
      },
      "execution_count": null,
      "outputs": [
        {
          "output_type": "execute_result",
          "data": {
            "text/plain": [
              "array([-0.00019084, -0.00021473, -0.00026229, -0.00029393, -0.00018403])"
            ]
          },
          "metadata": {},
          "execution_count": 499
        }
      ]
    },
    {
      "cell_type": "code",
      "source": [
        "assert np.allclose( input_gradients2, np.array([-0.00019084, -0.00021473, -0.00026229, -0.00029393, -0.00018403]))"
      ],
      "metadata": {
        "id": "qa3G-oH4YNXk"
      },
      "execution_count": null,
      "outputs": []
    },
    {
      "cell_type": "code",
      "source": [
        "input_gradients1 = layer1.backprop(input_gradients2, 0.1)\n",
        "input_gradients1"
      ],
      "metadata": {
        "colab": {
          "base_uri": "https://localhost:8080/"
        },
        "id": "N_sngzBMYXnZ",
        "outputId": "c2c33f68-93a3-439f-efaf-db2d0809dbaa"
      },
      "execution_count": null,
      "outputs": [
        {
          "output_type": "execute_result",
          "data": {
            "text/plain": [
              "array([-3.97277662e-06, -7.35800919e-06])"
            ]
          },
          "metadata": {},
          "execution_count": 501
        }
      ]
    },
    {
      "cell_type": "code",
      "source": [
        "assert np.allclose( input_gradients1, np.array([-3.98009953e-06, -7.36642273e-06] ))"
      ],
      "metadata": {
        "id": "TsMPk2ftYQFz"
      },
      "execution_count": null,
      "outputs": []
    },
    {
      "cell_type": "code",
      "source": [],
      "metadata": {
        "id": "X1Eo0lj5YQJK"
      },
      "execution_count": null,
      "outputs": []
    },
    {
      "cell_type": "markdown",
      "source": [
        "## Section 2: Build the Neural Network Class."
      ],
      "metadata": {
        "id": "8nMVWHbpY6qh"
      }
    },
    {
      "cell_type": "code",
      "source": [
        "nn_model = NeuralNetwork()\n",
        "nn_model.add_layer(NeuronNetworkLayer(2,5, 'sigmoid', 0.01) )\n",
        "nn_model.add_layer(NeuronNetworkLayer(5,10, 'sigmoid', 0.01) )\n",
        "nn_model.add_layer(NeuronNetworkLayer(10, 1, 'sigmoid', 0.01) )"
      ],
      "metadata": {
        "id": "bE09CynlYQMN"
      },
      "execution_count": null,
      "outputs": []
    },
    {
      "cell_type": "code",
      "source": [
        "input = np.array([1,0])\n",
        "target = np.array([1])"
      ],
      "metadata": {
        "id": "hY3r5N-CZhbf"
      },
      "execution_count": null,
      "outputs": []
    },
    {
      "cell_type": "code",
      "source": [
        "forward_result = nn_model.forward(input)\n",
        "forward_result"
      ],
      "metadata": {
        "colab": {
          "base_uri": "https://localhost:8080/"
        },
        "id": "GaqFmxYDYQPz",
        "outputId": "dab4f317-885d-4e02-8e71-979ea14bbc72"
      },
      "execution_count": null,
      "outputs": [
        {
          "output_type": "execute_result",
          "data": {
            "text/plain": [
              "array(0.50660746)"
            ]
          },
          "metadata": {},
          "execution_count": 505
        }
      ]
    },
    {
      "cell_type": "code",
      "source": [
        "assert np.allclose( forward_result, np.array([0.50660746]) )"
      ],
      "metadata": {
        "id": "yhHb4ya1ZkYK"
      },
      "execution_count": null,
      "outputs": []
    },
    {
      "cell_type": "code",
      "source": [
        "loss = nn_model.loss(forward_result, target)\n",
        "loss"
      ],
      "metadata": {
        "colab": {
          "base_uri": "https://localhost:8080/"
        },
        "id": "qW6yzdJraAyz",
        "outputId": "bac3499f-930f-4fbf-e4f6-3de97508c754"
      },
      "execution_count": null,
      "outputs": [
        {
          "output_type": "execute_result",
          "data": {
            "text/plain": [
              "0.24343619827363822"
            ]
          },
          "metadata": {},
          "execution_count": 507
        }
      ]
    },
    {
      "cell_type": "code",
      "source": [
        "loss_derivative = nn_model.loss_derivative(forward_result, target)\n",
        "loss_derivative"
      ],
      "metadata": {
        "colab": {
          "base_uri": "https://localhost:8080/"
        },
        "id": "kPT_s4iVaaoR",
        "outputId": "eb6d05ff-a38a-4a2d-f2e2-5f5560e2be8f"
      },
      "execution_count": null,
      "outputs": [
        {
          "output_type": "execute_result",
          "data": {
            "text/plain": [
              "array([-0.49339254])"
            ]
          },
          "metadata": {},
          "execution_count": 508
        }
      ]
    },
    {
      "cell_type": "code",
      "source": [
        "assert np.allclose(loss, np.array([0.2434362]) )\n",
        "assert np.allclose(loss_derivative, np.array([-0.49339254]) )"
      ],
      "metadata": {
        "id": "vxsHKqTIbJkm"
      },
      "execution_count": null,
      "outputs": []
    },
    {
      "cell_type": "code",
      "source": [
        "backward_result = nn_model.backward(loss_derivative,0.1)\n",
        "backward_result"
      ],
      "metadata": {
        "colab": {
          "base_uri": "https://localhost:8080/"
        },
        "id": "inwXJF8zZkbd",
        "outputId": "8467e0ab-2ce9-480b-96b7-b597ecf717bd"
      },
      "execution_count": null,
      "outputs": [
        {
          "output_type": "execute_result",
          "data": {
            "text/plain": [
              "array([-3.06340704e-08, -5.67389248e-08])"
            ]
          },
          "metadata": {},
          "execution_count": 510
        }
      ]
    },
    {
      "cell_type": "code",
      "source": [
        "assert np.allclose(backward_result, np.array([-3.06340704e-08, -5.67389248e-08]) )"
      ],
      "metadata": {
        "id": "VYnAYc3SZkej"
      },
      "execution_count": null,
      "outputs": []
    },
    {
      "cell_type": "code",
      "source": [
        "train_x = np.array( [[1,1]] )\n",
        "train_y = np.array([[1]] )\n",
        "\n",
        "total_loss = nn_model.train(10,train_x, train_y, 0.1, 1)"
      ],
      "metadata": {
        "colab": {
          "base_uri": "https://localhost:8080/"
        },
        "id": "N5XICzV5Zkjd",
        "outputId": "4b397f43-a7da-413a-9167-b7ae3de2cf77"
      },
      "execution_count": null,
      "outputs": [
        {
          "output_type": "stream",
          "name": "stdout",
          "text": [
            "total_loss 0.23278358174415567\n",
            "total_loss 0.22262202387316252\n",
            "total_loss 0.21294412619571323\n",
            "total_loss 0.20373945755988393\n",
            "total_loss 0.1949951315298813\n",
            "total_loss 0.18669632207229045\n",
            "total_loss 0.17882673659198378\n",
            "total_loss 0.1713690397866621\n",
            "total_loss 0.16430522529255934\n",
            "total_loss 0.15761693488389558\n"
          ]
        }
      ]
    },
    {
      "cell_type": "code",
      "source": [
        "assert total_loss < 0.2"
      ],
      "metadata": {
        "id": "qgOpJoAvb5Xu"
      },
      "execution_count": null,
      "outputs": []
    },
    {
      "cell_type": "code",
      "source": [],
      "metadata": {
        "id": "bx15oKqUb5au"
      },
      "execution_count": null,
      "outputs": []
    },
    {
      "cell_type": "code",
      "source": [],
      "metadata": {
        "id": "zwVrKWNbb5gJ"
      },
      "execution_count": null,
      "outputs": []
    },
    {
      "cell_type": "markdown",
      "source": [
        "## Section 3: Let's Model Some Logic Gates"
      ],
      "metadata": {
        "id": "nxirXYlYRcTS"
      }
    },
    {
      "cell_type": "code",
      "source": [
        "# Let's train an AND Gate"
      ],
      "metadata": {
        "id": "1tY_Udn7m7gC"
      },
      "execution_count": null,
      "outputs": []
    },
    {
      "cell_type": "code",
      "source": [
        "nn_model = NeuralNetwork()\n",
        "nn_model.add_layer(NeuronNetworkLayer(2,5, 'sigmoid', 0.01) )\n",
        "nn_model.add_layer(NeuronNetworkLayer(5,10, 'sigmoid', 0.01) )\n",
        "nn_model.add_layer(NeuronNetworkLayer(10, 1, 'sigmoid', 0.01) )"
      ],
      "metadata": {
        "id": "HzEfIlegFLUU"
      },
      "execution_count": null,
      "outputs": []
    },
    {
      "cell_type": "code",
      "source": [
        "train_x = np.array([ [1,1], [1,0], [0,1], [0,0]])\n",
        "train_y = np.array([[1], [0], [0], [0] ])\n",
        "\n",
        "total_loss = nn_model.train(2000,train_x, train_y, 0.5, 500)"
      ],
      "metadata": {
        "colab": {
          "base_uri": "https://localhost:8080/"
        },
        "id": "77c3peEnLwPp",
        "outputId": "fe03fc8e-4449-4db0-cf85-324d670d3690"
      },
      "execution_count": null,
      "outputs": [
        {
          "output_type": "stream",
          "name": "stdout",
          "text": [
            "total_loss 1.0060940031829388\n",
            "total_loss 0.7800871908607746\n",
            "total_loss 0.6578889971126604\n",
            "total_loss 0.03124644445794698\n"
          ]
        }
      ]
    },
    {
      "cell_type": "code",
      "source": [
        "assert total_loss < 0.01"
      ],
      "metadata": {
        "id": "69RXxGPhdg2H"
      },
      "execution_count": null,
      "outputs": []
    },
    {
      "cell_type": "code",
      "source": [
        "# for AND gate an input of [1,1] should give output of 1\n",
        "nn_model.forward(np.array([1,1]))"
      ],
      "metadata": {
        "colab": {
          "base_uri": "https://localhost:8080/"
        },
        "id": "quhHyBRofq1x",
        "outputId": "696e74ee-ce01-49f1-c373-e7aedc931be0"
      },
      "execution_count": null,
      "outputs": [
        {
          "output_type": "execute_result",
          "data": {
            "text/plain": [
              "array(0.93399522)"
            ]
          },
          "metadata": {},
          "execution_count": 518
        }
      ]
    },
    {
      "cell_type": "code",
      "source": [
        "assert nn_model.forward(np.array([1,1])) > 0.9"
      ],
      "metadata": {
        "id": "sBl-q5H7d0gU"
      },
      "execution_count": null,
      "outputs": []
    },
    {
      "cell_type": "code",
      "source": [
        "# for AND gate an input of [1,0] should give output of 0\n",
        "nn_model.forward(np.array([1,0]))"
      ],
      "metadata": {
        "colab": {
          "base_uri": "https://localhost:8080/"
        },
        "id": "MW84VkOjfF_U",
        "outputId": "353836fc-29c1-4948-f46b-78e1376d708b"
      },
      "execution_count": null,
      "outputs": [
        {
          "output_type": "execute_result",
          "data": {
            "text/plain": [
              "array(0.03395968)"
            ]
          },
          "metadata": {},
          "execution_count": 520
        }
      ]
    },
    {
      "cell_type": "code",
      "source": [
        "assert nn_model.forward(np.array([1,0])) < 0.1"
      ],
      "metadata": {
        "id": "BTyQ0gKcd4yF"
      },
      "execution_count": null,
      "outputs": []
    },
    {
      "cell_type": "code",
      "source": [
        "# for AND gate an input of [0,1] should give output of 0\n",
        "nn_model.forward(np.array([0,1]))"
      ],
      "metadata": {
        "colab": {
          "base_uri": "https://localhost:8080/"
        },
        "id": "BDGWxBS7fkNP",
        "outputId": "8b31e3e2-fa66-4a11-fa0f-689e1b7dd0ba"
      },
      "execution_count": null,
      "outputs": [
        {
          "output_type": "execute_result",
          "data": {
            "text/plain": [
              "array(0.03426685)"
            ]
          },
          "metadata": {},
          "execution_count": 522
        }
      ]
    },
    {
      "cell_type": "code",
      "source": [
        "assert nn_model.forward(np.array([0,1])) < 0.1"
      ],
      "metadata": {
        "id": "iReHbmaTd78f"
      },
      "execution_count": null,
      "outputs": []
    },
    {
      "cell_type": "code",
      "source": [
        "nn_model.forward(np.array([0,0]))"
      ],
      "metadata": {
        "colab": {
          "base_uri": "https://localhost:8080/"
        },
        "id": "J4QFh9ilfvxh",
        "outputId": "a17f26b3-31d0-4000-d4e3-330443cc13ce"
      },
      "execution_count": null,
      "outputs": [
        {
          "output_type": "execute_result",
          "data": {
            "text/plain": [
              "array(0.00019878)"
            ]
          },
          "metadata": {},
          "execution_count": 524
        }
      ]
    },
    {
      "cell_type": "code",
      "source": [
        "assert nn_model.forward(np.array([0,0])) < 0.1"
      ],
      "metadata": {
        "id": "76yg0Czgd_U1"
      },
      "execution_count": null,
      "outputs": []
    },
    {
      "cell_type": "code",
      "source": [
        "# Let's train an OR Gate and let's make it harder for the model by asking it to predict 0.69"
      ],
      "metadata": {
        "id": "ORnN48oGnDyt"
      },
      "execution_count": null,
      "outputs": []
    },
    {
      "cell_type": "code",
      "source": [
        "nn_model = NeuralNetwork()\n",
        "nn_model.add_layer(NeuronNetworkLayer(2,5, 'relu', 0.01) )\n",
        "nn_model.add_layer(NeuronNetworkLayer(5,10, 'relu', 0.01) )\n",
        "nn_model.add_layer(NeuronNetworkLayer(10, 2, 'linear', 0.01) )"
      ],
      "metadata": {
        "id": "s1QTpDnRnHkL"
      },
      "execution_count": null,
      "outputs": []
    },
    {
      "cell_type": "code",
      "source": [
        "# nn_model.test(np.array([1,0]))\n",
        "\n",
        "train_x = np.array([ [1,1], [1,0], [0,1], [0,0]])\n",
        "train_y = np.array([[1,0.69], [1,0.69], [1,0.69], [0,0.69] ])\n",
        "\n",
        "total_loss = nn_model.train(4000,train_x, train_y, 0.1, 500)"
      ],
      "metadata": {
        "colab": {
          "base_uri": "https://localhost:8080/",
          "height": 321
        },
        "id": "fyoxPV7knHnT",
        "outputId": "dde87344-f762-42e5-c2f2-4b5d6b6cb4c1"
      },
      "execution_count": null,
      "outputs": [
        {
          "output_type": "error",
          "ename": "ValueError",
          "evalue": "operands could not be broadcast together with shapes (2,) (0,) ",
          "traceback": [
            "\u001b[0;31m---------------------------------------------------------------------------\u001b[0m",
            "\u001b[0;31mValueError\u001b[0m                                Traceback (most recent call last)",
            "\u001b[0;32m<ipython-input-528-80f62e9c0499>\u001b[0m in \u001b[0;36m<cell line: 6>\u001b[0;34m()\u001b[0m\n\u001b[1;32m      4\u001b[0m \u001b[0mtrain_y\u001b[0m \u001b[0;34m=\u001b[0m \u001b[0mnp\u001b[0m\u001b[0;34m.\u001b[0m\u001b[0marray\u001b[0m\u001b[0;34m(\u001b[0m\u001b[0;34m[\u001b[0m\u001b[0;34m[\u001b[0m\u001b[0;36m1\u001b[0m\u001b[0;34m,\u001b[0m\u001b[0;36m0.69\u001b[0m\u001b[0;34m]\u001b[0m\u001b[0;34m,\u001b[0m \u001b[0;34m[\u001b[0m\u001b[0;36m1\u001b[0m\u001b[0;34m,\u001b[0m\u001b[0;36m0.69\u001b[0m\u001b[0;34m]\u001b[0m\u001b[0;34m,\u001b[0m \u001b[0;34m[\u001b[0m\u001b[0;36m1\u001b[0m\u001b[0;34m,\u001b[0m\u001b[0;36m0.69\u001b[0m\u001b[0;34m]\u001b[0m\u001b[0;34m,\u001b[0m \u001b[0;34m[\u001b[0m\u001b[0;36m0\u001b[0m\u001b[0;34m,\u001b[0m\u001b[0;36m0.69\u001b[0m\u001b[0;34m]\u001b[0m \u001b[0;34m]\u001b[0m\u001b[0;34m)\u001b[0m\u001b[0;34m\u001b[0m\u001b[0;34m\u001b[0m\u001b[0m\n\u001b[1;32m      5\u001b[0m \u001b[0;34m\u001b[0m\u001b[0m\n\u001b[0;32m----> 6\u001b[0;31m \u001b[0mtotal_loss\u001b[0m \u001b[0;34m=\u001b[0m \u001b[0mnn_model\u001b[0m\u001b[0;34m.\u001b[0m\u001b[0mtrain\u001b[0m\u001b[0;34m(\u001b[0m\u001b[0;36m4000\u001b[0m\u001b[0;34m,\u001b[0m\u001b[0mtrain_x\u001b[0m\u001b[0;34m,\u001b[0m \u001b[0mtrain_y\u001b[0m\u001b[0;34m,\u001b[0m \u001b[0;36m0.1\u001b[0m\u001b[0;34m,\u001b[0m \u001b[0;36m500\u001b[0m\u001b[0;34m)\u001b[0m\u001b[0;34m\u001b[0m\u001b[0;34m\u001b[0m\u001b[0m\n\u001b[0m",
            "\u001b[0;32m<ipython-input-478-d3f7e83f0b82>\u001b[0m in \u001b[0;36mtrain\u001b[0;34m(self, iterations, train_x, train_y, learning_rate, print_every)\u001b[0m\n\u001b[1;32m     62\u001b[0m         \u001b[0;31m# print(output)\u001b[0m\u001b[0;34m\u001b[0m\u001b[0;34m\u001b[0m\u001b[0m\n\u001b[1;32m     63\u001b[0m         \u001b[0;31m# print(row_y)\u001b[0m\u001b[0;34m\u001b[0m\u001b[0;34m\u001b[0m\u001b[0m\n\u001b[0;32m---> 64\u001b[0;31m         \u001b[0mloss\u001b[0m \u001b[0;34m=\u001b[0m \u001b[0mself\u001b[0m\u001b[0;34m.\u001b[0m\u001b[0mloss\u001b[0m\u001b[0;34m(\u001b[0m\u001b[0moutput\u001b[0m\u001b[0;34m,\u001b[0m \u001b[0mrow_y\u001b[0m\u001b[0;34m)\u001b[0m\u001b[0;34m\u001b[0m\u001b[0;34m\u001b[0m\u001b[0m\n\u001b[0m\u001b[1;32m     65\u001b[0m         \u001b[0mtotal_loss\u001b[0m \u001b[0;34m+=\u001b[0m \u001b[0mloss\u001b[0m\u001b[0;34m\u001b[0m\u001b[0;34m\u001b[0m\u001b[0m\n\u001b[1;32m     66\u001b[0m         \u001b[0;31m# Compute loss derivative\u001b[0m\u001b[0;34m\u001b[0m\u001b[0;34m\u001b[0m\u001b[0m\n",
            "\u001b[0;32m<ipython-input-478-d3f7e83f0b82>\u001b[0m in \u001b[0;36mloss\u001b[0;34m(self, output, target)\u001b[0m\n\u001b[1;32m     32\u001b[0m     \u001b[0mtarget\u001b[0m \u001b[0;34m=\u001b[0m \u001b[0mnp\u001b[0m\u001b[0;34m.\u001b[0m\u001b[0masarray\u001b[0m\u001b[0;34m(\u001b[0m\u001b[0mtarget\u001b[0m\u001b[0;34m)\u001b[0m\u001b[0;34m\u001b[0m\u001b[0;34m\u001b[0m\u001b[0m\n\u001b[1;32m     33\u001b[0m     \u001b[0;31m# print(output.shape)\u001b[0m\u001b[0;34m\u001b[0m\u001b[0;34m\u001b[0m\u001b[0m\n\u001b[0;32m---> 34\u001b[0;31m     \u001b[0mloss\u001b[0m \u001b[0;34m=\u001b[0m \u001b[0mnp\u001b[0m\u001b[0;34m.\u001b[0m\u001b[0mmean\u001b[0m\u001b[0;34m(\u001b[0m\u001b[0mnp\u001b[0m\u001b[0;34m.\u001b[0m\u001b[0msquare\u001b[0m\u001b[0;34m(\u001b[0m\u001b[0mtarget\u001b[0m \u001b[0;34m-\u001b[0m \u001b[0moutput\u001b[0m\u001b[0;34m)\u001b[0m\u001b[0;34m)\u001b[0m\u001b[0;34m\u001b[0m\u001b[0;34m\u001b[0m\u001b[0m\n\u001b[0m\u001b[1;32m     35\u001b[0m     \u001b[0;32mreturn\u001b[0m \u001b[0mloss\u001b[0m\u001b[0;34m\u001b[0m\u001b[0;34m\u001b[0m\u001b[0m\n\u001b[1;32m     36\u001b[0m \u001b[0;34m\u001b[0m\u001b[0m\n",
            "\u001b[0;31mValueError\u001b[0m: operands could not be broadcast together with shapes (2,) (0,) "
          ]
        }
      ]
    },
    {
      "cell_type": "code",
      "source": [
        "assert total_loss < 0.3"
      ],
      "metadata": {
        "id": "uS-GpPt-ecfn"
      },
      "execution_count": null,
      "outputs": []
    },
    {
      "cell_type": "code",
      "source": [
        "nn_model.forward(np.array([1,1]))"
      ],
      "metadata": {
        "id": "ZeVTBmP_nHqK"
      },
      "execution_count": null,
      "outputs": []
    },
    {
      "cell_type": "code",
      "source": [
        "nn_model.forward(np.array([1,0]))"
      ],
      "metadata": {
        "id": "iRsuejuonHtS"
      },
      "execution_count": null,
      "outputs": []
    },
    {
      "cell_type": "code",
      "source": [
        "nn_model.forward(np.array([0,1]))"
      ],
      "metadata": {
        "id": "xy12kfaTnRmb"
      },
      "execution_count": null,
      "outputs": []
    },
    {
      "cell_type": "code",
      "source": [
        "nn_model.forward(np.array([0,0]))"
      ],
      "metadata": {
        "id": "b8YcpTzOnRpz"
      },
      "execution_count": null,
      "outputs": []
    },
    {
      "cell_type": "code",
      "source": [
        "assert (nn_model.forward(np.array([1,1]))[0] > 0.7)\n",
        "assert (nn_model.forward(np.array([1,0]))[0] > 0.7)\n",
        "assert (nn_model.forward(np.array([0,1]))[0] > 0.7)\n",
        "assert (nn_model.forward(np.array([0,0]))[0] < 0.3)\n",
        "\n",
        "assert np.allclose( nn_model.forward(np.array([1,1]))[1], 0.69, rtol=1e-03, atol=1e-03, equal_nan=False)\n",
        "assert np.allclose( nn_model.forward(np.array([1,0]))[1], 0.69, rtol=1e-03, atol=1e-03, equal_nan=False)\n",
        "assert np.allclose( nn_model.forward(np.array([0,1]))[1], 0.69, rtol=1e-03, atol=1e-03, equal_nan=False)\n",
        "assert np.allclose( nn_model.forward(np.array([0,0]))[1], 0.69, rtol=1e-03, atol=1e-03, equal_nan=False)"
      ],
      "metadata": {
        "id": "PsdTqawJnRs9"
      },
      "execution_count": null,
      "outputs": []
    },
    {
      "cell_type": "code",
      "source": [],
      "metadata": {
        "id": "35tqW9gFflwM"
      },
      "execution_count": null,
      "outputs": []
    },
    {
      "cell_type": "markdown",
      "source": [
        "## Section 4: Linear Regression Prediction with Some Test Lines"
      ],
      "metadata": {
        "id": "cuNDIdCZRSzp"
      }
    },
    {
      "cell_type": "code",
      "source": [
        "import matplotlib.pyplot as plt\n",
        "\n",
        "def plotXY(x1,y1,x2,y2):\n",
        "  # Create the plot\n",
        "  plt.figure(figsize=(10, 6))  # Optional: Specifies the figure size\n",
        "\n",
        "  # Plot the first line\n",
        "  plt.plot(x1, y1, label='Line 1', color='blue', linestyle='-', marker='o')\n",
        "\n",
        "  # Plot the second line\n",
        "  plt.plot(x2, y2, label='Line 2', color='red', linestyle='--', marker='x')\n",
        "\n",
        "  # Adding title\n",
        "  plt.title('X-Y Plot with Two Lines')\n",
        "\n",
        "  # Adding X and Y axis labels\n",
        "  plt.xlabel('X axis label')\n",
        "  plt.ylabel('Y axis label')\n",
        "\n",
        "  # Adding a legend\n",
        "  plt.legend()\n",
        "\n",
        "  # Show plot\n",
        "  plt.show()"
      ],
      "metadata": {
        "id": "zYBVL-IcnHxi"
      },
      "execution_count": null,
      "outputs": []
    },
    {
      "cell_type": "code",
      "source": [
        "# Let's train a straight line."
      ],
      "metadata": {
        "id": "rIulLzyym4KM"
      },
      "execution_count": null,
      "outputs": []
    },
    {
      "cell_type": "code",
      "source": [],
      "metadata": {
        "id": "ZmJLc35jmsfs"
      },
      "execution_count": null,
      "outputs": []
    },
    {
      "cell_type": "code",
      "source": [
        "# TO DO: Build the neural network\n",
        "\n",
        "nn_model = NeuralNetwork()\n",
        "nn_model.add_layer(NeuronNetworkLayer(1,1, 'linear', 0.01) )\n",
        "# nn_model.add_layer(NeuronNetworkLayer(5,10, 'relu', 0.01) )\n",
        "# nn_model.add_layer(NeuronNetworkLayer(10, 1, 'relu', 0.01) )"
      ],
      "metadata": {
        "id": "yDIsGh0xiNsE"
      },
      "execution_count": null,
      "outputs": []
    },
    {
      "cell_type": "code",
      "source": [
        "train_x = np.linspace(-10, 10, 20)\n",
        "train_y = train_x*2+3\n",
        "\n",
        "train_x = np.array([[item] for item in train_x])\n",
        "train_y = np.array([[item] for item in train_y])\n",
        "\n",
        "# TO DO: Train the model.\n",
        "#train_x.shape\n",
        "#total_loss = nn_model.train()\n",
        "total_loss = nn_model.train(50,train_x, train_y, 0.01, 5)"
      ],
      "metadata": {
        "id": "x3JyIltfiNu_"
      },
      "execution_count": null,
      "outputs": []
    },
    {
      "cell_type": "code",
      "source": [
        "assert total_loss < 10"
      ],
      "metadata": {
        "id": "j_A6lzBVhQ-R"
      },
      "execution_count": null,
      "outputs": []
    },
    {
      "cell_type": "code",
      "source": [
        "forward_result = []\n",
        "for x in train_x:\n",
        "  forward = nn_model.forward(x)\n",
        "  forward_result.append(forward)\n",
        "forward_result\n",
        "\n",
        "plotXY(train_x, train_y, train_x, forward_result )"
      ],
      "metadata": {
        "id": "cZ3dERRzlrGB"
      },
      "execution_count": null,
      "outputs": []
    },
    {
      "cell_type": "code",
      "source": [
        "# Let's train a second order polynomial"
      ],
      "metadata": {
        "id": "7SaN5Cd8pG3U"
      },
      "execution_count": null,
      "outputs": []
    },
    {
      "cell_type": "code",
      "source": [
        "# TO DO: Build the neural network\n",
        "\n",
        "nn_model = NeuralNetwork()\n",
        "nn_model.add_layer(NeuronNetworkLayer(1, 64, 'relu', 0.0001))\n",
        "nn_model.add_layer(NeuronNetworkLayer(64, 64, 'sigmoid', 0.1))\n",
        "nn_model.add_layer(NeuronNetworkLayer(64, 64, 'sigmoid', 0.1))\n",
        "nn_model.add_layer(NeuronNetworkLayer(64, 1, 'relu', 0.0001))"
      ],
      "metadata": {
        "id": "tWUJHV0ypNA3"
      },
      "execution_count": null,
      "outputs": []
    },
    {
      "cell_type": "code",
      "source": [
        "train_x = np.linspace(-10, 10, 40)\n",
        "train_y = train_x*train_x*2+3*train_x+3\n",
        "\n",
        "train_x = np.array([[item] for item in train_x])\n",
        "train_y = np.array([[item] for item in train_y])\n",
        "\n",
        "# TO DO: Train the model.\n",
        "#total_loss = nn_model.train()\n",
        "total_loss = nn_model.train(5000,train_x, train_y, 0.00001, 500)"
      ],
      "metadata": {
        "id": "o4ZgE85ApNER"
      },
      "execution_count": null,
      "outputs": []
    },
    {
      "cell_type": "code",
      "source": [
        "assert total_loss < 400"
      ],
      "metadata": {
        "id": "qvXKxnx2kE9t"
      },
      "execution_count": null,
      "outputs": []
    },
    {
      "cell_type": "code",
      "source": [
        "train_x_prediction = []\n",
        "for x in train_x:\n",
        "  forward_result = nn_model.forward(x)\n",
        "  train_x_prediction.append(forward_result)\n",
        "\n",
        "train_x_prediction\n",
        "plotXY(train_x, train_y, train_x, train_x_prediction )"
      ],
      "metadata": {
        "id": "EJJM8yTTpNH4"
      },
      "execution_count": null,
      "outputs": []
    },
    {
      "cell_type": "code",
      "source": [],
      "metadata": {
        "id": "OGlglsa8RJq-"
      },
      "execution_count": null,
      "outputs": []
    },
    {
      "cell_type": "markdown",
      "source": [],
      "metadata": {
        "id": "eo0_8l5ipeMK"
      }
    },
    {
      "cell_type": "markdown",
      "source": [
        "## Section 5: Test with Iris Dataset"
      ],
      "metadata": {
        "id": "3EcwdzsGRKOH"
      }
    },
    {
      "cell_type": "code",
      "source": [
        "# Now let's do the iris datset"
      ],
      "metadata": {
        "id": "L9Hn1edLpNLR"
      },
      "execution_count": null,
      "outputs": []
    },
    {
      "cell_type": "code",
      "source": [
        "from sklearn.datasets import load_iris\n",
        "import pandas as pd\n",
        "\n",
        "# Load the Iris dataset\n",
        "iris = load_iris()\n",
        "\n",
        "# Convert to DataFrame for easier manipulation\n",
        "iris_df = pd.DataFrame(iris.data, columns=iris.feature_names)\n",
        "iris_df['species'] = iris.target\n",
        "species_mapping = dict(zip(range(3), iris.target_names))\n",
        "iris_df['species'] = iris_df['species'].map(species_mapping)"
      ],
      "metadata": {
        "id": "PP_mlQUj8KDx"
      },
      "execution_count": null,
      "outputs": []
    },
    {
      "cell_type": "code",
      "source": [
        "# One-hot encode the 'species' column\n",
        "species_encoded = pd.get_dummies(iris_df['species'], prefix='species')\n",
        "\n",
        "iris_df_encoded = pd.concat([iris_df.drop('species', axis=1), species_encoded], axis=1)\n",
        "\n",
        "train_y = species_encoded.to_numpy()"
      ],
      "metadata": {
        "id": "PtHrMB7S7R7r"
      },
      "execution_count": null,
      "outputs": []
    },
    {
      "cell_type": "code",
      "source": [
        "iris_df_encoded.head()"
      ],
      "metadata": {
        "id": "lR44-ega93-P"
      },
      "execution_count": null,
      "outputs": []
    },
    {
      "cell_type": "code",
      "source": [
        "df_x = iris_df_encoded.drop(['species_setosa', 'species_versicolor', 'species_virginica'], axis=1).to_numpy()\n",
        "df_y = iris_df_encoded[['species_setosa', 'species_versicolor', 'species_virginica']].to_numpy()"
      ],
      "metadata": {
        "id": "iJ2somoe7R_F"
      },
      "execution_count": null,
      "outputs": []
    },
    {
      "cell_type": "code",
      "source": [
        "from sklearn.model_selection import train_test_split\n",
        "\n",
        "train_x, test_x, train_y, test_y = train_test_split(df_x, df_y, test_size=0.3, random_state=42)"
      ],
      "metadata": {
        "id": "9KSus2v6OvxJ"
      },
      "execution_count": null,
      "outputs": []
    },
    {
      "cell_type": "code",
      "source": [
        "train_x.shape"
      ],
      "metadata": {
        "id": "i4XYrY5y7SCb"
      },
      "execution_count": null,
      "outputs": []
    },
    {
      "cell_type": "code",
      "source": [
        "train_y.shape"
      ],
      "metadata": {
        "id": "XK1QhsYy7SGF"
      },
      "execution_count": null,
      "outputs": []
    },
    {
      "cell_type": "code",
      "source": [
        "# TO DO: Create your neural network by completing the code in this cell\n",
        "\n",
        "nn_model = NeuralNetwork()\n",
        "nn_model.add_layer(NeuronNetworkLayer(4, 10, 'sigmoid', 0.01))\n",
        "nn_model.add_layer(NeuronNetworkLayer(10, 20, 'sigmoid', 0.01))\n",
        "nn_model.add_layer(NeuronNetworkLayer(20, 3, 'linear', 0.01))"
      ],
      "metadata": {
        "id": "67ijej2b-juA"
      },
      "execution_count": null,
      "outputs": []
    },
    {
      "cell_type": "code",
      "source": [
        "# TO DO: Train the model.\n",
        "total_loss = nn_model.train(5000,train_x, train_y, 0.01, 500)"
      ],
      "metadata": {
        "id": "TnfetwO17SJT"
      },
      "execution_count": null,
      "outputs": []
    },
    {
      "cell_type": "code",
      "source": [
        "assert total_loss < 5"
      ],
      "metadata": {
        "id": "0xHtbhJqmqRP"
      },
      "execution_count": null,
      "outputs": []
    },
    {
      "cell_type": "code",
      "source": [
        "def prediction_accuracy(nn_model, train_x, train_y):\n",
        "\n",
        "  correct=0\n",
        "  for i in range(len(train_x)):\n",
        "    prediction = nn_model.forward(train_x[i])\n",
        "    prediction_index = np.argmax(prediction)\n",
        "    y_label = np.argmax(train_y[i])\n",
        "    if y_label == prediction_index:\n",
        "      correct=correct+1\n",
        "\n",
        "  return correct/len(train_y)"
      ],
      "metadata": {
        "id": "8hwN3FWmpNOq"
      },
      "execution_count": null,
      "outputs": []
    },
    {
      "cell_type": "code",
      "source": [
        "train_accuracy = prediction_accuracy(nn_model, train_x, train_y)\n",
        "train_accuracy"
      ],
      "metadata": {
        "id": "3r-MttpWP15S"
      },
      "execution_count": null,
      "outputs": []
    },
    {
      "cell_type": "code",
      "source": [
        "test_accuracy = prediction_accuracy(nn_model, test_x, test_y)\n",
        "test_accuracy"
      ],
      "metadata": {
        "id": "sL6jmpIfQ5aJ"
      },
      "execution_count": null,
      "outputs": []
    },
    {
      "cell_type": "code",
      "source": [
        "assert train_accuracy > 0.9"
      ],
      "metadata": {
        "id": "p2MsH9uekRdk"
      },
      "execution_count": null,
      "outputs": []
    },
    {
      "cell_type": "code",
      "source": [
        "assert test_accuracy > 0.9"
      ],
      "metadata": {
        "id": "iolzIDQ2RBdT"
      },
      "execution_count": null,
      "outputs": []
    },
    {
      "cell_type": "code",
      "source": [],
      "metadata": {
        "id": "ct3g65uYRBgI"
      },
      "execution_count": null,
      "outputs": []
    },
    {
      "cell_type": "code",
      "source": [],
      "metadata": {
        "id": "gxvywdMARBjT"
      },
      "execution_count": null,
      "outputs": []
    },
    {
      "cell_type": "code",
      "source": [],
      "metadata": {
        "id": "jJlhrtjqRBmb"
      },
      "execution_count": null,
      "outputs": []
    }
  ]
}