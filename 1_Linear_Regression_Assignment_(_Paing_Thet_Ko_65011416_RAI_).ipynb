{
  "nbformat": 4,
  "nbformat_minor": 0,
  "metadata": {
    "colab": {
      "provenance": [],
      "include_colab_link": true
    },
    "kernelspec": {
      "name": "python3",
      "display_name": "Python 3"
    },
    "language_info": {
      "name": "python"
    }
  },
  "cells": [
    {
      "cell_type": "markdown",
      "metadata": {
        "id": "view-in-github",
        "colab_type": "text"
      },
      "source": [
        "<a href=\"https://colab.research.google.com/github/ptkoo/machineLearningJourney/blob/main/1_Linear_Regression_Assignment_(_Paing_Thet_Ko_65011416_RAI_).ipynb\" target=\"_parent\"><img src=\"https://colab.research.google.com/assets/colab-badge.svg\" alt=\"Open In Colab\"/></a>"
      ]
    },
    {
      "cell_type": "code",
      "execution_count": null,
      "metadata": {
        "id": "vZ9wQaKTn3ob"
      },
      "outputs": [],
      "source": [
        "import random\n",
        "import matplotlib.pyplot as plt\n",
        "import numpy as np\n",
        "import pandas as pd"
      ]
    },
    {
      "cell_type": "markdown",
      "source": [
        "# **Linear Regression Assignment**\n"
      ],
      "metadata": {
        "id": "KnM-y4A4n_rQ"
      }
    },
    {
      "cell_type": "markdown",
      "source": [
        "## Part 1: Linear regression with 1 feature"
      ],
      "metadata": {
        "id": "QOOIgz9fV-2-"
      }
    },
    {
      "cell_type": "markdown",
      "source": [
        "# One Independent variable x"
      ],
      "metadata": {
        "id": "_PPSnmZ2wZZV"
      }
    },
    {
      "cell_type": "markdown",
      "source": [
        "1. Prepare your data samples. This is a simulated your sample data."
      ],
      "metadata": {
        "id": "ZR9u6NAHoJVm"
      }
    },
    {
      "cell_type": "code",
      "source": [
        "# Sample data\n",
        "X = [1, 2, 3, 4, 5]\n",
        "y = [2, 3, 4, 5, 6]"
      ],
      "metadata": {
        "id": "Ub5FxH2HoAAi"
      },
      "execution_count": null,
      "outputs": []
    },
    {
      "cell_type": "markdown",
      "source": [
        "2. Generate a randomized theta ranged between +1 and -1. We use random seed to ensure that the random results are the same everytime for all students. <font color='red'> Complete the generateRandomNumber() function and verify the results. </font>"
      ],
      "metadata": {
        "id": "lWUxFQSmh9YT"
      }
    },
    {
      "cell_type": "code",
      "source": [
        "def generateRandomNumber(randomSeed):\n",
        "  random.seed(randomSeed)\n",
        "  # Generate two random numbers by using random.random() and scale theta to be between -1 and + 1\n",
        "  theta0 = random.uniform(-1, 1)\n",
        "  theta1 = random.uniform(-1, 1)\n",
        "  return [theta0, theta1]"
      ],
      "metadata": {
        "id": "FaGD9aSmkkrG"
      },
      "execution_count": null,
      "outputs": []
    },
    {
      "cell_type": "code",
      "source": [
        "generateRandomNumber(42)"
      ],
      "metadata": {
        "colab": {
          "base_uri": "https://localhost:8080/"
        },
        "id": "O2J0HgSaiZnw",
        "outputId": "ae622af3-5d09-443c-f1f8-efcfb99ba1d6"
      },
      "execution_count": null,
      "outputs": [
        {
          "output_type": "execute_result",
          "data": {
            "text/plain": [
              "[0.2788535969157675, -0.9499784895546661]"
            ]
          },
          "metadata": {},
          "execution_count": 4
        }
      ]
    },
    {
      "cell_type": "code",
      "source": [
        "assert generateRandomNumber(42) == [0.2788535969157675, -0.9499784895546661]"
      ],
      "metadata": {
        "id": "34EL8zxCjHsP"
      },
      "execution_count": null,
      "outputs": []
    },
    {
      "cell_type": "markdown",
      "source": [
        "3. Make thee prediction. You will have to write the prediction and verify that you have the correct results. <font color='red'> Complete the prediction() function and verify the results. </font>"
      ],
      "metadata": {
        "id": "irpexgJuLoIG"
      }
    },
    {
      "cell_type": "code",
      "source": [
        "def prediction(theta0, theta1, X):\n",
        "  h = []\n",
        "  for x in X:\n",
        "    hypothesis = theta0 + theta1 * x\n",
        "    h.append(hypothesis)\n",
        "  return h"
      ],
      "metadata": {
        "id": "ndW0IlyDkoi_"
      },
      "execution_count": null,
      "outputs": []
    },
    {
      "cell_type": "code",
      "source": [
        "theta0, theta1 = generateRandomNumber(42)\n",
        "print(theta0, theta1)\n",
        "h = prediction(theta0, theta1, X)"
      ],
      "metadata": {
        "id": "CLjnRb5Tcfup",
        "colab": {
          "base_uri": "https://localhost:8080/"
        },
        "outputId": "6e21e653-6501-4ac7-b230-41ace84ea639"
      },
      "execution_count": null,
      "outputs": [
        {
          "output_type": "stream",
          "name": "stdout",
          "text": [
            "0.2788535969157675 -0.9499784895546661\n"
          ]
        }
      ]
    },
    {
      "cell_type": "code",
      "source": [
        "assert prediction(theta0, theta1, X) == [-0.6711248926388986, -1.6211033821935648, -2.5710818717482313, -3.5210603613028972, -4.471038850857563]"
      ],
      "metadata": {
        "id": "D9svJz4EcaiT"
      },
      "execution_count": null,
      "outputs": []
    },
    {
      "cell_type": "markdown",
      "source": [
        "4. Calculate the loss of your. Write the loss function. <font color='red'> Complete the mseLoss() function and verify the results. </font>"
      ],
      "metadata": {
        "id": "-H2U7zJgLz1U"
      }
    },
    {
      "cell_type": "code",
      "source": [
        "def mseLoss(h, y):\n",
        "  loss = np.mean(np.square(np.subtract(h,y)))/2\n",
        "  return loss"
      ],
      "metadata": {
        "id": "--rmAFexoAFS"
      },
      "execution_count": null,
      "outputs": []
    },
    {
      "cell_type": "code",
      "source": [
        "h = prediction(theta0, theta1, X)\n",
        "assert mseLoss(h,y) == 25.391974592335018"
      ],
      "metadata": {
        "id": "hwlkpsHPOW6G"
      },
      "execution_count": null,
      "outputs": []
    },
    {
      "cell_type": "markdown",
      "source": [
        "5. Calculate the gradients. <font color='red'> Complete the gradients() function and verify the results. </font>"
      ],
      "metadata": {
        "id": "9rAtveU5O7Nr"
      }
    },
    {
      "cell_type": "code",
      "source": [
        "def gradients(h,y,X):\n",
        "  dTheta0 = np.mean(np.subtract(h,y))\n",
        "  dTheta1 = np.mean(np.subtract(h,y)*X)\n",
        "  return [dTheta0, dTheta1]"
      ],
      "metadata": {
        "id": "YQlFKy1rOvSu"
      },
      "execution_count": null,
      "outputs": []
    },
    {
      "cell_type": "code",
      "source": [
        "gradients(h,y,X)"
      ],
      "metadata": {
        "id": "KOUW7HYshtEf",
        "colab": {
          "base_uri": "https://localhost:8080/"
        },
        "outputId": "b7c9d2bb-14f3-4869-d321-379d4520e478"
      },
      "execution_count": null,
      "outputs": [
        {
          "output_type": "execute_result",
          "data": {
            "text/plain": [
              "[-6.571081871748231, -23.61320259435403]"
            ]
          },
          "metadata": {},
          "execution_count": 12
        }
      ]
    },
    {
      "cell_type": "code",
      "source": [
        "assert gradients(h,y,X) == [-6.571081871748231, -23.61320259435403]"
      ],
      "metadata": {
        "id": "6x1lcFQ2OFAD"
      },
      "execution_count": null,
      "outputs": []
    },
    {
      "cell_type": "markdown",
      "source": [
        "6. Do gradient descent. Update theta using the gradients. <font color='red'> Complete the updateTheta() function and verify the results. </font>"
      ],
      "metadata": {
        "id": "mwfzb5ijSfPR"
      }
    },
    {
      "cell_type": "code",
      "source": [
        "def updateTheta(theta0, theta1, dTheta0, dTheta1, alpha):\n",
        "  theta0 = theta0 - alpha* dTheta0\n",
        "  theta1 = theta1 - alpha* dTheta1\n",
        "\n",
        "  return [ theta0, theta1 ]"
      ],
      "metadata": {
        "id": "3pGBfX5QSmRR"
      },
      "execution_count": null,
      "outputs": []
    },
    {
      "cell_type": "code",
      "source": [
        "dTheta0, dTheta1 = gradients(h,y,X)\n",
        "assert updateTheta(theta0, theta1, dTheta0, dTheta1, 0.01) == [0.3445644156332498, -0.7138464636111258]"
      ],
      "metadata": {
        "id": "YLtsMePkSmd5"
      },
      "execution_count": null,
      "outputs": []
    },
    {
      "cell_type": "markdown",
      "source": [
        "7. Putting it all together. <font color='red'> Complete the linearRegression2Param() function and verify the results. </font>"
      ],
      "metadata": {
        "id": "uY1CMDaLRJA8"
      }
    },
    {
      "cell_type": "code",
      "source": [
        "def linearRegression2Param(X, y, iterations, theta0, theta1):\n",
        "  for _ in range(iterations):\n",
        "    h = prediction(theta0, theta1, X)\n",
        "    loss = mseLoss(h, y)\n",
        "    dTheta0, dTheta1 = gradients(h,y,X)\n",
        "    theta0, theta1 = updateTheta(theta0, theta1 , dTheta0, dTheta1, 0.01)\n",
        "  return [loss, theta0, theta1]\n"
      ],
      "metadata": {
        "id": "X2wqoipXjOF5"
      },
      "execution_count": null,
      "outputs": []
    },
    {
      "cell_type": "code",
      "source": [
        "assert np.allclose( linearRegression2Param(X,y,10, theta0, theta1) , [2.6348429861046845, 0.6776876875123693, 0.47897400353967345])"
      ],
      "metadata": {
        "id": "8E_bHI_IjTuV"
      },
      "execution_count": null,
      "outputs": []
    },
    {
      "cell_type": "markdown",
      "source": [
        "8. Check the result by plotting. Try playing around with the number of iterations and see how the plot changes."
      ],
      "metadata": {
        "id": "0FwL00DaY981"
      }
    },
    {
      "cell_type": "code",
      "source": [
        "def plotResult(X,y,theta1, theta0):\n",
        "  # Plotting the data points\n",
        "  plt.scatter(X, y, color='blue', label='Data Points')\n",
        "\n",
        "  # Plotting the line of best fit\n",
        "  predicted_y = prediction(theta0, theta1, X)\n",
        "\n",
        "  plt.plot(X, predicted_y, color='red', label='Line of Best Fit')\n",
        "\n",
        "  plt.xlabel('X')\n",
        "  plt.ylabel('y')\n",
        "  plt.title('Linear Regression with Gradient Descent')\n",
        "  plt.legend()\n",
        "  plt.show()"
      ],
      "metadata": {
        "id": "Q5LcGS-tYVKY"
      },
      "execution_count": null,
      "outputs": []
    },
    {
      "cell_type": "code",
      "source": [
        "loss, theta0, theta1 = linearRegression2Param(X, y, 50, theta0, theta1)\n",
        "plotResult(X,y,theta1, theta0)"
      ],
      "metadata": {
        "colab": {
          "base_uri": "https://localhost:8080/",
          "height": 472
        },
        "id": "E1KX0Nr_YWca",
        "outputId": "9fe95f92-57b2-4e51-b4fc-a60fb4532e17"
      },
      "execution_count": null,
      "outputs": [
        {
          "output_type": "display_data",
          "data": {
            "text/plain": [
              "<Figure size 640x480 with 1 Axes>"
            ],
            "image/png": "[encoded data removed]"
          },
          "metadata": {}
        }
      ]
    },
    {
      "cell_type": "markdown",
      "source": [
        "## Part 2: Linear regression with Multiple Features using Matrices and Linear Algebra"
      ],
      "metadata": {
        "id": "abbVDQDvWaCS"
      }
    },
    {
      "cell_type": "markdown",
      "source": [
        "1. Generate random sample for X. Here we form X as a normal distribution centered around a mean. x0 has std = 1, x2 has std =1 and x3 has std=1."
      ],
      "metadata": {
        "id": "ZFPfTk3mik35"
      }
    },
    {
      "cell_type": "code",
      "source": [
        "num_samples = 10\n",
        "\n",
        "mean_vector = [2, 1, 3]  # Example values, adjust as needed\n",
        "\n",
        "# Covariance matrix for 3 dimensions\n",
        "covariance_matrix = [[1, 0.75, 0.5],  # Adjust these values as needed\n",
        "                     [0.75, 1, 0.25],\n",
        "                     [0.5, 0.25, 1]]\n",
        "\n",
        "np.random.seed(42)\n",
        "x_0 = np.random.multivariate_normal(mean_vector, covariance_matrix, num_samples)\n",
        "\n",
        "X = np.hstack((np.ones((num_samples, 1)), x_0))\n",
        "X\n",
        "\n",
        "targetTheta = [1.5, 2, 3, -1]\n",
        "y = np.matmul(X, targetTheta)\n",
        "\n"
      ],
      "metadata": {
        "id": "zNTMNub_hZb6"
      },
      "execution_count": null,
      "outputs": []
    },
    {
      "cell_type": "markdown",
      "source": [
        "2. Generate randomised Thetas as an array such that for n=4, thetaArray = [ theta0, theta1, theta2, theta3 ]. <font color='red'> Complete the generateRandomNumber_nFeatures() function and verify the results. </font>"
      ],
      "metadata": {
        "id": "8bI5ab6pjH6P"
      }
    },
    {
      "cell_type": "code",
      "source": [
        "def generateRandomNumber_nFeatures(randomSeed,n):\n",
        "  # Generate the theta array using random.random()\n",
        "\n",
        "  random.seed(randomSeed)\n",
        "  thetaArray = [random.uniform(-1,1) for _ in range(n)]\n",
        "\n",
        "  return thetaArray"
      ],
      "metadata": {
        "id": "EoggVkTwhp3Q"
      },
      "execution_count": null,
      "outputs": []
    },
    {
      "cell_type": "code",
      "source": [
        "assert generateRandomNumber_nFeatures(42,4) == [0.2788535969157675, -0.9499784895546661, -0.4499413632617615, -0.5535785237023545]"
      ],
      "metadata": {
        "id": "nsFNuKx1jADv"
      },
      "execution_count": null,
      "outputs": []
    },
    {
      "cell_type": "markdown",
      "source": [
        "3. Write your prediction function using matrix operations so that we can handle predictions for any dimension of features. <font color='red'> Complete the prediction_nFeatures() function and verify the results. </font>\n"
      ],
      "metadata": {
        "id": "tCia6UqLjoqd"
      }
    },
    {
      "cell_type": "code",
      "source": [
        "def prediction_nFeatures(thetaArray, X):\n",
        "  theta = np.transpose(np.array(thetaArray))\n",
        "  h = np.matmul(X, theta )\n",
        "\n",
        "  return h"
      ],
      "metadata": {
        "id": "a1GCpBD6jBQR"
      },
      "execution_count": null,
      "outputs": []
    },
    {
      "cell_type": "code",
      "source": [
        "thetaArray = generateRandomNumber_nFeatures(42,4)\n",
        "h = prediction_nFeatures(thetaArray, X)\n",
        "expected_array = np.array([-3.01394892, -1.23419763, -1.01173445, -2.83264713, -3.31354378, -4.79332304, -5.54321629, -3.9163548 , -4.46748003, -3.14126657])\n",
        "assert np.allclose(h, expected_array)"
      ],
      "metadata": {
        "id": "ml1ZBBjrkl_l"
      },
      "execution_count": null,
      "outputs": []
    },
    {
      "cell_type": "markdown",
      "source": [
        "4. Calculate your loss function. <font color='red'> Complete the mseLosss_nFeatures() function and verify the results. </font>"
      ],
      "metadata": {
        "id": "bPVsZv75ssxs"
      }
    },
    {
      "cell_type": "code",
      "source": [
        "def mseLoss_nFeatures(h,y, X):\n",
        "  row, column = X.shape\n",
        "  loss = np.matmul(np.transpose(np.subtract(h,y)),np.subtract(h,y)) * 1/(2 * row)  # J(Q) = 1/2m (h(Q)-y)^T(h(Q)-y)\n",
        "  return loss"
      ],
      "metadata": {
        "id": "8XdUo3Yyk4C2"
      },
      "execution_count": null,
      "outputs": []
    },
    {
      "cell_type": "code",
      "source": [
        "assert mseLoss_nFeatures(h,y, X) == 30.199420142208574"
      ],
      "metadata": {
        "id": "eSfiSwmttKCX"
      },
      "execution_count": null,
      "outputs": []
    },
    {
      "cell_type": "markdown",
      "source": [
        "5. Calculate your gradients. <font color='red'> Complete the gradients_nFeatures() function and verify the results. </font>"
      ],
      "metadata": {
        "id": "Fr686D5UwMWb"
      }
    },
    {
      "cell_type": "code",
      "source": [
        "def gradients_nFeatures(h,y,X):\n",
        "  row, column = X.shape\n",
        "  dThetaArray = 1/row * np.matmul(np.transpose(X), np.subtract(h, y)) # 1/m X^T(h(q)-y)\n",
        "  return dThetaArray"
      ],
      "metadata": {
        "id": "4ZBMSridrVU3"
      },
      "execution_count": null,
      "outputs": []
    },
    {
      "cell_type": "code",
      "source": [
        "dThetaArray = gradients_nFeatures(h,y,X)\n",
        "expected_array = np.array([ -6.765335285, -13.63978924 ,  -6.53866163 , -23.873646788])\n",
        "assert np.allclose(dThetaArray, expected_array)"
      ],
      "metadata": {
        "id": "azUcM2R9k5WC"
      },
      "execution_count": null,
      "outputs": []
    },
    {
      "cell_type": "markdown",
      "source": [
        "6. Update the gradients. <font color='red'> Complete the updateTheta_nFeatures() function and verify the results. </font>"
      ],
      "metadata": {
        "id": "LtBWEjG8xYSu"
      }
    },
    {
      "cell_type": "code",
      "source": [
        "def updateTheta_nFeatures( thetaArray, dThetaArray, learning_rate):\n",
        "  thetaArray -= learning_rate*dThetaArray\n",
        "  return thetaArray"
      ],
      "metadata": {
        "id": "mjQNvKr9xVq0"
      },
      "execution_count": null,
      "outputs": []
    },
    {
      "cell_type": "code",
      "source": [
        "thetaArrayUpdated = updateTheta_nFeatures( thetaArray, dThetaArray, 0.01)\n",
        "expected_array = np.array([0.34650695, -0.8135806, -0.38455475 , -0.31484206])\n",
        "assert np.allclose(thetaArrayUpdated, expected_array)"
      ],
      "metadata": {
        "id": "vquGaR89mU9x"
      },
      "execution_count": null,
      "outputs": []
    },
    {
      "cell_type": "markdown",
      "source": [
        "7. Put it all together. <font color='red'> Complete the generateRandomNumber() function and verify the results. </font>"
      ],
      "metadata": {
        "id": "LepSFKLnyU4w"
      }
    },
    {
      "cell_type": "code",
      "source": [
        "def linearRegressionMultiParam(X, y, iterations, learning_rate, thetaArray):\n",
        "  for _ in range(iterations):\n",
        "  # Write the code for the function linearRegressionMultiParam by utilising the functions you have created earlier.\n",
        "    h = prediction_nFeatures(thetaArray, X)\n",
        "    loss = mseLoss_nFeatures(h,y, X)\n",
        "    dThetaArray = gradients_nFeatures(h,y,X)\n",
        "    thetaArray = updateTheta_nFeatures( thetaArray, dThetaArray, learning_rate)\n",
        "\n",
        "  return [loss, thetaArray]"
      ],
      "metadata": {
        "id": "_1oVclLuqt0y"
      },
      "execution_count": null,
      "outputs": []
    },
    {
      "cell_type": "code",
      "source": [
        "loss, thetaArray = linearRegressionMultiParam(X,y,10, 0.01, thetaArray)\n",
        "expected_thetaArray = np.array([0.62008549, -0.19693099, -0.0540215,0.66186507])\n",
        "expected_loss = 4.377412803144978\n",
        "assert np.allclose(loss, expected_loss)\n",
        "assert np.allclose(thetaArray, expected_thetaArray)"
      ],
      "metadata": {
        "id": "rh02_gIdrN-p"
      },
      "execution_count": null,
      "outputs": []
    },
    {
      "cell_type": "code",
      "source": [
        "# loss, thetaArray = linearRegressionMultiParam(X,y,400, 0.01)"
      ],
      "metadata": {
        "id": "fy3CFWAaZE0H"
      },
      "execution_count": null,
      "outputs": []
    },
    {
      "cell_type": "markdown",
      "source": [
        "## Part 3: Apply to Boston Housing Dataset for Price Prediction"
      ],
      "metadata": {
        "id": "xeDLwMl4HgbE"
      }
    },
    {
      "cell_type": "code",
      "source": [
        "# Obtain the Boston Housing dataset as a csv file from this link here.\n",
        "# https://www.cs.toronto.edu/~delve/data/boston/bostonDetail.html\n",
        "\n",
        "# CRIM - per capita crime rate by town\n",
        "# ZN - proportion of residential land zoned for lots over 25,000 sq.ft.\n",
        "# INDUS - proportion of non-retail business acres per town.\n",
        "# CHAS - Charles River dummy variable (1 if tract bounds river; 0 otherwise)\n",
        "# NOX - nitric oxides concentration (parts per 10 million)\n",
        "# RM - average number of rooms per dwelling\n",
        "# AGE - proportion of owner-occupied units built prior to 1940\n",
        "# DIS - weighted distances to five Boston employment centres\n",
        "# RAD - index of accessibility to radial highways\n",
        "# TAX - full-value property-tax rate per $10,000\n",
        "# PTRATIO - pupil-teacher ratio by town\n",
        "# B - 1000(Bk - 0.63)^2 where Bk is the proportion of blacks by town\n",
        "# LSTAT - % lower status of the population\n",
        "# MEDV - Median value of owner-occupied homes in $1000's"
      ],
      "metadata": {
        "id": "CeY3sF1EjFpq"
      },
      "execution_count": null,
      "outputs": []
    },
    {
      "cell_type": "code",
      "source": [
        "from google.colab import drive\n",
        "drive.mount('/content/drive')"
      ],
      "metadata": {
        "colab": {
          "base_uri": "https://localhost:8080/"
        },
        "id": "rOLtITUkNXse",
        "outputId": "8f7ecc75-418a-45ec-cf20-566953642069"
      },
      "execution_count": null,
      "outputs": [
        {
          "output_type": "stream",
          "name": "stdout",
          "text": [
            "Mounted at /content/drive\n"
          ]
        }
      ]
    },
    {
      "cell_type": "markdown",
      "source": [
        "1. Read data from CSV file and parse it out into an array of values for each row. Then combine the arrays into a Pandas dataframe."
      ],
      "metadata": {
        "id": "T9HaXmS9MpnC"
      }
    },
    {
      "cell_type": "code",
      "source": [
        "def readBostonHousingCsvFromFile():\n",
        "  file_path = '/content/drive/MyDrive/dataset/housing.csv'  # Replace with your file path\n",
        "\n",
        "  # Read the file line by line\n",
        "  with open(file_path, 'r') as file:\n",
        "      lines = file.readlines()\n",
        "\n",
        "  # Turn the csv file into a datframe\n",
        "  df = pd.read_csv(file_path, header= None, delim_whitespace= True)\n",
        "  return df"
      ],
      "metadata": {
        "id": "Bh1X-JchG0nz"
      },
      "execution_count": null,
      "outputs": []
    },
    {
      "cell_type": "code",
      "source": [
        "# Verify that your df is correct.\n",
        "\n",
        "df = readBostonHousingCsvFromFile()\n",
        "print(df.head())\n",
        "rowIndex0 = [0.00632,18.0,2.31,0.0,0.538,6.575,65.2,4.09,1.0,296.0,15.3,396.9,4.98,24.0]\n",
        "rowIndex112 = [0.12329,0.0,10.01,0.0,0.547,5.913,92.9,2.3534,6.0,432.0,17.8,394.95,16.21,18.8]\n",
        "rowIndex483 = [2.81838,0.0,18.1,0.0,0.532,5.762,40.3,4.0983,24.0,666.0,20.2,392.92,10.42,21.8]\n",
        "assert df.iloc[0].tolist() == rowIndex0\n",
        "assert df.iloc[112].tolist() == rowIndex112\n",
        "assert df.iloc[483].tolist() == rowIndex483"
      ],
      "metadata": {
        "id": "qr6CQGCmKH6z",
        "colab": {
          "base_uri": "https://localhost:8080/"
        },
        "outputId": "6432180a-8d5f-4d47-bcf4-deb8aab48787"
      },
      "execution_count": null,
      "outputs": [
        {
          "output_type": "stream",
          "name": "stdout",
          "text": [
            "        0     1     2   3      4      5     6       7   8      9     10  \\\n",
            "0  0.00632  18.0  2.31   0  0.538  6.575  65.2  4.0900   1  296.0  15.3   \n",
            "1  0.02731   0.0  7.07   0  0.469  6.421  78.9  4.9671   2  242.0  17.8   \n",
            "2  0.02729   0.0  7.07   0  0.469  7.185  61.1  4.9671   2  242.0  17.8   \n",
            "3  0.03237   0.0  2.18   0  0.458  6.998  45.8  6.0622   3  222.0  18.7   \n",
            "4  0.06905   0.0  2.18   0  0.458  7.147  54.2  6.0622   3  222.0  18.7   \n",
            "\n",
            "       11    12    13  \n",
            "0  396.90  4.98  24.0  \n",
            "1  396.90  9.14  21.6  \n",
            "2  392.83  4.03  34.7  \n",
            "3  394.63  2.94  33.4  \n",
            "4  396.90  5.33  36.2  \n"
          ]
        }
      ]
    },
    {
      "cell_type": "markdown",
      "source": [
        "2. Rename the columns of the dataframe.\n",
        "\n"
      ],
      "metadata": {
        "id": "MyPopH8nM7Uo"
      }
    },
    {
      "cell_type": "code",
      "source": [
        "# Change column names\n",
        "\n",
        "df.columns = ['CRIM', 'ZN', 'INDUS', 'CHAS', 'NOX', 'RM', 'AGE', 'DIS', 'RAD', 'TAX', 'PTRATIO', 'B', 'LSTAT', 'MEDV']"
      ],
      "metadata": {
        "id": "rFFY2-EcUVP-"
      },
      "execution_count": null,
      "outputs": []
    },
    {
      "cell_type": "code",
      "source": [
        "df"
      ],
      "metadata": {
        "colab": {
          "base_uri": "https://localhost:8080/",
          "height": 423
        },
        "id": "mmjKZPOLV23-",
        "outputId": "71ce5e67-16de-4719-c95a-6043363ea4a8"
      },
      "execution_count": null,
      "outputs": [
        {
          "output_type": "execute_result",
          "data": {
            "text/plain": [
              "        CRIM    ZN  INDUS  CHAS    NOX     RM   AGE     DIS  RAD    TAX  \\\n",
              "0    0.00632  18.0   2.31     0  0.538  6.575  65.2  4.0900    1  296.0   \n",
              "1    0.02731   0.0   7.07     0  0.469  6.421  78.9  4.9671    2  242.0   \n",
              "2    0.02729   0.0   7.07     0  0.469  7.185  61.1  4.9671    2  242.0   \n",
              "3    0.03237   0.0   2.18     0  0.458  6.998  45.8  6.0622    3  222.0   \n",
              "4    0.06905   0.0   2.18     0  0.458  7.147  54.2  6.0622    3  222.0   \n",
              "..       ...   ...    ...   ...    ...    ...   ...     ...  ...    ...   \n",
              "501  0.06263   0.0  11.93     0  0.573  6.593  69.1  2.4786    1  273.0   \n",
              "502  0.04527   0.0  11.93     0  0.573  6.120  76.7  2.2875    1  273.0   \n",
              "503  0.06076   0.0  11.93     0  0.573  6.976  91.0  2.1675    1  273.0   \n",
              "504  0.10959   0.0  11.93     0  0.573  6.794  89.3  2.3889    1  273.0   \n",
              "505  0.04741   0.0  11.93     0  0.573  6.030  80.8  2.5050    1  273.0   \n",
              "\n",
              "     PTRATIO       B  LSTAT  MEDV  \n",
              "0       15.3  396.90   4.98  24.0  \n",
              "1       17.8  396.90   9.14  21.6  \n",
              "2       17.8  392.83   4.03  34.7  \n",
              "3       18.7  394.63   2.94  33.4  \n",
              "4       18.7  396.90   5.33  36.2  \n",
              "..       ...     ...    ...   ...  \n",
              "501     21.0  391.99   9.67  22.4  \n",
              "502     21.0  396.90   9.08  20.6  \n",
              "503     21.0  396.90   5.64  23.9  \n",
              "504     21.0  393.45   6.48  22.0  \n",
              "505     21.0  396.90   7.88  11.9  \n",
              "\n",
              "[506 rows x 14 columns]"
            ],
            "text/html": [
              "\n",
              "  <div id=\"df-4ef67f53-620b-4c50-ad63-2100397f39b9\" class=\"colab-df-container\">\n",
              "    <div>\n",
              "<style scoped>\n",
              "    .dataframe tbody tr th:only-of-type {\n",
              "        vertical-align: middle;\n",
              "    }\n",
              "\n",
              "    .dataframe tbody tr th {\n",
              "        vertical-align: top;\n",
              "    }\n",
              "\n",
              "    .dataframe thead th {\n",
              "        text-align: right;\n",
              "    }\n",
              "</style>\n",
              "<table border=\"1\" class=\"dataframe\">\n",
              "  <thead>\n",
              "    <tr style=\"text-align: right;\">\n",
              "      <th></th>\n",
              "      <th>CRIM</th>\n",
              "      <th>ZN</th>\n",
              "      <th>INDUS</th>\n",
              "      <th>CHAS</th>\n",
              "      <th>NOX</th>\n",
              "      <th>RM</th>\n",
              "      <th>AGE</th>\n",
              "      <th>DIS</th>\n",
              "      <th>RAD</th>\n",
              "      <th>TAX</th>\n",
              "      <th>PTRATIO</th>\n",
              "      <th>B</th>\n",
              "      <th>LSTAT</th>\n",
              "      <th>MEDV</th>\n",
              "    </tr>\n",
              "  </thead>\n",
              "  <tbody>\n",
              "    <tr>\n",
              "      <th>0</th>\n",
              "      <td>0.00632</td>\n",
              "      <td>18.0</td>\n",
              "      <td>2.31</td>\n",
              "      <td>0</td>\n",
              "      <td>0.538</td>\n",
              "      <td>6.575</td>\n",
              "      <td>65.2</td>\n",
              "      <td>4.0900</td>\n",
              "      <td>1</td>\n",
              "      <td>296.0</td>\n",
              "      <td>15.3</td>\n",
              "      <td>396.90</td>\n",
              "      <td>4.98</td>\n",
              "      <td>24.0</td>\n",
              "    </tr>\n",
              "    <tr>\n",
              "      <th>1</th>\n",
              "      <td>0.02731</td>\n",
              "      <td>0.0</td>\n",
              "      <td>7.07</td>\n",
              "      <td>0</td>\n",
              "      <td>0.469</td>\n",
              "      <td>6.421</td>\n",
              "      <td>78.9</td>\n",
              "      <td>4.9671</td>\n",
              "      <td>2</td>\n",
              "      <td>242.0</td>\n",
              "      <td>17.8</td>\n",
              "      <td>396.90</td>\n",
              "      <td>9.14</td>\n",
              "      <td>21.6</td>\n",
              "    </tr>\n",
              "    <tr>\n",
              "      <th>2</th>\n",
              "      <td>0.02729</td>\n",
              "      <td>0.0</td>\n",
              "      <td>7.07</td>\n",
              "      <td>0</td>\n",
              "      <td>0.469</td>\n",
              "      <td>7.185</td>\n",
              "      <td>61.1</td>\n",
              "      <td>4.9671</td>\n",
              "      <td>2</td>\n",
              "      <td>242.0</td>\n",
              "      <td>17.8</td>\n",
              "      <td>392.83</td>\n",
              "      <td>4.03</td>\n",
              "      <td>34.7</td>\n",
              "    </tr>\n",
              "    <tr>\n",
              "      <th>3</th>\n",
              "      <td>0.03237</td>\n",
              "      <td>0.0</td>\n",
              "      <td>2.18</td>\n",
              "      <td>0</td>\n",
              "      <td>0.458</td>\n",
              "      <td>6.998</td>\n",
              "      <td>45.8</td>\n",
              "      <td>6.0622</td>\n",
              "      <td>3</td>\n",
              "      <td>222.0</td>\n",
              "      <td>18.7</td>\n",
              "      <td>394.63</td>\n",
              "      <td>2.94</td>\n",
              "      <td>33.4</td>\n",
              "    </tr>\n",
              "    <tr>\n",
              "      <th>4</th>\n",
              "      <td>0.06905</td>\n",
              "      <td>0.0</td>\n",
              "      <td>2.18</td>\n",
              "      <td>0</td>\n",
              "      <td>0.458</td>\n",
              "      <td>7.147</td>\n",
              "      <td>54.2</td>\n",
              "      <td>6.0622</td>\n",
              "      <td>3</td>\n",
              "      <td>222.0</td>\n",
              "      <td>18.7</td>\n",
              "      <td>396.90</td>\n",
              "      <td>5.33</td>\n",
              "      <td>36.2</td>\n",
              "    </tr>\n",
              "    <tr>\n",
              "      <th>...</th>\n",
              "      <td>...</td>\n",
              "      <td>...</td>\n",
              "      <td>...</td>\n",
              "      <td>...</td>\n",
              "      <td>...</td>\n",
              "      <td>...</td>\n",
              "      <td>...</td>\n",
              "      <td>...</td>\n",
              "      <td>...</td>\n",
              "      <td>...</td>\n",
              "      <td>...</td>\n",
              "      <td>...</td>\n",
              "      <td>...</td>\n",
              "      <td>...</td>\n",
              "    </tr>\n",
              "    <tr>\n",
              "      <th>501</th>\n",
              "      <td>0.06263</td>\n",
              "      <td>0.0</td>\n",
              "      <td>11.93</td>\n",
              "      <td>0</td>\n",
              "      <td>0.573</td>\n",
              "      <td>6.593</td>\n",
              "      <td>69.1</td>\n",
              "      <td>2.4786</td>\n",
              "      <td>1</td>\n",
              "      <td>273.0</td>\n",
              "      <td>21.0</td>\n",
              "      <td>391.99</td>\n",
              "      <td>9.67</td>\n",
              "      <td>22.4</td>\n",
              "    </tr>\n",
              "    <tr>\n",
              "      <th>502</th>\n",
              "      <td>0.04527</td>\n",
              "      <td>0.0</td>\n",
              "      <td>11.93</td>\n",
              "      <td>0</td>\n",
              "      <td>0.573</td>\n",
              "      <td>6.120</td>\n",
              "      <td>76.7</td>\n",
              "      <td>2.2875</td>\n",
              "      <td>1</td>\n",
              "      <td>273.0</td>\n",
              "      <td>21.0</td>\n",
              "      <td>396.90</td>\n",
              "      <td>9.08</td>\n",
              "      <td>20.6</td>\n",
              "    </tr>\n",
              "    <tr>\n",
              "      <th>503</th>\n",
              "      <td>0.06076</td>\n",
              "      <td>0.0</td>\n",
              "      <td>11.93</td>\n",
              "      <td>0</td>\n",
              "      <td>0.573</td>\n",
              "      <td>6.976</td>\n",
              "      <td>91.0</td>\n",
              "      <td>2.1675</td>\n",
              "      <td>1</td>\n",
              "      <td>273.0</td>\n",
              "      <td>21.0</td>\n",
              "      <td>396.90</td>\n",
              "      <td>5.64</td>\n",
              "      <td>23.9</td>\n",
              "    </tr>\n",
              "    <tr>\n",
              "      <th>504</th>\n",
              "      <td>0.10959</td>\n",
              "      <td>0.0</td>\n",
              "      <td>11.93</td>\n",
              "      <td>0</td>\n",
              "      <td>0.573</td>\n",
              "      <td>6.794</td>\n",
              "      <td>89.3</td>\n",
              "      <td>2.3889</td>\n",
              "      <td>1</td>\n",
              "      <td>273.0</td>\n",
              "      <td>21.0</td>\n",
              "      <td>393.45</td>\n",
              "      <td>6.48</td>\n",
              "      <td>22.0</td>\n",
              "    </tr>\n",
              "    <tr>\n",
              "      <th>505</th>\n",
              "      <td>0.04741</td>\n",
              "      <td>0.0</td>\n",
              "      <td>11.93</td>\n",
              "      <td>0</td>\n",
              "      <td>0.573</td>\n",
              "      <td>6.030</td>\n",
              "      <td>80.8</td>\n",
              "      <td>2.5050</td>\n",
              "      <td>1</td>\n",
              "      <td>273.0</td>\n",
              "      <td>21.0</td>\n",
              "      <td>396.90</td>\n",
              "      <td>7.88</td>\n",
              "      <td>11.9</td>\n",
              "    </tr>\n",
              "  </tbody>\n",
              "</table>\n",
              "<p>506 rows × 14 columns</p>\n",
              "</div>\n",
              "    <div class=\"colab-df-buttons\">\n",
              "\n",
              "  <div class=\"colab-df-container\">\n",
              "    <button class=\"colab-df-convert\" onclick=\"convertToInteractive('df-4ef67f53-620b-4c50-ad63-2100397f39b9')\"\n",
              "            title=\"Convert this dataframe to an interactive table.\"\n",
              "            style=\"display:none;\">\n",
              "\n",
              "  <svg xmlns=\"http://www.w3.org/2000/svg\" height=\"24px\" viewBox=\"0 -960 960 960\">\n",
              "    <path d=\"M120-120v-720h720v720H120Zm60-500h600v-160H180v160Zm220 220h160v-160H400v160Zm0 220h160v-160H400v160ZM180-400h160v-160H180v160Zm440 0h160v-160H620v160ZM180-180h160v-160H180v160Zm440 0h160v-160H620v160Z\"/>\n",
              "  </svg>\n",
              "    </button>\n",
              "\n",
              "  <style>\n",
              "    .colab-df-container {\n",
              "      display:flex;\n",
              "      gap: 12px;\n",
              "    }\n",
              "\n",
              "    .colab-df-convert {\n",
              "      background-color: #E8F0FE;\n",
              "      border: none;\n",
              "      border-radius: 50%;\n",
              "      cursor: pointer;\n",
              "      display: none;\n",
              "      fill: #1967D2;\n",
              "      height: 32px;\n",
              "      padding: 0 0 0 0;\n",
              "      width: 32px;\n",
              "    }\n",
              "\n",
              "    .colab-df-convert:hover {\n",
              "      background-color: #E2EBFA;\n",
              "      box-shadow: 0px 1px 2px rgba(60, 64, 67, 0.3), 0px 1px 3px 1px rgba(60, 64, 67, 0.15);\n",
              "      fill: #174EA6;\n",
              "    }\n",
              "\n",
              "    .colab-df-buttons div {\n",
              "      margin-bottom: 4px;\n",
              "    }\n",
              "\n",
              "    [theme=dark] .colab-df-convert {\n",
              "      background-color: #3B4455;\n",
              "      fill: #D2E3FC;\n",
              "    }\n",
              "\n",
              "    [theme=dark] .colab-df-convert:hover {\n",
              "      background-color: #434B5C;\n",
              "      box-shadow: 0px 1px 3px 1px rgba(0, 0, 0, 0.15);\n",
              "      filter: drop-shadow(0px 1px 2px rgba(0, 0, 0, 0.3));\n",
              "      fill: #FFFFFF;\n",
              "    }\n",
              "  </style>\n",
              "\n",
              "    <script>\n",
              "      const buttonEl =\n",
              "        document.querySelector('#df-4ef67f53-620b-4c50-ad63-2100397f39b9 button.colab-df-convert');\n",
              "      buttonEl.style.display =\n",
              "        google.colab.kernel.accessAllowed ? 'block' : 'none';\n",
              "\n",
              "      async function convertToInteractive(key) {\n",
              "        const element = document.querySelector('#df-4ef67f53-620b-4c50-ad63-2100397f39b9');\n",
              "        const dataTable =\n",
              "          await google.colab.kernel.invokeFunction('convertToInteractive',\n",
              "                                                    [key], {});\n",
              "        if (!dataTable) return;\n",
              "\n",
              "        const docLinkHtml = 'Like what you see? Visit the ' +\n",
              "          '<a target=\"_blank\" href=https://colab.research.google.com/notebooks/data_table.ipynb>data table notebook</a>'\n",
              "          + ' to learn more about interactive tables.';\n",
              "        element.innerHTML = '';\n",
              "        dataTable['output_type'] = 'display_data';\n",
              "        await google.colab.output.renderOutput(dataTable, element);\n",
              "        const docLink = document.createElement('div');\n",
              "        docLink.innerHTML = docLinkHtml;\n",
              "        element.appendChild(docLink);\n",
              "      }\n",
              "    </script>\n",
              "  </div>\n",
              "\n",
              "\n",
              "<div id=\"df-1fc7dc41-2341-44c9-a338-f1a48098e07a\">\n",
              "  <button class=\"colab-df-quickchart\" onclick=\"quickchart('df-1fc7dc41-2341-44c9-a338-f1a48098e07a')\"\n",
              "            title=\"Suggest charts\"\n",
              "            style=\"display:none;\">\n",
              "\n",
              "<svg xmlns=\"http://www.w3.org/2000/svg\" height=\"24px\"viewBox=\"0 0 24 24\"\n",
              "     width=\"24px\">\n",
              "    <g>\n",
              "        <path d=\"M19 3H5c-1.1 0-2 .9-2 2v14c0 1.1.9 2 2 2h14c1.1 0 2-.9 2-2V5c0-1.1-.9-2-2-2zM9 17H7v-7h2v7zm4 0h-2V7h2v10zm4 0h-2v-4h2v4z\"/>\n",
              "    </g>\n",
              "</svg>\n",
              "  </button>\n",
              "\n",
              "<style>\n",
              "  .colab-df-quickchart {\n",
              "      --bg-color: #E8F0FE;\n",
              "      --fill-color: #1967D2;\n",
              "      --hover-bg-color: #E2EBFA;\n",
              "      --hover-fill-color: #174EA6;\n",
              "      --disabled-fill-color: #AAA;\n",
              "      --disabled-bg-color: #DDD;\n",
              "  }\n",
              "\n",
              "  [theme=dark] .colab-df-quickchart {\n",
              "      --bg-color: #3B4455;\n",
              "      --fill-color: #D2E3FC;\n",
              "      --hover-bg-color: #434B5C;\n",
              "      --hover-fill-color: #FFFFFF;\n",
              "      --disabled-bg-color: #3B4455;\n",
              "      --disabled-fill-color: #666;\n",
              "  }\n",
              "\n",
              "  .colab-df-quickchart {\n",
              "    background-color: var(--bg-color);\n",
              "    border: none;\n",
              "    border-radius: 50%;\n",
              "    cursor: pointer;\n",
              "    display: none;\n",
              "    fill: var(--fill-color);\n",
              "    height: 32px;\n",
              "    padding: 0;\n",
              "    width: 32px;\n",
              "  }\n",
              "\n",
              "  .colab-df-quickchart:hover {\n",
              "    background-color: var(--hover-bg-color);\n",
              "    box-shadow: 0 1px 2px rgba(60, 64, 67, 0.3), 0 1px 3px 1px rgba(60, 64, 67, 0.15);\n",
              "    fill: var(--button-hover-fill-color);\n",
              "  }\n",
              "\n",
              "  .colab-df-quickchart-complete:disabled,\n",
              "  .colab-df-quickchart-complete:disabled:hover {\n",
              "    background-color: var(--disabled-bg-color);\n",
              "    fill: var(--disabled-fill-color);\n",
              "    box-shadow: none;\n",
              "  }\n",
              "\n",
              "  .colab-df-spinner {\n",
              "    border: 2px solid var(--fill-color);\n",
              "    border-color: transparent;\n",
              "    border-bottom-color: var(--fill-color);\n",
              "    animation:\n",
              "      spin 1s steps(1) infinite;\n",
              "  }\n",
              "\n",
              "  @keyframes spin {\n",
              "    0% {\n",
              "      border-color: transparent;\n",
              "      border-bottom-color: var(--fill-color);\n",
              "      border-left-color: var(--fill-color);\n",
              "    }\n",
              "    20% {\n",
              "      border-color: transparent;\n",
              "      border-left-color: var(--fill-color);\n",
              "      border-top-color: var(--fill-color);\n",
              "    }\n",
              "    30% {\n",
              "      border-color: transparent;\n",
              "      border-left-color: var(--fill-color);\n",
              "      border-top-color: var(--fill-color);\n",
              "      border-right-color: var(--fill-color);\n",
              "    }\n",
              "    40% {\n",
              "      border-color: transparent;\n",
              "      border-right-color: var(--fill-color);\n",
              "      border-top-color: var(--fill-color);\n",
              "    }\n",
              "    60% {\n",
              "      border-color: transparent;\n",
              "      border-right-color: var(--fill-color);\n",
              "    }\n",
              "    80% {\n",
              "      border-color: transparent;\n",
              "      border-right-color: var(--fill-color);\n",
              "      border-bottom-color: var(--fill-color);\n",
              "    }\n",
              "    90% {\n",
              "      border-color: transparent;\n",
              "      border-bottom-color: var(--fill-color);\n",
              "    }\n",
              "  }\n",
              "</style>\n",
              "\n",
              "  <script>\n",
              "    async function quickchart(key) {\n",
              "      const quickchartButtonEl =\n",
              "        document.querySelector('#' + key + ' button');\n",
              "      quickchartButtonEl.disabled = true;  // To prevent multiple clicks.\n",
              "      quickchartButtonEl.classList.add('colab-df-spinner');\n",
              "      try {\n",
              "        const charts = await google.colab.kernel.invokeFunction(\n",
              "            'suggestCharts', [key], {});\n",
              "      } catch (error) {\n",
              "        console.error('Error during call to suggestCharts:', error);\n",
              "      }\n",
              "      quickchartButtonEl.classList.remove('colab-df-spinner');\n",
              "      quickchartButtonEl.classList.add('colab-df-quickchart-complete');\n",
              "    }\n",
              "    (() => {\n",
              "      let quickchartButtonEl =\n",
              "        document.querySelector('#df-1fc7dc41-2341-44c9-a338-f1a48098e07a button');\n",
              "      quickchartButtonEl.style.display =\n",
              "        google.colab.kernel.accessAllowed ? 'block' : 'none';\n",
              "    })();\n",
              "  </script>\n",
              "</div>\n",
              "    </div>\n",
              "  </div>\n"
            ],
            "application/vnd.google.colaboratory.intrinsic+json": {
              "type": "dataframe",
              "variable_name": "df",
              "summary": "{\n  \"name\": \"df\",\n  \"rows\": 506,\n  \"fields\": [\n    {\n      \"column\": \"CRIM\",\n      \"properties\": {\n        \"dtype\": \"number\",\n        \"std\": 8.60154510533249,\n        \"min\": 0.00632,\n        \"max\": 88.9762,\n        \"num_unique_values\": 504,\n        \"samples\": [\n          0.09178,\n          0.05644,\n          0.10574\n        ],\n        \"semantic_type\": \"\",\n        \"description\": \"\"\n      }\n    },\n    {\n      \"column\": \"ZN\",\n      \"properties\": {\n        \"dtype\": \"number\",\n        \"std\": 23.32245299451514,\n        \"min\": 0.0,\n        \"max\": 100.0,\n        \"num_unique_values\": 26,\n        \"samples\": [\n          25.0,\n          30.0,\n          18.0\n        ],\n        \"semantic_type\": \"\",\n        \"description\": \"\"\n      }\n    },\n    {\n      \"column\": \"INDUS\",\n      \"properties\": {\n        \"dtype\": \"number\",\n        \"std\": 6.860352940897585,\n        \"min\": 0.46,\n        \"max\": 27.74,\n        \"num_unique_values\": 76,\n        \"samples\": [\n          8.14,\n          1.47,\n          1.22\n        ],\n        \"semantic_type\": \"\",\n        \"description\": \"\"\n      }\n    },\n    {\n      \"column\": \"CHAS\",\n      \"properties\": {\n        \"dtype\": \"number\",\n        \"std\": 0,\n        \"min\": 0,\n        \"max\": 1,\n        \"num_unique_values\": 2,\n        \"samples\": [\n          1,\n          0\n        ],\n        \"semantic_type\": \"\",\n        \"description\": \"\"\n      }\n    },\n    {\n      \"column\": \"NOX\",\n      \"properties\": {\n        \"dtype\": \"number\",\n        \"std\": 0.11587767566755595,\n        \"min\": 0.385,\n        \"max\": 0.871,\n        \"num_unique_values\": 81,\n        \"samples\": [\n          0.401,\n          0.538\n        ],\n        \"semantic_type\": \"\",\n        \"description\": \"\"\n      }\n    },\n    {\n      \"column\": \"RM\",\n      \"properties\": {\n        \"dtype\": \"number\",\n        \"std\": 0.7026171434153233,\n        \"min\": 3.561,\n        \"max\": 8.78,\n        \"num_unique_values\": 446,\n        \"samples\": [\n          6.849,\n          4.88\n        ],\n        \"semantic_type\": \"\",\n        \"description\": \"\"\n      }\n    },\n    {\n      \"column\": \"AGE\",\n      \"properties\": {\n        \"dtype\": \"number\",\n        \"std\": 28.148861406903617,\n        \"min\": 2.9,\n        \"max\": 100.0,\n        \"num_unique_values\": 356,\n        \"samples\": [\n          51.8,\n          33.8\n        ],\n        \"semantic_type\": \"\",\n        \"description\": \"\"\n      }\n    },\n    {\n      \"column\": \"DIS\",\n      \"properties\": {\n        \"dtype\": \"number\",\n        \"std\": 2.105710126627611,\n        \"min\": 1.1296,\n        \"max\": 12.1265,\n        \"num_unique_values\": 412,\n        \"samples\": [\n          2.2955,\n          4.2515\n        ],\n        \"semantic_type\": \"\",\n        \"description\": \"\"\n      }\n    },\n    {\n      \"column\": \"RAD\",\n      \"properties\": {\n        \"dtype\": \"number\",\n        \"std\": 8,\n        \"min\": 1,\n        \"max\": 24,\n        \"num_unique_values\": 9,\n        \"samples\": [\n          7,\n          2\n        ],\n        \"semantic_type\": \"\",\n        \"description\": \"\"\n      }\n    },\n    {\n      \"column\": \"TAX\",\n      \"properties\": {\n        \"dtype\": \"number\",\n        \"std\": 168.53711605495903,\n        \"min\": 187.0,\n        \"max\": 711.0,\n        \"num_unique_values\": 66,\n        \"samples\": [\n          370.0,\n          666.0\n        ],\n        \"semantic_type\": \"\",\n        \"description\": \"\"\n      }\n    },\n    {\n      \"column\": \"PTRATIO\",\n      \"properties\": {\n        \"dtype\": \"number\",\n        \"std\": 2.1649455237144406,\n        \"min\": 12.6,\n        \"max\": 22.0,\n        \"num_unique_values\": 46,\n        \"samples\": [\n          19.6,\n          15.6\n        ],\n        \"semantic_type\": \"\",\n        \"description\": \"\"\n      }\n    },\n    {\n      \"column\": \"B\",\n      \"properties\": {\n        \"dtype\": \"number\",\n        \"std\": 91.29486438415783,\n        \"min\": 0.32,\n        \"max\": 396.9,\n        \"num_unique_values\": 357,\n        \"samples\": [\n          396.24,\n          395.11\n        ],\n        \"semantic_type\": \"\",\n        \"description\": \"\"\n      }\n    },\n    {\n      \"column\": \"LSTAT\",\n      \"properties\": {\n        \"dtype\": \"number\",\n        \"std\": 7.141061511348571,\n        \"min\": 1.73,\n        \"max\": 37.97,\n        \"num_unique_values\": 455,\n        \"samples\": [\n          6.15,\n          4.32\n        ],\n        \"semantic_type\": \"\",\n        \"description\": \"\"\n      }\n    },\n    {\n      \"column\": \"MEDV\",\n      \"properties\": {\n        \"dtype\": \"number\",\n        \"std\": 9.197104087379818,\n        \"min\": 5.0,\n        \"max\": 50.0,\n        \"num_unique_values\": 229,\n        \"samples\": [\n          14.1,\n          22.5\n        ],\n        \"semantic_type\": \"\",\n        \"description\": \"\"\n      }\n    }\n  ]\n}"
            }
          },
          "metadata": {},
          "execution_count": 39
        }
      ]
    },
    {
      "cell_type": "markdown",
      "source": [
        "3. Split the data into train and test set. Use random seed of 42."
      ],
      "metadata": {
        "id": "VSVbw3HnNDVr"
      }
    },
    {
      "cell_type": "code",
      "source": [
        "from sklearn.model_selection import train_test_split\n",
        "\n",
        "# Features and target\n",
        "y = df['MEDV']  # Series with the target variable\n",
        "X = df.drop( ['MEDV'], axis=1)\n",
        "\n",
        "# Split the data into training and testing sets\n",
        "df_X_train, df_X_test, df_y_train, df_y_test = train_test_split(X, y, test_size=0.2, random_state=42)"
      ],
      "metadata": {
        "id": "y9cJ0Rhd3Nxk"
      },
      "execution_count": null,
      "outputs": []
    },
    {
      "cell_type": "code",
      "source": [
        "X = df_X_train.to_numpy()\n",
        "y = df_y_train.to_numpy()"
      ],
      "metadata": {
        "id": "4dgru-8gMWYS"
      },
      "execution_count": null,
      "outputs": []
    },
    {
      "cell_type": "code",
      "source": [
        "X = np.hstack((np.ones(( len(y), 1)), X))"
      ],
      "metadata": {
        "id": "NaFanMrwgBmk"
      },
      "execution_count": null,
      "outputs": []
    },
    {
      "cell_type": "code",
      "source": [
        "print(np.shape(X))\n",
        "print(np.shape(y))"
      ],
      "metadata": {
        "colab": {
          "base_uri": "https://localhost:8080/"
        },
        "id": "39xwhCtC2CtK",
        "outputId": "7fc70c8f-8570-4416-daec-b85887f6fc29"
      },
      "execution_count": null,
      "outputs": [
        {
          "output_type": "stream",
          "name": "stdout",
          "text": [
            "(404, 14)\n",
            "(404,)\n"
          ]
        }
      ]
    },
    {
      "cell_type": "markdown",
      "source": [
        "4. Train the model so that the loss is less than 200."
      ],
      "metadata": {
        "id": "56yF-GkuazcL"
      }
    },
    {
      "cell_type": "code",
      "source": [
        "print(df.columns)\n",
        "nFeatures = len(df.columns)\n",
        "thetaArray1 = generateRandomNumber_nFeatures(42,nFeatures)"
      ],
      "metadata": {
        "id": "e_-s72-u4k_a",
        "colab": {
          "base_uri": "https://localhost:8080/"
        },
        "outputId": "1b793016-b6a0-4b36-9a45-5e12a1874999"
      },
      "execution_count": null,
      "outputs": [
        {
          "output_type": "stream",
          "name": "stdout",
          "text": [
            "Index(['CRIM', 'ZN', 'INDUS', 'CHAS', 'NOX', 'RM', 'AGE', 'DIS', 'RAD', 'TAX',\n",
            "       'PTRATIO', 'B', 'LSTAT', 'MEDV'],\n",
            "      dtype='object')\n"
          ]
        }
      ]
    },
    {
      "cell_type": "code",
      "source": [
        "def trainModel(iterations, learning_rate, thetaArray1):\n",
        "  loss, thetaArray = linearRegressionMultiParam(X,y,iterations, learning_rate, thetaArray1)\n",
        "  return [loss, thetaArray]"
      ],
      "metadata": {
        "id": "wtSVnrT0au1c"
      },
      "execution_count": null,
      "outputs": []
    },
    {
      "cell_type": "markdown",
      "source": [
        "5. Your task is to now successfully train the model. <font color='red'> Complete the code in the next cell. </font>"
      ],
      "metadata": {
        "id": "EVRKexY5j4qr"
      }
    },
    {
      "cell_type": "code",
      "source": [
        "# Complete this code below so that your model works!\n",
        "iterations = 10000\n",
        "learning_rate = 0.000001\n",
        "trainResult, finalThetaArray = trainModel( iterations,learning_rate, thetaArray1)\n",
        "assert trainResult < 100"
      ],
      "metadata": {
        "id": "D5ewD93dbMap"
      },
      "execution_count": null,
      "outputs": []
    },
    {
      "cell_type": "code",
      "source": [
        "loss, thetaArray = linearRegressionMultiParam(X,y,30000, 0.000000001,thetaArray1)\n",
        "loss"
      ],
      "metadata": {
        "colab": {
          "base_uri": "https://localhost:8080/"
        },
        "id": "DSWFLUL7Wwop",
        "outputId": "d8d6a23e-960c-4913-f7ea-d8335f00f6c9"
      },
      "execution_count": null,
      "outputs": [
        {
          "output_type": "execute_result",
          "data": {
            "text/plain": [
              "551.9222041108783"
            ]
          },
          "metadata": {},
          "execution_count": 47
        }
      ]
    },
    {
      "cell_type": "markdown",
      "source": [
        "5. Make prediction with the test data set."
      ],
      "metadata": {
        "id": "ioN1aRZecR0z"
      }
    },
    {
      "cell_type": "code",
      "source": [
        "X_test = df_X_test.to_numpy()\n",
        "y_test = df_y_test.to_numpy()\n",
        "X_test = np.hstack((np.ones(( len(y_test), 1)), X_test))"
      ],
      "metadata": {
        "id": "BaPuYCq4XAp7"
      },
      "execution_count": null,
      "outputs": []
    },
    {
      "cell_type": "code",
      "source": [
        "thetaArray.shape"
      ],
      "metadata": {
        "colab": {
          "base_uri": "https://localhost:8080/"
        },
        "id": "V4-RWgnEgzon",
        "outputId": "a4485b65-4934-40e3-9290-e0b5db1c1aee"
      },
      "execution_count": null,
      "outputs": [
        {
          "output_type": "execute_result",
          "data": {
            "text/plain": [
              "(14,)"
            ]
          },
          "metadata": {},
          "execution_count": 49
        }
      ]
    },
    {
      "cell_type": "code",
      "source": [
        "h = prediction_nFeatures(finalThetaArray, X_test)"
      ],
      "metadata": {
        "id": "rPR6Gp8oc2ql"
      },
      "execution_count": null,
      "outputs": []
    },
    {
      "cell_type": "code",
      "source": [
        "loss = mseLoss_nFeatures(h,y_test, X)\n",
        "loss"
      ],
      "metadata": {
        "colab": {
          "base_uri": "https://localhost:8080/"
        },
        "id": "EsD2hguBMa7o",
        "outputId": "772540ef-bf67-4d0a-b295-6bef3ef8a303"
      },
      "execution_count": null,
      "outputs": [
        {
          "output_type": "execute_result",
          "data": {
            "text/plain": [
              "10.287323683872854"
            ]
          },
          "metadata": {},
          "execution_count": 51
        }
      ]
    },
    {
      "cell_type": "markdown",
      "source": [
        "6. Make sure that your test loss is less than 100. <font color='red'> Final bit now! You've done great to get to this point. Get over the last hurdle and get mse < 100 for the test set. </font>\n"
      ],
      "metadata": {
        "id": "vNdk9cBmkhAx"
      }
    },
    {
      "cell_type": "code",
      "source": [
        "# Make sure that your test set mse loss is less than 100.\n",
        "assert mseLoss_nFeatures(h,y_test, X_test) < 100"
      ],
      "metadata": {
        "id": "DR4c3IaHeipX"
      },
      "execution_count": null,
      "outputs": []
    },
    {
      "cell_type": "code",
      "source": [],
      "metadata": {
        "id": "dAlk0niAigkS"
      },
      "execution_count": null,
      "outputs": []
    }
  ]
}